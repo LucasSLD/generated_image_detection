{
 "cells": [
  {
   "cell_type": "code",
   "execution_count": 26,
   "metadata": {},
   "outputs": [],
   "source": [
    "import sys\n",
    "sys.path.append(\"../model\")\n",
    "from MLP_classifier import MultiClassClassifier\n",
    "sys.path.append(\"../tools\")\n",
    "import open_clip\n",
    "import torch\n",
    "import os\n",
    "from PIL import Image\n",
    "from dataset import TaskA\n",
    "from pathlib import Path\n",
    "import pandas as pd"
   ]
  },
  {
   "cell_type": "markdown",
   "metadata": {},
   "source": [
    "### ATTENTION : 0 -> image FAKE et 1 -> image REELLE (voir constant.py REAL_LABEL et FAKE_LABEL) -> c'est l'opposé des labels utilisés dans le challenge !!! Il faut inverser les prédictions pour obtenir le résultat souhaité (c'est ce que j'ai fait dans la dernière cellule)"
   ]
  },
  {
   "cell_type": "code",
   "execution_count": 2,
   "metadata": {},
   "outputs": [],
   "source": [
    "device = \"cuda:0\""
   ]
  },
  {
   "cell_type": "code",
   "execution_count": 16,
   "metadata": {},
   "outputs": [
    {
     "data": {
      "text/plain": [
       "MultiClassClassifier(\n",
       "  (fc1): Linear(in_features=768, out_features=512, bias=True)\n",
       "  (fc2): Linear(in_features=512, out_features=2, bias=True)\n",
       "  (act): ReLU()\n",
       ")"
      ]
     },
     "execution_count": 16,
     "metadata": {},
     "output_type": "execute_result"
    }
   ],
   "source": [
    "model = MultiClassClassifier(n_classes=2).to(device)\n",
    "model.load_state_dict(torch.load(\"../model/checkpoints/binary_train_real_fake_2k_fine_tune_meta_test.pt\"))\n",
    "model.eval()"
   ]
  },
  {
   "cell_type": "markdown",
   "metadata": {},
   "source": [
    "### Extracting clip features"
   ]
  },
  {
   "cell_type": "code",
   "execution_count": 21,
   "metadata": {},
   "outputs": [],
   "source": [
    "data = TaskA(load_from_disk=False,\n",
    "             path=\"/data3/TEST/A/\", # replace with new path\n",
    "             device=device)"
   ]
  },
  {
   "cell_type": "code",
   "execution_count": 36,
   "metadata": {},
   "outputs": [
    {
     "data": {
      "text/html": [
       "<div>\n",
       "<style scoped>\n",
       "    .dataframe tbody tr th:only-of-type {\n",
       "        vertical-align: middle;\n",
       "    }\n",
       "\n",
       "    .dataframe tbody tr th {\n",
       "        vertical-align: top;\n",
       "    }\n",
       "\n",
       "    .dataframe thead th {\n",
       "        text-align: right;\n",
       "    }\n",
       "</style>\n",
       "<table border=\"1\" class=\"dataframe\">\n",
       "  <thead>\n",
       "    <tr style=\"text-align: right;\">\n",
       "      <th></th>\n",
       "      <th>dir_name</th>\n",
       "      <th>image_name</th>\n",
       "      <th>pred</th>\n",
       "    </tr>\n",
       "  </thead>\n",
       "  <tbody>\n",
       "    <tr>\n",
       "      <th>0</th>\n",
       "      <td>/data3/TEST/A</td>\n",
       "      <td>A_005fbfn6.png</td>\n",
       "      <td>NaN</td>\n",
       "    </tr>\n",
       "    <tr>\n",
       "      <th>1</th>\n",
       "      <td>/data3/TEST/A</td>\n",
       "      <td>A_0060ug9j.png</td>\n",
       "      <td>NaN</td>\n",
       "    </tr>\n",
       "    <tr>\n",
       "      <th>2</th>\n",
       "      <td>/data3/TEST/A</td>\n",
       "      <td>A_00el4hwr.png</td>\n",
       "      <td>NaN</td>\n",
       "    </tr>\n",
       "    <tr>\n",
       "      <th>3</th>\n",
       "      <td>/data3/TEST/A</td>\n",
       "      <td>A_00h6ucsm.png</td>\n",
       "      <td>NaN</td>\n",
       "    </tr>\n",
       "    <tr>\n",
       "      <th>4</th>\n",
       "      <td>/data3/TEST/A</td>\n",
       "      <td>A_00hzao5p.png</td>\n",
       "      <td>NaN</td>\n",
       "    </tr>\n",
       "  </tbody>\n",
       "</table>\n",
       "</div>"
      ],
      "text/plain": [
       "        dir_name      image_name pred\n",
       "0  /data3/TEST/A  A_005fbfn6.png  NaN\n",
       "1  /data3/TEST/A  A_0060ug9j.png  NaN\n",
       "2  /data3/TEST/A  A_00el4hwr.png  NaN\n",
       "3  /data3/TEST/A  A_00h6ucsm.png  NaN\n",
       "4  /data3/TEST/A  A_00hzao5p.png  NaN"
      ]
     },
     "execution_count": 36,
     "metadata": {},
     "output_type": "execute_result"
    }
   ],
   "source": [
    "path_meta = \"/data3/TEST/A/\"\n",
    "\n",
    "path = Path(path_meta)\n",
    "im_path = sorted(list(path.rglob('*.jpg'))+list(path.rglob('*.jpeg'))+list(path.rglob('*.png')))\n",
    "im_names = [p.name for p in im_path]\n",
    "im_dir = [str(p.parents[0]) for p in im_path]\n",
    "\n",
    "df = pd.DataFrame(columns=['dir_name','image_name','pred'])\n",
    "df['image_name'] = im_names\n",
    "df['dir_name'] = im_dir\n",
    "\n",
    "df.head()"
   ]
  },
  {
   "cell_type": "markdown",
   "metadata": {},
   "source": [
    "### Predictions"
   ]
  },
  {
   "cell_type": "code",
   "execution_count": 45,
   "metadata": {},
   "outputs": [
    {
     "data": {
      "text/html": [
       "<div>\n",
       "<style scoped>\n",
       "    .dataframe tbody tr th:only-of-type {\n",
       "        vertical-align: middle;\n",
       "    }\n",
       "\n",
       "    .dataframe tbody tr th {\n",
       "        vertical-align: top;\n",
       "    }\n",
       "\n",
       "    .dataframe thead th {\n",
       "        text-align: right;\n",
       "    }\n",
       "</style>\n",
       "<table border=\"1\" class=\"dataframe\">\n",
       "  <thead>\n",
       "    <tr style=\"text-align: right;\">\n",
       "      <th></th>\n",
       "      <th>dir_name</th>\n",
       "      <th>image_name</th>\n",
       "      <th>pred</th>\n",
       "    </tr>\n",
       "  </thead>\n",
       "  <tbody>\n",
       "    <tr>\n",
       "      <th>0</th>\n",
       "      <td>/data3/TEST/A</td>\n",
       "      <td>A_005fbfn6.png</td>\n",
       "      <td>1</td>\n",
       "    </tr>\n",
       "    <tr>\n",
       "      <th>1</th>\n",
       "      <td>/data3/TEST/A</td>\n",
       "      <td>A_0060ug9j.png</td>\n",
       "      <td>1</td>\n",
       "    </tr>\n",
       "    <tr>\n",
       "      <th>2</th>\n",
       "      <td>/data3/TEST/A</td>\n",
       "      <td>A_00el4hwr.png</td>\n",
       "      <td>1</td>\n",
       "    </tr>\n",
       "    <tr>\n",
       "      <th>3</th>\n",
       "      <td>/data3/TEST/A</td>\n",
       "      <td>A_00h6ucsm.png</td>\n",
       "      <td>1</td>\n",
       "    </tr>\n",
       "    <tr>\n",
       "      <th>4</th>\n",
       "      <td>/data3/TEST/A</td>\n",
       "      <td>A_00hzao5p.png</td>\n",
       "      <td>0</td>\n",
       "    </tr>\n",
       "  </tbody>\n",
       "</table>\n",
       "</div>"
      ],
      "text/plain": [
       "        dir_name      image_name  pred\n",
       "0  /data3/TEST/A  A_005fbfn6.png     1\n",
       "1  /data3/TEST/A  A_0060ug9j.png     1\n",
       "2  /data3/TEST/A  A_00el4hwr.png     1\n",
       "3  /data3/TEST/A  A_00h6ucsm.png     1\n",
       "4  /data3/TEST/A  A_00hzao5p.png     0"
      ]
     },
     "execution_count": 45,
     "metadata": {},
     "output_type": "execute_result"
    }
   ],
   "source": [
    "pred_list = []\n",
    "for index, row in df.iterrows():\n",
    "    with torch.no_grad():\n",
    "        # pred = 1 - model.predict... -> label 0 = real img and label 1 = fake image\n",
    "        pred = 1 - model.predict_binary(data.features[row['image_name']].to(device),device,True) \n",
    "    pred_list.append(pred.cpu().item())\n",
    "\n",
    "df['pred']= pred_list\n",
    "df.head(5)\n",
    "    "
   ]
  }
 ],
 "metadata": {
  "kernelspec": {
   "display_name": "Python 3",
   "language": "python",
   "name": "python3"
  },
  "language_info": {
   "codemirror_mode": {
    "name": "ipython",
    "version": 3
   },
   "file_extension": ".py",
   "mimetype": "text/x-python",
   "name": "python",
   "nbconvert_exporter": "python",
   "pygments_lexer": "ipython3",
   "version": "3.11.9"
  }
 },
 "nbformat": 4,
 "nbformat_minor": 2
}
