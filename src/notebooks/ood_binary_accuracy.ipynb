{
 "cells": [
  {
   "cell_type": "code",
   "execution_count": 1,
   "metadata": {},
   "outputs": [],
   "source": [
    "%load_ext autoreload\n",
    "%autoreload 2"
   ]
  },
  {
   "cell_type": "code",
   "execution_count": 2,
   "metadata": {},
   "outputs": [
    {
     "name": "stderr",
     "output_type": "stream",
     "text": [
      "/home/lsaland/micromamba/envs/clip/lib/python3.11/site-packages/tqdm/auto.py:21: TqdmWarning: IProgress not found. Please update jupyter and ipywidgets. See https://ipywidgets.readthedocs.io/en/stable/user_install.html\n",
      "  from .autonotebook import tqdm as notebook_tqdm\n"
     ]
    }
   ],
   "source": [
    "import sys\n",
    "sys.path.append(\"../model\")\n",
    "from MLP_classifier import MultiClassClassifier\n",
    "from dataset import OOD, DeepFakeDatasetFastLoad\n",
    "import torch\n",
    "from torch.utils.data import DataLoader\n",
    "sys.path.append(\"../tools\")\n",
    "from constants import INT_TO_GEN_DATA3, GEN_TO_INT_DATA3"
   ]
  },
  {
   "cell_type": "code",
   "execution_count": 3,
   "metadata": {},
   "outputs": [],
   "source": [
    "ood = OOD(\"../../data/ood.pt\",load_preprocessed=True)"
   ]
  },
  {
   "cell_type": "code",
   "execution_count": 4,
   "metadata": {},
   "outputs": [],
   "source": [
    "device = \"cuda\"\n",
    "model = MultiClassClassifier()\n",
    "model.load_state_dict(torch.load(\"../model/checkpoints/multiclass_1000epochs_0.08loss.pt\"))\n",
    "model.eval()\n",
    "model.to(device)\n",
    "model.set_generators_maps(gen_to_int=GEN_TO_INT_DATA3,int_to_gen=INT_TO_GEN_DATA3)"
   ]
  },
  {
   "cell_type": "code",
   "execution_count": 26,
   "metadata": {},
   "outputs": [],
   "source": [
    "d = {}\n",
    "for gen in ood.int_to_gen:\n",
    "    d[ood.int_to_gen[gen]] = {\"features\":ood.features[ood.gen == gen], \n",
    "                              'label':ood.label[ood.gen == gen]}"
   ]
  },
  {
   "cell_type": "code",
   "execution_count": 35,
   "metadata": {},
   "outputs": [],
   "source": [
    "pred = {}\n",
    "for gen in d:\n",
    "    pred[gen] = torch.mean(torch.eq(d[gen][\"label\"],model.predict_binary(d[gen][\"features\"],device=device).cpu()).float()).item()"
   ]
  },
  {
   "cell_type": "code",
   "execution_count": 36,
   "metadata": {},
   "outputs": [
    {
     "data": {
      "text/plain": [
       "{'null': 0.8299999833106995,\n",
       " 'Lexica': 0.699999988079071,\n",
       " 'Ideogram': 0.7699999809265137,\n",
       " 'Leonardo': 0.75,\n",
       " 'Copilot': 0.949999988079071,\n",
       " 'img2img_SD1.5': 0.15000000596046448,\n",
       " 'Photoshop_generativemagnification': 0.14000000059604645,\n",
       " 'Photoshop_generativefill': 0.20000000298023224}"
      ]
     },
     "execution_count": 36,
     "metadata": {},
     "output_type": "execute_result"
    }
   ],
   "source": [
    "pred"
   ]
  }
 ],
 "metadata": {
  "kernelspec": {
   "display_name": "Python 3",
   "language": "python",
   "name": "python3"
  },
  "language_info": {
   "codemirror_mode": {
    "name": "ipython",
    "version": 3
   },
   "file_extension": ".py",
   "mimetype": "text/x-python",
   "name": "python",
   "nbconvert_exporter": "python",
   "pygments_lexer": "ipython3",
   "version": "3.11.9"
  }
 },
 "nbformat": 4,
 "nbformat_minor": 2
}
