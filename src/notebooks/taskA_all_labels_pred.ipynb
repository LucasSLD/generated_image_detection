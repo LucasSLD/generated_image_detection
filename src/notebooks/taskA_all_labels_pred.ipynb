{
 "cells": [
  {
   "cell_type": "code",
   "execution_count": 1,
   "metadata": {},
   "outputs": [],
   "source": [
    "%load_ext autoreload\n",
    "%autoreload 2"
   ]
  },
  {
   "cell_type": "code",
   "execution_count": 2,
   "metadata": {},
   "outputs": [
    {
     "name": "stderr",
     "output_type": "stream",
     "text": [
      "/home/lsaland/micromamba/envs/clip/lib/python3.11/site-packages/tqdm/auto.py:21: TqdmWarning: IProgress not found. Please update jupyter and ipywidgets. See https://ipywidgets.readthedocs.io/en/stable/user_install.html\n",
      "  from .autonotebook import tqdm as notebook_tqdm\n",
      "/home/lsaland/micromamba/envs/clip/lib/python3.11/site-packages/diffusers/models/transformers/transformer_2d.py:34: FutureWarning: `Transformer2DModelOutput` is deprecated and will be removed in version 1.0.0. Importing `Transformer2DModelOutput` from `diffusers.models.transformer_2d` is deprecated and this will be removed in a future version. Please use `from diffusers.models.modeling_outputs import Transformer2DModelOutput`, instead.\n",
      "  deprecate(\"Transformer2DModelOutput\", \"1.0.0\", deprecation_message)\n",
      "Loading pipeline components...: 100%|██████████| 7/7 [00:00<00:00,  7.90it/s]\n"
     ]
    }
   ],
   "source": [
    "import pandas as pd\n",
    "from matplotlib import pyplot as plt\n",
    "from pathlib import Path\n",
    "import numpy as np\n",
    "import sys\n",
    "sys.path.append(\"../model/\")\n",
    "sys.path.append(\"../tools/\")\n",
    "from MLP_classifier import MultiClassClassifier\n",
    "from dataset import TaskAWithLabel, SimpleDataset\n",
    "from constants import SEED\n",
    "import torch\n",
    "import torch.nn as nn\n",
    "from torch.utils.data import DataLoader\n",
    "from tqdm import tqdm"
   ]
  },
  {
   "cell_type": "code",
   "execution_count": null,
   "metadata": {},
   "outputs": [],
   "source": [
    "device = \"cuda:0\"\n",
    "\n",
    "model_submission = MultiClassClassifier(n_classes=2).to(device)\n",
    "model_fine_tuned = MultiClassClassifier(n_classes=2).to(device)\n",
    "model_clip_dino  = MultiClassClassifier(n_classes=2).to(device)\n",
    "\n",
    "model_submission.load_state_dict(torch.load(\"../model/checkpoints/binary_train_real_fake_2k_fine_tune_meta_test.pt\"))\n",
    "model_submission.eval()\n",
    "\n",
    "test_data_clip = TaskAWithLabel(path_to_csv=\"../../misc/scanFinal.csv\",\n",
    "                                      path_to_taskA=\"/data4/saland/data/taskA.pt\")\n",
    "train"
   ]
  }
 ],
 "metadata": {
  "kernelspec": {
   "display_name": "Python 3",
   "language": "python",
   "name": "python3"
  },
  "language_info": {
   "codemirror_mode": {
    "name": "ipython",
    "version": 3
   },
   "file_extension": ".py",
   "mimetype": "text/x-python",
   "name": "python",
   "nbconvert_exporter": "python",
   "pygments_lexer": "ipython3",
   "version": "3.11.9"
  }
 },
 "nbformat": 4,
 "nbformat_minor": 2
}
