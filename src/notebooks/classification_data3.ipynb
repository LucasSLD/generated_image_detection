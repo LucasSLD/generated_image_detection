{
 "cells": [
  {
   "cell_type": "code",
   "execution_count": 1,
   "metadata": {},
   "outputs": [],
   "source": [
    "%load_ext autoreload\n",
    "%autoreload 2"
   ]
  },
  {
   "cell_type": "code",
   "execution_count": 2,
   "metadata": {},
   "outputs": [
    {
     "name": "stderr",
     "output_type": "stream",
     "text": [
      "/home/lsaland/micromamba/envs/clip/lib/python3.11/site-packages/tqdm/auto.py:21: TqdmWarning: IProgress not found. Please update jupyter and ipywidgets. See https://ipywidgets.readthedocs.io/en/stable/user_install.html\n",
      "  from .autonotebook import tqdm as notebook_tqdm\n"
     ]
    }
   ],
   "source": [
    "import sys\n",
    "sys.path.append(\"../model\")\n",
    "sys.path.append(\"../tools\")\n",
    "from dataset import DeepFakeDataset\n",
    "from constants import SEED\n",
    "from sklearn.multiclass import OneVsOneClassifier\n",
    "from sklearn.svm import LinearSVC\n",
    "from sklearn.model_selection import train_test_split\n",
    "from utils import load_synthbuster_balanced, load_data_features\n",
    "import numpy as np"
   ]
  },
  {
   "cell_type": "markdown",
   "metadata": {},
   "source": [
    "## Binary classification performance with multiclassifier (data3/AID)"
   ]
  },
  {
   "cell_type": "code",
   "execution_count": 3,
   "metadata": {},
   "outputs": [
    {
     "name": "stderr",
     "output_type": "stream",
     "text": [
      "Processing images from miniDallEUP: 100%|██████████| 100/100 [00:01<00:00, 52.87it/s]\n",
      "Processing images from GlideUP: 100%|██████████| 100/100 [00:01<00:00, 75.09it/s]\n",
      "Processing images from LCM_Dreamshaper-v7-vRC: 100%|██████████| 100/100 [00:01<00:00, 56.37it/s]\n",
      "Processing images from Kandinsky-2.2-vRC: 100%|██████████| 100/100 [00:01<00:00, 69.08it/s]\n",
      "Processing images from DF-XL-vRC: 100%|██████████| 100/100 [00:06<00:00, 16.54it/s]\n",
      "Processing images from pixartSigma-vRC: 100%|██████████| 100/100 [00:05<00:00, 18.12it/s]\n",
      "Processing images from animagineXL3-1-vRC: 100%|██████████| 100/100 [00:05<00:00, 17.81it/s]\n",
      "Processing images from megaDallEUP: 100%|██████████| 100/100 [00:01<00:00, 54.11it/s]\n",
      "Processing images from stable-xl-vRC: 100%|██████████| 100/100 [00:01<00:00, 51.44it/s]\n",
      "Processing images from stable-2-1-vRC: 100%|██████████| 100/100 [00:04<00:00, 24.40it/s]\n",
      "Processing images from dreamlike-vRC: 100%|██████████| 100/100 [00:03<00:00, 25.08it/s]\n",
      "Processing images from playground-v2-vRC: 100%|██████████| 100/100 [00:06<00:00, 14.84it/s]\n",
      "Processing images from gigaGAN: 100%|██████████| 100/100 [00:06<00:00, 14.68it/s]\n",
      "Processing images from LafitteUP: 100%|██████████| 100/100 [00:01<00:00, 68.13it/s]\n",
      "Processing images from playground-v2-5-vRC: 100%|██████████| 100/100 [00:06<00:00, 15.11it/s]\n",
      "Processing images from stable-1-5-vRC: 100%|██████████| 100/100 [00:01<00:00, 62.28it/s]\n",
      "Processing images from Kandinsky-2.1-vRC: 100%|██████████| 100/100 [00:01<00:00, 69.01it/s]\n",
      "Processing images from Flickr2048: 100%|██████████| 1700/1700 [04:13<00:00,  6.72it/s]\n"
     ]
    },
    {
     "name": "stdout",
     "output_type": "stream",
     "text": [
      "2.749604864\n",
      "36.198940672\n",
      "2.749604864\n",
      "2.959081472\n"
     ]
    },
    {
     "name": "stderr",
     "output_type": "stream",
     "text": [
      "/home/lsaland/micromamba/envs/clip/lib/python3.11/site-packages/torch/cuda/memory.py:440: FutureWarning: torch.cuda.memory_cached has been renamed to torch.cuda.memory_reserved\n",
      "  warnings.warn(\n"
     ]
    }
   ],
   "source": [
    "clf = OneVsOneClassifier(LinearSVC(dual=\"auto\"))\n",
    "d = DeepFakeDataset(\"/data3/AID\",img_per_gen=100,balance_real_fake=True)"
   ]
  },
  {
   "cell_type": "code",
   "execution_count": 4,
   "metadata": {},
   "outputs": [
    {
     "name": "stdout",
     "output_type": "stream",
     "text": [
      "3400\n",
      "18\n"
     ]
    }
   ],
   "source": [
    "print(len(d))\n",
    "print(len(d.gen_map))"
   ]
  },
  {
   "cell_type": "code",
   "execution_count": 5,
   "metadata": {},
   "outputs": [],
   "source": [
    "X, y = d.features, d.label\n",
    "X_train, X_test, y_train, y_test = train_test_split(X,y,test_size=.2,random_state=SEED,shuffle=True)\n",
    "\n",
    "clf = OneVsOneClassifier(LinearSVC(dual=\"auto\"))"
   ]
  },
  {
   "cell_type": "code",
   "execution_count": 7,
   "metadata": {},
   "outputs": [
    {
     "name": "stdout",
     "output_type": "stream",
     "text": [
      "0.9352941176470588\n"
     ]
    }
   ],
   "source": [
    "print(clf.fit(X_train,y_train).score(X_test,y_test))"
   ]
  },
  {
   "cell_type": "markdown",
   "metadata": {},
   "source": [
    "### Test on synthbuster"
   ]
  },
  {
   "cell_type": "code",
   "execution_count": 8,
   "metadata": {},
   "outputs": [],
   "source": [
    "X_sb, y_sb = load_synthbuster_balanced(\"../../data/synthbuster_test\",\n",
    "                                       binary_classification=True,\n",
    "                                       balance_real_fake=True)"
   ]
  },
  {
   "cell_type": "code",
   "execution_count": 9,
   "metadata": {},
   "outputs": [
    {
     "data": {
      "text/plain": [
       "0.37505018065034124"
      ]
     },
     "execution_count": 9,
     "metadata": {},
     "output_type": "execute_result"
    }
   ],
   "source": [
    "clf.fit(X_train,y_train).score(X_sb,y_sb)"
   ]
  },
  {
   "cell_type": "code",
   "execution_count": 10,
   "metadata": {},
   "outputs": [],
   "source": [
    "X_40, y_40 = load_data_features(\"../../data/big_QF_90_features\",split=\"test\")"
   ]
  },
  {
   "cell_type": "code",
   "execution_count": 11,
   "metadata": {},
   "outputs": [
    {
     "data": {
      "text/plain": [
       "0.6025"
      ]
     },
     "execution_count": 11,
     "metadata": {},
     "output_type": "execute_result"
    }
   ],
   "source": [
    "clf.fit(X_train,y_train).score(X_40,y_40)"
   ]
  }
 ],
 "metadata": {
  "kernelspec": {
   "display_name": "Python 3",
   "language": "python",
   "name": "python3"
  },
  "language_info": {
   "codemirror_mode": {
    "name": "ipython",
    "version": 3
   },
   "file_extension": ".py",
   "mimetype": "text/x-python",
   "name": "python",
   "nbconvert_exporter": "python",
   "pygments_lexer": "ipython3",
   "version": "3.11.9"
  }
 },
 "nbformat": 4,
 "nbformat_minor": 2
}
