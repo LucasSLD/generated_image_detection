{
 "cells": [
  {
   "cell_type": "code",
   "execution_count": 1,
   "metadata": {},
   "outputs": [],
   "source": [
    "%load_ext autoreload\n",
    "%autoreload 2"
   ]
  },
  {
   "cell_type": "code",
   "execution_count": 2,
   "metadata": {},
   "outputs": [
    {
     "name": "stderr",
     "output_type": "stream",
     "text": [
      "/home/lsaland/micromamba/envs/clip/lib/python3.11/site-packages/tqdm/auto.py:21: TqdmWarning: IProgress not found. Please update jupyter and ipywidgets. See https://ipywidgets.readthedocs.io/en/stable/user_install.html\n",
      "  from .autonotebook import tqdm as notebook_tqdm\n",
      "/home/lsaland/micromamba/envs/clip/lib/python3.11/site-packages/diffusers/models/transformers/transformer_2d.py:34: FutureWarning: `Transformer2DModelOutput` is deprecated and will be removed in version 1.0.0. Importing `Transformer2DModelOutput` from `diffusers.models.transformer_2d` is deprecated and this will be removed in a future version. Please use `from diffusers.models.modeling_outputs import Transformer2DModelOutput`, instead.\n",
      "  deprecate(\"Transformer2DModelOutput\", \"1.0.0\", deprecation_message)\n",
      "Loading pipeline components...: 100%|██████████| 7/7 [00:00<00:00, 11.02it/s]\n"
     ]
    }
   ],
   "source": [
    "import pandas as pd\n",
    "from matplotlib import pyplot as plt\n",
    "from pathlib import Path\n",
    "import numpy as np\n",
    "import sys\n",
    "sys.path.append(\"../model/\")\n",
    "sys.path.append(\"../tools/\")\n",
    "from MLP_classifier import MultiClassClassifier\n",
    "from dataset import TaskA, SimpleDataset\n",
    "from constants import SEED\n",
    "import torch\n",
    "import torch.nn as nn\n",
    "from torch.utils.data import DataLoader\n",
    "from tqdm import tqdm"
   ]
  },
  {
   "cell_type": "code",
   "execution_count": 11,
   "metadata": {},
   "outputs": [],
   "source": [
    "device = \"cuda:0\"\n",
    "clf = MultiClassClassifier(n_classes=2).to(device)\n",
    "clf.load_state_dict(torch.load(\"../model/checkpoints/binary_train_real_fake_2k_fine_tune_meta_test.pt\"))\n",
    "clf.eval()\n",
    "\n",
    "data = TaskA(load_from_disk=True,path=\"/data4/saland/data/taskA.pt\")\n",
    "data_csv = pd.read_csv(\"../../docs/scan.csv\").iloc[:3333]"
   ]
  },
  {
   "cell_type": "code",
   "execution_count": 12,
   "metadata": {},
   "outputs": [
    {
     "data": {
      "text/html": [
       "<div>\n",
       "<style scoped>\n",
       "    .dataframe tbody tr th:only-of-type {\n",
       "        vertical-align: middle;\n",
       "    }\n",
       "\n",
       "    .dataframe tbody tr th {\n",
       "        vertical-align: top;\n",
       "    }\n",
       "\n",
       "    .dataframe thead th {\n",
       "        text-align: right;\n",
       "    }\n",
       "</style>\n",
       "<table border=\"1\" class=\"dataframe\">\n",
       "  <thead>\n",
       "    <tr style=\"text-align: right;\">\n",
       "      <th></th>\n",
       "      <th>Unnamed: 0</th>\n",
       "      <th>image_name</th>\n",
       "      <th>class</th>\n",
       "    </tr>\n",
       "  </thead>\n",
       "  <tbody>\n",
       "    <tr>\n",
       "      <th>0</th>\n",
       "      <td>0</td>\n",
       "      <td>A_005fbfn6.png</td>\n",
       "      <td>1</td>\n",
       "    </tr>\n",
       "    <tr>\n",
       "      <th>1</th>\n",
       "      <td>1</td>\n",
       "      <td>A_0060ug9j.png</td>\n",
       "      <td>1</td>\n",
       "    </tr>\n",
       "    <tr>\n",
       "      <th>2</th>\n",
       "      <td>2</td>\n",
       "      <td>A_00el4hwr.png</td>\n",
       "      <td>0</td>\n",
       "    </tr>\n",
       "    <tr>\n",
       "      <th>3</th>\n",
       "      <td>3</td>\n",
       "      <td>A_00h6ucsm.png</td>\n",
       "      <td>1</td>\n",
       "    </tr>\n",
       "    <tr>\n",
       "      <th>4</th>\n",
       "      <td>4</td>\n",
       "      <td>A_00hzao5p.png</td>\n",
       "      <td>0</td>\n",
       "    </tr>\n",
       "    <tr>\n",
       "      <th>5</th>\n",
       "      <td>5</td>\n",
       "      <td>A_00jghend.png</td>\n",
       "      <td>1</td>\n",
       "    </tr>\n",
       "    <tr>\n",
       "      <th>6</th>\n",
       "      <td>6</td>\n",
       "      <td>A_00kj5fih.png</td>\n",
       "      <td>1</td>\n",
       "    </tr>\n",
       "    <tr>\n",
       "      <th>7</th>\n",
       "      <td>7</td>\n",
       "      <td>A_00ww8c88.png</td>\n",
       "      <td>1</td>\n",
       "    </tr>\n",
       "    <tr>\n",
       "      <th>8</th>\n",
       "      <td>8</td>\n",
       "      <td>A_0102obzc.png</td>\n",
       "      <td>1</td>\n",
       "    </tr>\n",
       "    <tr>\n",
       "      <th>9</th>\n",
       "      <td>9</td>\n",
       "      <td>A_012n784o.png</td>\n",
       "      <td>0</td>\n",
       "    </tr>\n",
       "    <tr>\n",
       "      <th>10</th>\n",
       "      <td>10</td>\n",
       "      <td>A_014yzlf7.png</td>\n",
       "      <td>1</td>\n",
       "    </tr>\n",
       "    <tr>\n",
       "      <th>11</th>\n",
       "      <td>11</td>\n",
       "      <td>A_016d3o4o.png</td>\n",
       "      <td>1</td>\n",
       "    </tr>\n",
       "    <tr>\n",
       "      <th>12</th>\n",
       "      <td>12</td>\n",
       "      <td>A_01cays4r.png</td>\n",
       "      <td>1</td>\n",
       "    </tr>\n",
       "    <tr>\n",
       "      <th>13</th>\n",
       "      <td>13</td>\n",
       "      <td>A_01heykmf.png</td>\n",
       "      <td>1</td>\n",
       "    </tr>\n",
       "    <tr>\n",
       "      <th>14</th>\n",
       "      <td>14</td>\n",
       "      <td>A_01hr8c4e.png</td>\n",
       "      <td>1</td>\n",
       "    </tr>\n",
       "  </tbody>\n",
       "</table>\n",
       "</div>"
      ],
      "text/plain": [
       "    Unnamed: 0      image_name  class\n",
       "0            0  A_005fbfn6.png      1\n",
       "1            1  A_0060ug9j.png      1\n",
       "2            2  A_00el4hwr.png      0\n",
       "3            3  A_00h6ucsm.png      1\n",
       "4            4  A_00hzao5p.png      0\n",
       "5            5  A_00jghend.png      1\n",
       "6            6  A_00kj5fih.png      1\n",
       "7            7  A_00ww8c88.png      1\n",
       "8            8  A_0102obzc.png      1\n",
       "9            9  A_012n784o.png      0\n",
       "10          10  A_014yzlf7.png      1\n",
       "11          11  A_016d3o4o.png      1\n",
       "12          12  A_01cays4r.png      1\n",
       "13          13  A_01heykmf.png      1\n",
       "14          14  A_01hr8c4e.png      1"
      ]
     },
     "execution_count": 12,
     "metadata": {},
     "output_type": "execute_result"
    }
   ],
   "source": [
    "data_csv.head(15)"
   ]
  },
  {
   "cell_type": "code",
   "execution_count": 13,
   "metadata": {},
   "outputs": [
    {
     "name": "stdout",
     "output_type": "stream",
     "text": [
      "accuracy: 0.8898889888988899\n"
     ]
    }
   ],
   "source": [
    "pred_true = {name: {\"predicted\": None, \"true\": None} for name in data.image_name}\n",
    "correctness = []\n",
    "sorted_names = sorted(data.image_name)\n",
    "\n",
    "for name in sorted_names[:3333]:\n",
    "    true_label = data_csv[data_csv[\"image_name\"] == name][\"class\"].item()\n",
    "    with torch.no_grad():\n",
    "        predicted_label = 1 - torch.argmax(clf(data.features[name].to(device))).item() # for the model 0 is fake and 1 real but this is reversed for scan.csv data\n",
    "    correctness.append(1 if predicted_label == true_label else 0)\n",
    "\n",
    "print(\"accuracy:\",sum(correctness)/len(correctness))"
   ]
  },
  {
   "cell_type": "code",
   "execution_count": 25,
   "metadata": {},
   "outputs": [
    {
     "name": "stderr",
     "output_type": "stream",
     "text": [
      "  0%|          | 0/500 [00:00<?, ?it/s]"
     ]
    },
    {
     "name": "stderr",
     "output_type": "stream",
     "text": [
      "100%|██████████| 500/500 [00:00<00:00, 4619.47it/s]\n",
      "100%|██████████| 2833/2833 [00:00<00:00, 4903.00it/s]\n"
     ]
    }
   ],
   "source": [
    "n_train = 500\n",
    "train_names = sorted(data.image_name)[:n_train]\n",
    "test_names  = sorted(data.image_name)[n_train:3333]\n",
    "\n",
    "# idx = sorted(enumerate(data.image_name),key=lambda x : x[1])\n",
    "\n",
    "train_features = []\n",
    "train_labels = []\n",
    "for name in tqdm(train_names):\n",
    "    train_features.append(data.features[name])\n",
    "    train_labels.append(1 - data_csv[data_csv[\"image_name\"] == name][\"class\"].item()) # LABELS INT VALUES ARE INVERSED BETWEEN MODEL AND CSV FILE\n",
    "\n",
    "train_features = torch.cat(train_features,dim=0)\n",
    "train_labels   = torch.Tensor(train_labels).type(torch.LongTensor)\n",
    "\n",
    "test_features = []\n",
    "test_labels   = []\n",
    "for name in tqdm(test_names):\n",
    "    test_features.append(data.features[name])\n",
    "    test_labels.append(1 - data_csv[data_csv[\"image_name\"] == name][\"class\"].item())\n",
    "\n",
    "test_features = torch.cat(test_features,dim=0)\n",
    "test_labels   = torch.Tensor(test_labels).type(torch.LongTensor)\n",
    "\n",
    "train_data = SimpleDataset(features=train_features,label=train_labels)\n",
    "test_data  = SimpleDataset(features=test_features,label=test_labels)"
   ]
  },
  {
   "cell_type": "markdown",
   "metadata": {},
   "source": [
    "## Fine tuning on 100 elements from task A"
   ]
  },
  {
   "cell_type": "code",
   "execution_count": 26,
   "metadata": {},
   "outputs": [
    {
     "name": "stdout",
     "output_type": "stream",
     "text": [
      "loss: 0.285333  [   10/  200]\n",
      "loss: 0.239186  [   20/  200]\n",
      "loss: 0.278224  [   30/  200]\n",
      "loss: 0.059232  [   40/  200]\n",
      "loss: 0.145412  [   50/  200]\n",
      "loss: 0.182333  [   60/  200]\n",
      "loss: 0.089602  [   70/  200]\n",
      "loss: 0.013939  [   80/  200]\n",
      "loss: 0.070951  [   90/  200]\n",
      "loss: 0.075738  [  100/  200]\n",
      "loss: 0.092625  [  110/  200]\n",
      "loss: 0.173172  [  120/  200]\n",
      "loss: 0.123947  [  130/  200]\n",
      "loss: 0.167462  [  140/  200]\n",
      "loss: 0.011299  [  150/  200]\n",
      "loss: 0.119154  [  160/  200]\n",
      "loss: 0.047738  [  170/  200]\n",
      "loss: 0.021478  [  180/  200]\n",
      "loss: 0.016776  [  190/  200]\n",
      "loss: 0.026971  [  200/  200]\n"
     ]
    }
   ],
   "source": [
    "model_ft = MultiClassClassifier(n_classes=2).to(device)\n",
    "model_ft.load_state_dict(torch.load(\"../model/checkpoints/binary_train_real_fake_2k_fine_tune_meta_test.pt\"))\n",
    "model_ft.train()\n",
    "\n",
    "lr = 1e-3\n",
    "batch_size = 64\n",
    "n_epochs = 200\n",
    "\n",
    "loss_fn = nn.CrossEntropyLoss()\n",
    "optimizer = torch.optim.SGD(model_ft.parameters(), lr=lr)\n",
    "rng = torch.Generator().manual_seed(SEED)\n",
    "\n",
    "train_loader = DataLoader(train_data,batch_size=batch_size,shuffle=True,generator=rng)\n",
    "\n",
    "loss_history = []\n",
    "for epoch in range(1,n_epochs+1):\n",
    "    for idx, batch in enumerate(train_loader):\n",
    "        # prediction and loss\n",
    "        pred = model_ft((batch[\"features\"]).to(device))\n",
    "        loss = loss_fn(pred,batch[\"label\"].type(torch.LongTensor).to(device))\n",
    "\n",
    "        # backpropagation\n",
    "        loss.backward()\n",
    "        optimizer.step()\n",
    "        optimizer.zero_grad()\n",
    "        \n",
    "    loss, current = loss.item(), idx*batch_size + len(batch[\"features\"])\n",
    "    if epoch%10 == 0 and epoch > 0:\n",
    "        loss_history.append(loss)\n",
    "        print(f\"loss: {loss:>7f}  [{epoch:>5d}/{n_epochs:>5d}]\")"
   ]
  },
  {
   "cell_type": "markdown",
   "metadata": {},
   "source": [
    "## Comparing accuracy between original classifier vs fine-tuned"
   ]
  },
  {
   "cell_type": "code",
   "execution_count": 27,
   "metadata": {},
   "outputs": [
    {
     "name": "stdout",
     "output_type": "stream",
     "text": [
      "accuracy before fine-tuning: 0.8891634345054626\n",
      "accuracy after  fine-tuning: 0.9488174915313721\n"
     ]
    }
   ],
   "source": [
    "acc_clf = []\n",
    "acc_model_ft = []\n",
    "\n",
    "clf.eval()\n",
    "model_ft.eval()\n",
    "\n",
    "test_loader = DataLoader(test_data,batch_size=len(test_data))\n",
    "\n",
    "with torch.no_grad():\n",
    "    for e in test_loader:\n",
    "        acc_clf = clf.get_model_accuracy_binary(e[\"features\"],e[\"label\"],device,binary_model=True)\n",
    "        acc_model_ft = model_ft.get_model_accuracy_binary(e[\"features\"],e[\"label\"],device,binary_model=True)\n",
    "        \n",
    "print(\"accuracy before fine-tuning:\",acc_clf)\n",
    "print(\"accuracy after  fine-tuning:\",acc_model_ft)"
   ]
  }
 ],
 "metadata": {
  "kernelspec": {
   "display_name": "Python 3",
   "language": "python",
   "name": "python3"
  },
  "language_info": {
   "codemirror_mode": {
    "name": "ipython",
    "version": 3
   },
   "file_extension": ".py",
   "mimetype": "text/x-python",
   "name": "python",
   "nbconvert_exporter": "python",
   "pygments_lexer": "ipython3",
   "version": "3.11.9"
  }
 },
 "nbformat": 4,
 "nbformat_minor": 2
}
