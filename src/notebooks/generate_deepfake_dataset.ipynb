{
 "cells": [
  {
   "cell_type": "code",
   "execution_count": 1,
   "metadata": {},
   "outputs": [],
   "source": [
    "%load_ext autoreload\n",
    "%autoreload 2"
   ]
  },
  {
   "cell_type": "code",
   "execution_count": 2,
   "metadata": {},
   "outputs": [
    {
     "name": "stderr",
     "output_type": "stream",
     "text": [
      "/home/lsaland/micromamba/envs/clip/lib/python3.11/site-packages/tqdm/auto.py:21: TqdmWarning: IProgress not found. Please update jupyter and ipywidgets. See https://ipywidgets.readthedocs.io/en/stable/user_install.html\n",
      "  from .autonotebook import tqdm as notebook_tqdm\n"
     ]
    }
   ],
   "source": [
    "import sys\n",
    "sys.path.append(\"../model\")\n",
    "sys.path.append(\"../tools\")\n",
    "from dataset import DeepFakeDataset, DeepFakeDatasetFastLoad\n",
    "from constants import PATH_TO_DATA"
   ]
  },
  {
   "cell_type": "code",
   "execution_count": 3,
   "metadata": {},
   "outputs": [
    {
     "name": "stderr",
     "output_type": "stream",
     "text": [
      "Processing images from Flickr2048: 100%|██████████| 17000/17000 [1:31:08<00:00,  3.11it/s]  \n",
      "Processing images from miniDallEUP: 100%|██████████| 1000/1000 [00:41<00:00, 23.97it/s]\n",
      "Processing images from GlideUP: 100%|██████████| 1000/1000 [00:36<00:00, 27.52it/s]\n",
      "Processing images from LCM_Dreamshaper-v7-vRC: 100%|██████████| 1000/1000 [00:42<00:00, 23.45it/s]\n",
      "Processing images from Kandinsky-2.2-vRC: 100%|██████████| 1000/1000 [00:37<00:00, 26.33it/s]\n",
      "Processing images from DF-XL-vRC: 100%|██████████| 1000/1000 [02:08<00:00,  7.78it/s]\n",
      "Processing images from pixartSigma-vRC: 100%|██████████| 1000/1000 [01:56<00:00,  8.58it/s]\n",
      "Processing images from animagineXL3-1-vRC: 100%|██████████| 1000/1000 [01:43<00:00,  9.62it/s]\n",
      "Processing images from megaDallEUP: 100%|██████████| 1000/1000 [00:34<00:00, 29.27it/s]\n",
      "Processing images from stable-xl-vRC: 100%|██████████| 1000/1000 [00:43<00:00, 22.84it/s]\n",
      "Processing images from stable-2-1-vRC: 100%|██████████| 1000/1000 [01:17<00:00, 12.92it/s]\n",
      "Processing images from dreamlike-vRC: 100%|██████████| 1000/1000 [01:13<00:00, 13.53it/s]\n",
      "Processing images from playground-v2-vRC: 100%|██████████| 1000/1000 [01:54<00:00,  8.73it/s]\n",
      "Processing images from gigaGAN: 100%|██████████| 1000/1000 [02:05<00:00,  7.99it/s]\n",
      "Processing images from LafitteUP: 100%|██████████| 1000/1000 [00:43<00:00, 22.88it/s]\n",
      "Processing images from playground-v2-5-vRC: 100%|██████████| 1000/1000 [02:06<00:00,  7.93it/s]\n",
      "Processing images from stable-1-5-vRC: 100%|██████████| 1000/1000 [00:42<00:00, 23.78it/s]\n",
      "Processing images from Kandinsky-2.1-vRC: 100%|██████████| 1000/1000 [00:41<00:00, 24.02it/s]\n"
     ]
    }
   ],
   "source": [
    "img_per_gen = 1000\n",
    "data = DeepFakeDataset(PATH_TO_DATA,\n",
    "                       img_per_gen=img_per_gen,\n",
    "                       balance_real_fake=True,\n",
    "                       device=\"cuda:1\")"
   ]
  },
  {
   "cell_type": "code",
   "execution_count": 4,
   "metadata": {},
   "outputs": [
    {
     "data": {
      "text/plain": [
       "34000"
      ]
     },
     "execution_count": 4,
     "metadata": {},
     "output_type": "execute_result"
    }
   ],
   "source": [
    "len(data)"
   ]
  },
  {
   "cell_type": "code",
   "execution_count": 5,
   "metadata": {},
   "outputs": [],
   "source": [
    "data.save(f\"../../data/df_{len(data)}.pt\")"
   ]
  }
 ],
 "metadata": {
  "kernelspec": {
   "display_name": "Python 3",
   "language": "python",
   "name": "python3"
  },
  "language_info": {
   "codemirror_mode": {
    "name": "ipython",
    "version": 3
   },
   "file_extension": ".py",
   "mimetype": "text/x-python",
   "name": "python",
   "nbconvert_exporter": "python",
   "pygments_lexer": "ipython3",
   "version": "3.11.9"
  }
 },
 "nbformat": 4,
 "nbformat_minor": 2
}
