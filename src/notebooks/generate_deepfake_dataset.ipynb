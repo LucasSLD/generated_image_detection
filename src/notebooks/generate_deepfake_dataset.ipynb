{
 "cells": [
  {
   "cell_type": "code",
   "execution_count": 1,
   "metadata": {},
   "outputs": [],
   "source": [
    "%load_ext autoreload\n",
    "%autoreload 2"
   ]
  },
  {
   "cell_type": "code",
   "execution_count": 2,
   "metadata": {},
   "outputs": [
    {
     "name": "stderr",
     "output_type": "stream",
     "text": [
      "/home/lsaland/micromamba/envs/clip/lib/python3.11/site-packages/tqdm/auto.py:21: TqdmWarning: IProgress not found. Please update jupyter and ipywidgets. See https://ipywidgets.readthedocs.io/en/stable/user_install.html\n",
      "  from .autonotebook import tqdm as notebook_tqdm\n"
     ]
    }
   ],
   "source": [
    "import sys\n",
    "sys.path.append(\"../model\")\n",
    "sys.path.append(\"../tools\")\n",
    "from dataset import DeepFakeDataset, DeepFakeTest, RealFakePairs\n",
    "from constants import PATH_TO_DATA, PATH_TO_DATA4"
   ]
  },
  {
   "cell_type": "code",
   "execution_count": null,
   "metadata": {},
   "outputs": [],
   "source": [
    "img_per_gen = 10\n",
    "data = DeepFakeDataset(PATH_TO_DATA,\n",
    "                       img_per_gen=img_per_gen,\n",
    "                       balance_real_fake=True,\n",
    "                       device=\"cuda:0\")"
   ]
  },
  {
   "cell_type": "code",
   "execution_count": null,
   "metadata": {},
   "outputs": [],
   "source": [
    "img_per_gen = 1000\n",
    "data = DeepFakeTest(\"/data3/AID_TEST/\",\n",
    "                    load_from_disk=False,\n",
    "                    img_per_gen=img_per_gen,\n",
    "                    balance_real_fake=True,\n",
    "                    device=\"cuda:1\")"
   ]
  },
  {
   "cell_type": "code",
   "execution_count": null,
   "metadata": {},
   "outputs": [],
   "source": [
    "data.save(PATH_TO_DATA4 + f\"df_test_{len(data)}.pt\")"
   ]
  },
  {
   "cell_type": "code",
   "execution_count": null,
   "metadata": {},
   "outputs": [],
   "source": [
    "import torch\n",
    "torch.bincount(data.gen.int())"
   ]
  },
  {
   "cell_type": "code",
   "execution_count": null,
   "metadata": {},
   "outputs": [],
   "source": [
    "import sys\n",
    "sys.path.append(\"../tools\")\n",
    "from constants import INT_TO_GEN\n",
    "import numpy as np\n",
    "i = np.random.randint(0,len(data))\n",
    "print(data.gen_original_name[i])\n",
    "print(INT_TO_GEN[data.gen[i].item()])"
   ]
  },
  {
   "cell_type": "code",
   "execution_count": 4,
   "metadata": {},
   "outputs": [
    {
     "name": "stderr",
     "output_type": "stream",
     "text": [
      "100%|██████████| 10/10 [00:48<00:00,  4.88s/it]\n"
     ]
    },
    {
     "name": "stdout",
     "output_type": "stream",
     "text": [
      "preprocess avg time: 4.879310345649719\n",
      "features ext avg time:  0.0039169549942016605\n"
     ]
    },
    {
     "name": "stderr",
     "output_type": "stream",
     "text": [
      "100%|██████████| 10/10 [00:04<00:00,  2.11it/s]"
     ]
    },
    {
     "name": "stdout",
     "output_type": "stream",
     "text": [
      "preprocess avg time: 0.47331836223602297\n",
      "features ext avg time:  0.0010805130004882812\n"
     ]
    },
    {
     "name": "stderr",
     "output_type": "stream",
     "text": [
      "\n"
     ]
    }
   ],
   "source": [
    "data = RealFakePairs(path_to_real_imgs=\"/data3/AID_pairs_orig_gen/originals/\",\n",
    "                     path_to_fake_imgs=\"/data3/AID_pairs_orig_gen/generated/\",\n",
    "                     img_per_class=10,\n",
    "                     device=\"cuda:0\")"
   ]
  }
 ],
 "metadata": {
  "kernelspec": {
   "display_name": "Python 3",
   "language": "python",
   "name": "python3"
  },
  "language_info": {
   "codemirror_mode": {
    "name": "ipython",
    "version": 3
   },
   "file_extension": ".py",
   "mimetype": "text/x-python",
   "name": "python",
   "nbconvert_exporter": "python",
   "pygments_lexer": "ipython3",
   "version": "3.11.9"
  }
 },
 "nbformat": 4,
 "nbformat_minor": 2
}
