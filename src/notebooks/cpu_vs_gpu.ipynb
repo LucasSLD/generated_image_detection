{
 "cells": [
  {
   "cell_type": "code",
   "execution_count": 1,
   "metadata": {},
   "outputs": [],
   "source": [
    "%load_ext autoreload\n",
    "%autoreload 2"
   ]
  },
  {
   "cell_type": "code",
   "execution_count": 21,
   "metadata": {},
   "outputs": [],
   "source": [
    "import open_clip\n",
    "from IPython.display import clear_output\n",
    "import torch\n",
    "from PIL import Image\n",
    "import os\n",
    "import sys\n",
    "sys.path.append(\"../model/\")\n",
    "from dataset import DeepFakeDatasetFastLoad, transform_torch\n",
    "import numpy as np\n",
    "from tqdm import tqdm"
   ]
  },
  {
   "cell_type": "code",
   "execution_count": 13,
   "metadata": {},
   "outputs": [],
   "source": [
    "device = \"cpu\"\n",
    "model, _, preprocess = open_clip.create_model_and_transforms('hf-hub:laion/CLIP-ViT-L-14-DataComp.XL-s13B-b90K',device=device)\n",
    "model.eval()\n",
    "clear_output()"
   ]
  },
  {
   "cell_type": "code",
   "execution_count": 10,
   "metadata": {},
   "outputs": [
    {
     "name": "stderr",
     "output_type": "stream",
     "text": [
      "/home/lsaland/micromamba/envs/clip/lib/python3.11/site-packages/diffusers/models/transformers/transformer_2d.py:34: FutureWarning: `Transformer2DModelOutput` is deprecated and will be removed in version 1.0.0. Importing `Transformer2DModelOutput` from `diffusers.models.transformer_2d` is deprecated and this will be removed in a future version. Please use `from diffusers.models.modeling_outputs import Transformer2DModelOutput`, instead.\n",
      "  deprecate(\"Transformer2DModelOutput\", \"1.0.0\", deprecation_message)\n",
      "Loading pipeline components...: 100%|██████████| 7/7 [00:01<00:00,  4.10it/s]\n",
      "filtering: 100%|██████████| 12/12 [00:00<00:00, 37.95it/s]\n"
     ]
    },
    {
     "data": {
      "text/plain": [
       "torch.Size([30000, 768])"
      ]
     },
     "execution_count": 10,
     "metadata": {},
     "output_type": "execute_result"
    }
   ],
   "source": [
    "data = DeepFakeDatasetFastLoad(\"/data4/saland/data/df_34000_V2.pt\",\n",
    "                               remove_blacklisted_gen=True)\n",
    "\n",
    "data.features.shape"
   ]
  },
  {
   "cell_type": "code",
   "execution_count": 23,
   "metadata": {},
   "outputs": [
    {
     "name": "stderr",
     "output_type": "stream",
     "text": [
      "100%|██████████| 1000/1000 [02:10<00:00,  7.69it/s]\n"
     ]
    }
   ],
   "source": [
    "path_to_flickr = \"/data4/saland/data/2k_real_2k_fake/Flickr/\"\n",
    "flickr_files = os.listdir(path_to_flickr)\n",
    "transform = lambda img : preprocess(Image.fromarray(transform_torch(image=np.asarray(img.convert(\"RGB\")))[\"image\"]))\n",
    "\n",
    "imgs_CPU = []\n",
    "imgs_GPU = []\n",
    "for file in tqdm(flickr_files):\n",
    "    img = Image.open(path_to_flickr + file)\n",
    "    pre = transform(img).unsqueeze(0)\n",
    "    imgs_CPU.append(pre)\n",
    "    imgs_GPU.append(pre.to(\"cuda:0\"))"
   ]
  },
  {
   "cell_type": "code",
   "execution_count": 24,
   "metadata": {},
   "outputs": [],
   "source": [
    "%%timeit\n",
    "model.encode_image(torch.cat(imgs_CPU,dim=0))"
   ]
  },
  {
   "cell_type": "code",
   "execution_count": null,
   "metadata": {},
   "outputs": [],
   "source": [
    "model.to(\"cuda:0\")"
   ]
  },
  {
   "cell_type": "code",
   "execution_count": null,
   "metadata": {},
   "outputs": [],
   "source": [
    "%%timeit\n",
    "model.to(\"cuda:0\")"
   ]
  }
 ],
 "metadata": {
  "kernelspec": {
   "display_name": "Python 3",
   "language": "python",
   "name": "python3"
  },
  "language_info": {
   "codemirror_mode": {
    "name": "ipython",
    "version": 3
   },
   "file_extension": ".py",
   "mimetype": "text/x-python",
   "name": "python",
   "nbconvert_exporter": "python",
   "pygments_lexer": "ipython3",
   "version": "3.11.9"
  }
 },
 "nbformat": 4,
 "nbformat_minor": 2
}
