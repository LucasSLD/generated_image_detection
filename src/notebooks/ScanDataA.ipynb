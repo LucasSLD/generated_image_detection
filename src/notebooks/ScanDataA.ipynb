{
 "cells": [
  {
   "cell_type": "code",
   "execution_count": 1,
   "metadata": {},
   "outputs": [],
   "source": [
    "import pandas as pd\n",
    "from matplotlib import pyplot as plt\n",
    "from pathlib import Path\n",
    "import numpy as np\n",
    "from PIL import Image"
   ]
  },
  {
   "cell_type": "code",
   "execution_count": 2,
   "metadata": {},
   "outputs": [
    {
     "data": {
      "text/html": [
       "<div>\n",
       "<style scoped>\n",
       "    .dataframe tbody tr th:only-of-type {\n",
       "        vertical-align: middle;\n",
       "    }\n",
       "\n",
       "    .dataframe tbody tr th {\n",
       "        vertical-align: top;\n",
       "    }\n",
       "\n",
       "    .dataframe thead th {\n",
       "        text-align: right;\n",
       "    }\n",
       "</style>\n",
       "<table border=\"1\" class=\"dataframe\">\n",
       "  <thead>\n",
       "    <tr style=\"text-align: right;\">\n",
       "      <th></th>\n",
       "      <th>image_name</th>\n",
       "      <th>class</th>\n",
       "    </tr>\n",
       "  </thead>\n",
       "  <tbody>\n",
       "    <tr>\n",
       "      <th>0</th>\n",
       "      <td>A_005fbfn6.png</td>\n",
       "      <td>1</td>\n",
       "    </tr>\n",
       "    <tr>\n",
       "      <th>1</th>\n",
       "      <td>A_0060ug9j.png</td>\n",
       "      <td>1</td>\n",
       "    </tr>\n",
       "    <tr>\n",
       "      <th>2</th>\n",
       "      <td>A_00el4hwr.png</td>\n",
       "      <td>1</td>\n",
       "    </tr>\n",
       "    <tr>\n",
       "      <th>3</th>\n",
       "      <td>A_00h6ucsm.png</td>\n",
       "      <td>1</td>\n",
       "    </tr>\n",
       "    <tr>\n",
       "      <th>4</th>\n",
       "      <td>A_00hzao5p.png</td>\n",
       "      <td>1</td>\n",
       "    </tr>\n",
       "  </tbody>\n",
       "</table>\n",
       "</div>"
      ],
      "text/plain": [
       "       image_name  class\n",
       "0  A_005fbfn6.png      1\n",
       "1  A_0060ug9j.png      1\n",
       "2  A_00el4hwr.png      1\n",
       "3  A_00h6ucsm.png      1\n",
       "4  A_00hzao5p.png      1"
      ]
     },
     "execution_count": 2,
     "metadata": {},
     "output_type": "execute_result"
    }
   ],
   "source": [
    "df = pd.DataFrame(columns=['image_name','class'])\n",
    "\n",
    "path_meta = \"/data3/TEST/A/\" #Change the directory\n",
    "path = Path(path_meta)\n",
    "im_path = sorted(list(path.rglob('*.png')))\n",
    "#print(im_path)\n",
    "\n",
    "im_names = [p.name for p in im_path]\n",
    "df['image_name'] = im_names\n",
    "df['class'] = 1\n",
    "\n",
    "df.head()\n",
    "\n",
    "# with np.printoptions(linewidth=10000):\n",
    "#     df.to_csv(\"scan.csv\")\n",
    "\n",
    "# print(len(df))"
   ]
  },
  {
   "cell_type": "markdown",
   "metadata": {},
   "source": [
    "### Assignement\n",
    "\n",
    "* Lucas: 0:3333\n",
    "* Amandine 3333:6666\n",
    "* Antoine 6666:10080\n",
    "\n"
   ]
  },
  {
   "cell_type": "markdown",
   "metadata": {},
   "source": [
    "### Exemple qui affiche un segment de 100 images"
   ]
  },
  {
   "cell_type": "code",
   "execution_count": null,
   "metadata": {},
   "outputs": [],
   "source": [
    "i = 19\n",
    "step = 50\n",
    "df_slice = df[i*50:(i+1)*50]\n",
    "for index, row in df_slice.iterrows():\n",
    "    image_name = row['image_name']\n",
    "    plt.figure(figsize=(10,10))\n",
    "    img = np.asarray(Image.open(path_meta+image_name))\n",
    "    plt.imshow(img)\n",
    "    plt.title(\"index: \"+str(index)+\"    name: \"+image_name,fontweight =\"bold\") \n",
    "    plt.show()\n",
    "    plt.close()\n"
   ]
  }
 ],
 "metadata": {
  "kernelspec": {
   "display_name": "base",
   "language": "python",
   "name": "python3"
  },
  "language_info": {
   "codemirror_mode": {
    "name": "ipython",
    "version": 3
   },
   "file_extension": ".py",
   "mimetype": "text/x-python",
   "name": "python",
   "nbconvert_exporter": "python",
   "pygments_lexer": "ipython3",
   "version": "3.11.9"
  }
 },
 "nbformat": 4,
 "nbformat_minor": 2
}
