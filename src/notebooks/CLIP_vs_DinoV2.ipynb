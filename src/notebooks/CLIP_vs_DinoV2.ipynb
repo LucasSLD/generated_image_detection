{
 "cells": [
  {
   "cell_type": "code",
   "execution_count": 7,
   "metadata": {},
   "outputs": [
    {
     "name": "stdout",
     "output_type": "stream",
     "text": [
      "The autoreload extension is already loaded. To reload it, use:\n",
      "  %reload_ext autoreload\n"
     ]
    }
   ],
   "source": [
    "%load_ext autoreload\n",
    "%autoreload 2"
   ]
  },
  {
   "cell_type": "code",
   "execution_count": 8,
   "metadata": {},
   "outputs": [],
   "source": [
    "import sys\n",
    "sys.path.append(\"../model/\")\n",
    "sys.path.append(\"../tools/\")\n",
    "from constants import *\n",
    "from MLP_classifier import MultiClassClassifier\n",
    "from dataset import FlickrAndPairs, TaskA, TaskAWithLabel, SimpleDataset\n",
    "import torch\n",
    "from torch.utils.data import DataLoader\n",
    "import torch.nn as nn"
   ]
  },
  {
   "cell_type": "code",
   "execution_count": 19,
   "metadata": {},
   "outputs": [
    {
     "name": "stderr",
     "output_type": "stream",
     "text": [
      "100%|██████████| 10080/10080 [00:05<00:00, 1951.44it/s]\n",
      "100%|██████████| 10080/10080 [00:04<00:00, 2093.75it/s]\n"
     ]
    }
   ],
   "source": [
    "train_data_dino = FlickrAndPairs(path=\"/data4/saland/data/flickr_and_pairs_DinoV2.pt\",load_from_disk=True)\n",
    "train_data_clip = FlickrAndPairs(path=\"/data4/saland/data/flickr_and_pairs.pt\",load_from_disk=True)\n",
    "test_data_dino  = TaskAWithLabel(path_to_csv=\"../../misc/scanFinal.csv\",\n",
    "                                 path_to_taskA=\"/data4/saland/data/taskA_dinoV2.pt\")\n",
    "test_data_clip  = TaskAWithLabel(path_to_csv=\"../../misc/scanFinal.csv\",\n",
    "                                 path_to_taskA=\"/data4/saland/data/taskA.pt\")"
   ]
  },
  {
   "cell_type": "markdown",
   "metadata": {},
   "source": [
    "### CLIP vs DINO"
   ]
  },
  {
   "cell_type": "code",
   "execution_count": 10,
   "metadata": {},
   "outputs": [],
   "source": [
    "device = \"cuda:0\"\n",
    "model_dino = MultiClassClassifier(n_features=DINO_FEATURE_DIM,n_classes=2).to(device)\n",
    "model_clip = MultiClassClassifier(n_features=CLIP_FEATURE_DIM,n_classes=2).to(device)\n",
    "\n",
    "model_clip.load_state_dict(torch.load(\n",
    "    \"../model/checkpoints/binary_train_real_fake_2k_fine_tune_meta_test.pt\"))\n",
    "model_dino.load_state_dict(torch.load(\n",
    "    \"../model/checkpoints/binary_train_real_fake_2k_fine_tune_meta_test.pt\"))\n",
    "\n",
    "model_clip.eval()\n",
    "model_dino.eval()\n",
    "\n",
    "lr = 1e-3\n",
    "batch_size = 64\n",
    "n_epochs = 1000\n",
    "\n",
    "loss_fn = nn.CrossEntropyLoss()\n",
    "optimizer_clip = torch.optim.SGD(model_clip.parameters(), lr=lr)\n",
    "optimizer_dino = torch.optim.SGD(model_dino.parameters(), lr=lr)\n",
    "model_dino.train()\n",
    "model_clip.train()\n",
    "\n",
    "rng = torch.Generator().manual_seed(SEED)\n",
    "\n",
    "train_loader_dino = DataLoader(train_data_dino,batch_size=batch_size,shuffle=True,generator=rng)\n",
    "train_loader_clip = DataLoader(train_data_clip,batch_size=batch_size,shuffle=True,generator=rng)"
   ]
  },
  {
   "cell_type": "code",
   "execution_count": 11,
   "metadata": {},
   "outputs": [
    {
     "name": "stdout",
     "output_type": "stream",
     "text": [
      "loss_dino: 1.092763 [   10/ 1000]\n",
      "loss_dino: 0.838894 [   20/ 1000]\n",
      "loss_dino: 0.361515 [   30/ 1000]\n",
      "loss_dino: 0.331113 [   40/ 1000]\n",
      "loss_dino: 0.192977 [   50/ 1000]\n",
      "loss_dino: 0.069331 [   60/ 1000]\n",
      "loss_dino: 0.217783 [   70/ 1000]\n",
      "loss_dino: 0.099533 [   80/ 1000]\n",
      "loss_dino: 0.057134 [   90/ 1000]\n",
      "loss_dino: 0.038878 [  100/ 1000]\n",
      "loss_dino: 0.050931 [  110/ 1000]\n",
      "loss_dino: 0.039315 [  120/ 1000]\n",
      "loss_dino: 0.045511 [  130/ 1000]\n",
      "loss_dino: 0.044440 [  140/ 1000]\n",
      "loss_dino: 0.031986 [  150/ 1000]\n",
      "loss_dino: 0.037977 [  160/ 1000]\n",
      "loss_dino: 0.039411 [  170/ 1000]\n",
      "loss_dino: 0.030647 [  180/ 1000]\n",
      "loss_dino: 0.034220 [  190/ 1000]\n",
      "loss_dino: 0.033869 [  200/ 1000]\n",
      "loss_dino: 0.020640 [  210/ 1000]\n",
      "loss_dino: 0.022107 [  220/ 1000]\n",
      "loss_dino: 0.017908 [  230/ 1000]\n",
      "loss_dino: 0.024085 [  240/ 1000]\n",
      "loss_dino: 0.021152 [  250/ 1000]\n",
      "loss_dino: 0.014152 [  260/ 1000]\n",
      "loss_dino: 0.017818 [  270/ 1000]\n",
      "loss_dino: 0.011804 [  280/ 1000]\n",
      "loss_dino: 0.013579 [  290/ 1000]\n",
      "loss_dino: 0.016783 [  300/ 1000]\n",
      "loss_dino: 0.011996 [  310/ 1000]\n",
      "loss_dino: 0.017877 [  320/ 1000]\n",
      "loss_dino: 0.012699 [  330/ 1000]\n",
      "loss_dino: 0.013477 [  340/ 1000]\n",
      "loss_dino: 0.011646 [  350/ 1000]\n",
      "loss_dino: 0.006317 [  360/ 1000]\n",
      "loss_dino: 0.012478 [  370/ 1000]\n",
      "loss_dino: 0.012799 [  380/ 1000]\n",
      "loss_dino: 0.010775 [  390/ 1000]\n",
      "loss_dino: 0.005468 [  400/ 1000]\n",
      "loss_dino: 0.008881 [  410/ 1000]\n",
      "loss_dino: 0.009115 [  420/ 1000]\n",
      "loss_dino: 0.006479 [  430/ 1000]\n",
      "loss_dino: 0.009481 [  440/ 1000]\n",
      "loss_dino: 0.007809 [  450/ 1000]\n",
      "loss_dino: 0.009280 [  460/ 1000]\n",
      "loss_dino: 0.010646 [  470/ 1000]\n",
      "loss_dino: 0.003398 [  480/ 1000]\n",
      "loss_dino: 0.002798 [  490/ 1000]\n",
      "loss_dino: 0.006076 [  500/ 1000]\n",
      "loss_dino: 0.010008 [  510/ 1000]\n",
      "loss_dino: 0.006361 [  520/ 1000]\n",
      "loss_dino: 0.005221 [  530/ 1000]\n",
      "loss_dino: 0.006741 [  540/ 1000]\n",
      "loss_dino: 0.006809 [  550/ 1000]\n",
      "loss_dino: 0.007140 [  560/ 1000]\n",
      "loss_dino: 0.006557 [  570/ 1000]\n",
      "loss_dino: 0.004875 [  580/ 1000]\n",
      "loss_dino: 0.004041 [  590/ 1000]\n",
      "loss_dino: 0.005991 [  600/ 1000]\n",
      "loss_dino: 0.005572 [  610/ 1000]\n",
      "loss_dino: 0.005971 [  620/ 1000]\n",
      "loss_dino: 0.005530 [  630/ 1000]\n",
      "loss_dino: 0.003493 [  640/ 1000]\n",
      "loss_dino: 0.007499 [  650/ 1000]\n",
      "loss_dino: 0.003983 [  660/ 1000]\n",
      "loss_dino: 0.007022 [  670/ 1000]\n",
      "loss_dino: 0.004967 [  680/ 1000]\n",
      "loss_dino: 0.004779 [  690/ 1000]\n",
      "loss_dino: 0.005524 [  700/ 1000]\n",
      "loss_dino: 0.002275 [  710/ 1000]\n",
      "loss_dino: 0.003397 [  720/ 1000]\n",
      "loss_dino: 0.005630 [  730/ 1000]\n",
      "loss_dino: 0.004804 [  740/ 1000]\n",
      "loss_dino: 0.004518 [  750/ 1000]\n",
      "loss_dino: 0.004538 [  760/ 1000]\n",
      "loss_dino: 0.004442 [  770/ 1000]\n",
      "loss_dino: 0.005238 [  780/ 1000]\n",
      "loss_dino: 0.002972 [  790/ 1000]\n",
      "loss_dino: 0.004566 [  800/ 1000]\n",
      "loss_dino: 0.002750 [  810/ 1000]\n",
      "loss_dino: 0.001854 [  820/ 1000]\n",
      "loss_dino: 0.003991 [  830/ 1000]\n",
      "loss_dino: 0.004788 [  840/ 1000]\n",
      "loss_dino: 0.004529 [  850/ 1000]\n",
      "loss_dino: 0.002848 [  860/ 1000]\n",
      "loss_dino: 0.004267 [  870/ 1000]\n",
      "loss_dino: 0.003338 [  880/ 1000]\n",
      "loss_dino: 0.002331 [  890/ 1000]\n",
      "loss_dino: 0.004009 [  900/ 1000]\n",
      "loss_dino: 0.002876 [  910/ 1000]\n",
      "loss_dino: 0.002417 [  920/ 1000]\n",
      "loss_dino: 0.002529 [  930/ 1000]\n",
      "loss_dino: 0.004559 [  940/ 1000]\n",
      "loss_dino: 0.002771 [  950/ 1000]\n",
      "loss_dino: 0.003089 [  960/ 1000]\n",
      "loss_dino: 0.002552 [  970/ 1000]\n",
      "loss_dino: 0.004042 [  980/ 1000]\n",
      "loss_dino: 0.003955 [  990/ 1000]\n",
      "loss_dino: 0.003215 [ 1000/ 1000]\n",
      "loss_clip: 0.172817 [   10/ 1000]\n",
      "loss_clip: 0.081640 [   20/ 1000]\n",
      "loss_clip: 0.093917 [   30/ 1000]\n",
      "loss_clip: 0.087379 [   40/ 1000]\n",
      "loss_clip: 0.195917 [   50/ 1000]\n",
      "loss_clip: 0.173307 [   60/ 1000]\n",
      "loss_clip: 0.066919 [   70/ 1000]\n",
      "loss_clip: 0.294504 [   80/ 1000]\n",
      "loss_clip: 0.052913 [   90/ 1000]\n",
      "loss_clip: 0.058326 [  100/ 1000]\n",
      "loss_clip: 0.024349 [  110/ 1000]\n",
      "loss_clip: 0.042633 [  120/ 1000]\n",
      "loss_clip: 0.236665 [  130/ 1000]\n",
      "loss_clip: 0.056950 [  140/ 1000]\n",
      "loss_clip: 0.020598 [  150/ 1000]\n",
      "loss_clip: 0.034606 [  160/ 1000]\n",
      "loss_clip: 0.016000 [  170/ 1000]\n",
      "loss_clip: 0.055143 [  180/ 1000]\n",
      "loss_clip: 0.047926 [  190/ 1000]\n",
      "loss_clip: 0.067382 [  200/ 1000]\n",
      "loss_clip: 0.048253 [  210/ 1000]\n",
      "loss_clip: 0.039270 [  220/ 1000]\n",
      "loss_clip: 0.034669 [  230/ 1000]\n",
      "loss_clip: 0.072740 [  240/ 1000]\n",
      "loss_clip: 0.039329 [  250/ 1000]\n",
      "loss_clip: 0.029835 [  260/ 1000]\n",
      "loss_clip: 0.054668 [  270/ 1000]\n",
      "loss_clip: 0.027041 [  280/ 1000]\n",
      "loss_clip: 0.025375 [  290/ 1000]\n",
      "loss_clip: 0.031458 [  300/ 1000]\n",
      "loss_clip: 0.015123 [  310/ 1000]\n",
      "loss_clip: 0.019315 [  320/ 1000]\n",
      "loss_clip: 0.041516 [  330/ 1000]\n",
      "loss_clip: 0.098340 [  340/ 1000]\n",
      "loss_clip: 0.018794 [  350/ 1000]\n",
      "loss_clip: 0.008605 [  360/ 1000]\n",
      "loss_clip: 0.012193 [  370/ 1000]\n",
      "loss_clip: 0.015199 [  380/ 1000]\n",
      "loss_clip: 0.022867 [  390/ 1000]\n",
      "loss_clip: 0.007750 [  400/ 1000]\n",
      "loss_clip: 0.068109 [  410/ 1000]\n",
      "loss_clip: 0.007390 [  420/ 1000]\n",
      "loss_clip: 0.017124 [  430/ 1000]\n",
      "loss_clip: 0.022816 [  440/ 1000]\n",
      "loss_clip: 0.020759 [  450/ 1000]\n",
      "loss_clip: 0.029141 [  460/ 1000]\n",
      "loss_clip: 0.022207 [  470/ 1000]\n",
      "loss_clip: 0.011921 [  480/ 1000]\n",
      "loss_clip: 0.002393 [  490/ 1000]\n",
      "loss_clip: 0.004770 [  500/ 1000]\n",
      "loss_clip: 0.017588 [  510/ 1000]\n",
      "loss_clip: 0.010021 [  520/ 1000]\n",
      "loss_clip: 0.011246 [  530/ 1000]\n",
      "loss_clip: 0.016563 [  540/ 1000]\n",
      "loss_clip: 0.009421 [  550/ 1000]\n",
      "loss_clip: 0.021596 [  560/ 1000]\n",
      "loss_clip: 0.015783 [  570/ 1000]\n",
      "loss_clip: 0.010841 [  580/ 1000]\n",
      "loss_clip: 0.001684 [  590/ 1000]\n",
      "loss_clip: 0.015604 [  600/ 1000]\n",
      "loss_clip: 0.002289 [  610/ 1000]\n",
      "loss_clip: 0.009079 [  620/ 1000]\n",
      "loss_clip: 0.003645 [  630/ 1000]\n",
      "loss_clip: 0.016818 [  640/ 1000]\n",
      "loss_clip: 0.017319 [  650/ 1000]\n",
      "loss_clip: 0.004093 [  660/ 1000]\n",
      "loss_clip: 0.018572 [  670/ 1000]\n",
      "loss_clip: 0.010193 [  680/ 1000]\n",
      "loss_clip: 0.008852 [  690/ 1000]\n",
      "loss_clip: 0.005254 [  700/ 1000]\n",
      "loss_clip: 0.003615 [  710/ 1000]\n",
      "loss_clip: 0.012023 [  720/ 1000]\n",
      "loss_clip: 0.018357 [  730/ 1000]\n",
      "loss_clip: 0.004815 [  740/ 1000]\n",
      "loss_clip: 0.012579 [  750/ 1000]\n",
      "loss_clip: 0.009092 [  760/ 1000]\n",
      "loss_clip: 0.015139 [  770/ 1000]\n",
      "loss_clip: 0.019836 [  780/ 1000]\n",
      "loss_clip: 0.008354 [  790/ 1000]\n",
      "loss_clip: 0.009446 [  800/ 1000]\n",
      "loss_clip: 0.011083 [  810/ 1000]\n",
      "loss_clip: 0.008094 [  820/ 1000]\n",
      "loss_clip: 0.012859 [  830/ 1000]\n",
      "loss_clip: 0.002998 [  840/ 1000]\n",
      "loss_clip: 0.002481 [  850/ 1000]\n",
      "loss_clip: 0.002095 [  860/ 1000]\n",
      "loss_clip: 0.006139 [  870/ 1000]\n",
      "loss_clip: 0.004026 [  880/ 1000]\n",
      "loss_clip: 0.003481 [  890/ 1000]\n",
      "loss_clip: 0.005064 [  900/ 1000]\n",
      "loss_clip: 0.004424 [  910/ 1000]\n",
      "loss_clip: 0.015913 [  920/ 1000]\n",
      "loss_clip: 0.003589 [  930/ 1000]\n",
      "loss_clip: 0.005288 [  940/ 1000]\n",
      "loss_clip: 0.002163 [  950/ 1000]\n",
      "loss_clip: 0.008844 [  960/ 1000]\n",
      "loss_clip: 0.012975 [  970/ 1000]\n",
      "loss_clip: 0.010863 [  980/ 1000]\n",
      "loss_clip: 0.009489 [  990/ 1000]\n",
      "loss_clip: 0.002090 [ 1000/ 1000]\n"
     ]
    }
   ],
   "source": [
    "for epoch in range(1,n_epochs+1):\n",
    "    for idx, batch in enumerate(train_loader_dino):\n",
    "        # prediction and loss\n",
    "        pred_dino = model_dino((batch[\"features\"]).to(device))\n",
    "        loss_dino = loss_fn(pred_dino,batch[\"label\"].type(torch.LongTensor).to(device))\n",
    "\n",
    "\n",
    "        # backpropagation\n",
    "        \n",
    "        loss_dino.backward()\n",
    "        optimizer_dino.step()\n",
    "        optimizer_dino.zero_grad()\n",
    "        \n",
    "    loss_dino, current = loss_dino.item(), idx*batch_size + len(batch[\"features\"])\n",
    "    if epoch%10 == 0 and epoch > 0:\n",
    "        print(f\"loss_dino: {loss_dino:>7f} [{epoch:>5d}/{n_epochs:>5d}]\")\n",
    "\n",
    "for epoch in range(1,n_epochs+1):\n",
    "    for idx, batch in enumerate(train_loader_clip):\n",
    "        \n",
    "        pred_clip = model_clip(batch[\"features\"].to(device))\n",
    "        loss_clip = loss_fn(pred_clip,batch[\"label\"].to(device))\n",
    "        \n",
    "        loss_clip.backward()\n",
    "        optimizer_clip.step()\n",
    "        optimizer_clip.zero_grad()\n",
    "    \n",
    "    loss_clip, current = loss_clip.item(), idx*batch_size + len(batch[\"features\"])\n",
    "    if epoch%10 == 0 and epoch > 0:\n",
    "        print(f\"loss_clip: {loss_clip:>7f} [{epoch:>5d}/{n_epochs:>5d}]\")"
   ]
  },
  {
   "cell_type": "code",
   "execution_count": 9,
   "metadata": {},
   "outputs": [
    {
     "name": "stdout",
     "output_type": "stream",
     "text": [
      "accuracy clip: 0.860185980796814\n",
      "accuracy dino: 0.7680767774581909\n"
     ]
    }
   ],
   "source": [
    "acc_clip = model_clip.get_model_accuracy_binary(test_data_clip.features,test_data_clip.label,binary_model=True,device=device)\n",
    "acc_dino = model_dino.get_model_accuracy_binary(test_data_dino.features,test_data_dino.label,binary_model=True,device=device)\n",
    "print(\"accuracy clip:\",acc_clip)\n",
    "print(\"accuracy dino:\",acc_dino)"
   ]
  },
  {
   "cell_type": "markdown",
   "metadata": {},
   "source": [
    "### Concatenation of CLIP and DINOV2 features"
   ]
  },
  {
   "cell_type": "code",
   "execution_count": 20,
   "metadata": {},
   "outputs": [],
   "source": [
    "train_clip_dino = SimpleDataset(features=torch.cat((train_data_clip.features,\n",
    "                                                    train_data_dino.features),dim=1),\n",
    "                                label=train_data_clip.label)\n",
    "\n",
    "test_clip_dino = SimpleDataset(features=torch.cat((test_data_clip.features.to(device),\n",
    "                                                   test_data_dino.features.to(device)),dim=1),\n",
    "                                label= test_data_clip.label)"
   ]
  },
  {
   "cell_type": "code",
   "execution_count": 21,
   "metadata": {},
   "outputs": [
    {
     "data": {
      "text/plain": [
       "torch.Size([3999, 1536])"
      ]
     },
     "execution_count": 21,
     "metadata": {},
     "output_type": "execute_result"
    }
   ],
   "source": [
    "train_clip_dino.features.shape"
   ]
  },
  {
   "cell_type": "code",
   "execution_count": 22,
   "metadata": {},
   "outputs": [
    {
     "name": "stdout",
     "output_type": "stream",
     "text": [
      "loss_clip: 0.366878 [   10/ 1000]\n",
      "loss_clip: 0.214419 [   20/ 1000]\n",
      "loss_clip: 0.161446 [   30/ 1000]\n",
      "loss_clip: 0.221599 [   40/ 1000]\n",
      "loss_clip: 0.096408 [   50/ 1000]\n",
      "loss_clip: 0.037274 [   60/ 1000]\n",
      "loss_clip: 0.096413 [   70/ 1000]\n",
      "loss_clip: 0.044962 [   80/ 1000]\n",
      "loss_clip: 0.045528 [   90/ 1000]\n",
      "loss_clip: 0.022137 [  100/ 1000]\n",
      "loss_clip: 0.053547 [  110/ 1000]\n",
      "loss_clip: 0.032566 [  120/ 1000]\n",
      "loss_clip: 0.034372 [  130/ 1000]\n",
      "loss_clip: 0.047166 [  140/ 1000]\n",
      "loss_clip: 0.026665 [  150/ 1000]\n",
      "loss_clip: 0.036802 [  160/ 1000]\n",
      "loss_clip: 0.043135 [  170/ 1000]\n",
      "loss_clip: 0.014988 [  180/ 1000]\n",
      "loss_clip: 0.031410 [  190/ 1000]\n",
      "loss_clip: 0.027900 [  200/ 1000]\n",
      "loss_clip: 0.010776 [  210/ 1000]\n",
      "loss_clip: 0.018133 [  220/ 1000]\n",
      "loss_clip: 0.011114 [  230/ 1000]\n",
      "loss_clip: 0.020181 [  240/ 1000]\n",
      "loss_clip: 0.011171 [  250/ 1000]\n",
      "loss_clip: 0.009331 [  260/ 1000]\n",
      "loss_clip: 0.019713 [  270/ 1000]\n",
      "loss_clip: 0.006959 [  280/ 1000]\n",
      "loss_clip: 0.013198 [  290/ 1000]\n",
      "loss_clip: 0.006785 [  300/ 1000]\n",
      "loss_clip: 0.014221 [  310/ 1000]\n",
      "loss_clip: 0.009034 [  320/ 1000]\n",
      "loss_clip: 0.006707 [  330/ 1000]\n",
      "loss_clip: 0.013775 [  340/ 1000]\n",
      "loss_clip: 0.009088 [  350/ 1000]\n",
      "loss_clip: 0.004245 [  360/ 1000]\n",
      "loss_clip: 0.009015 [  370/ 1000]\n",
      "loss_clip: 0.010940 [  380/ 1000]\n",
      "loss_clip: 0.007685 [  390/ 1000]\n",
      "loss_clip: 0.002601 [  400/ 1000]\n",
      "loss_clip: 0.007136 [  410/ 1000]\n",
      "loss_clip: 0.005939 [  420/ 1000]\n",
      "loss_clip: 0.005931 [  430/ 1000]\n",
      "loss_clip: 0.004186 [  440/ 1000]\n",
      "loss_clip: 0.004939 [  450/ 1000]\n",
      "loss_clip: 0.006967 [  460/ 1000]\n",
      "loss_clip: 0.009692 [  470/ 1000]\n",
      "loss_clip: 0.002551 [  480/ 1000]\n",
      "loss_clip: 0.003998 [  490/ 1000]\n",
      "loss_clip: 0.006068 [  500/ 1000]\n",
      "loss_clip: 0.006116 [  510/ 1000]\n",
      "loss_clip: 0.006008 [  520/ 1000]\n",
      "loss_clip: 0.004771 [  530/ 1000]\n",
      "loss_clip: 0.003624 [  540/ 1000]\n",
      "loss_clip: 0.005085 [  550/ 1000]\n",
      "loss_clip: 0.004999 [  560/ 1000]\n",
      "loss_clip: 0.005830 [  570/ 1000]\n",
      "loss_clip: 0.004397 [  580/ 1000]\n",
      "loss_clip: 0.002602 [  590/ 1000]\n",
      "loss_clip: 0.007116 [  600/ 1000]\n",
      "loss_clip: 0.003400 [  610/ 1000]\n",
      "loss_clip: 0.003528 [  620/ 1000]\n",
      "loss_clip: 0.003686 [  630/ 1000]\n",
      "loss_clip: 0.002249 [  640/ 1000]\n",
      "loss_clip: 0.004485 [  650/ 1000]\n",
      "loss_clip: 0.002237 [  660/ 1000]\n",
      "loss_clip: 0.003184 [  670/ 1000]\n",
      "loss_clip: 0.003137 [  680/ 1000]\n",
      "loss_clip: 0.003716 [  690/ 1000]\n",
      "loss_clip: 0.002350 [  700/ 1000]\n",
      "loss_clip: 0.001238 [  710/ 1000]\n",
      "loss_clip: 0.003185 [  720/ 1000]\n",
      "loss_clip: 0.002452 [  730/ 1000]\n",
      "loss_clip: 0.001995 [  740/ 1000]\n",
      "loss_clip: 0.002165 [  750/ 1000]\n",
      "loss_clip: 0.002891 [  760/ 1000]\n",
      "loss_clip: 0.002006 [  770/ 1000]\n",
      "loss_clip: 0.002380 [  780/ 1000]\n",
      "loss_clip: 0.001554 [  790/ 1000]\n",
      "loss_clip: 0.003183 [  800/ 1000]\n",
      "loss_clip: 0.002629 [  810/ 1000]\n",
      "loss_clip: 0.001879 [  820/ 1000]\n",
      "loss_clip: 0.003104 [  830/ 1000]\n",
      "loss_clip: 0.002517 [  840/ 1000]\n",
      "loss_clip: 0.003346 [  850/ 1000]\n",
      "loss_clip: 0.003381 [  860/ 1000]\n",
      "loss_clip: 0.002930 [  870/ 1000]\n",
      "loss_clip: 0.002007 [  880/ 1000]\n",
      "loss_clip: 0.001561 [  890/ 1000]\n",
      "loss_clip: 0.002968 [  900/ 1000]\n",
      "loss_clip: 0.001915 [  910/ 1000]\n",
      "loss_clip: 0.001429 [  920/ 1000]\n",
      "loss_clip: 0.001511 [  930/ 1000]\n",
      "loss_clip: 0.001480 [  940/ 1000]\n",
      "loss_clip: 0.002035 [  950/ 1000]\n",
      "loss_clip: 0.002782 [  960/ 1000]\n",
      "loss_clip: 0.002003 [  970/ 1000]\n",
      "loss_clip: 0.001939 [  980/ 1000]\n",
      "loss_clip: 0.002039 [  990/ 1000]\n",
      "loss_clip: 0.002233 [ 1000/ 1000]\n"
     ]
    }
   ],
   "source": [
    "device = \"cuda:0\"\n",
    "model = MultiClassClassifier(n_features=CLIP_FEATURE_DIM+DINO_FEATURE_DIM,n_classes=2).to(device)\n",
    "model.train()\n",
    "\n",
    "lr = 1e-3\n",
    "batch_size = 64\n",
    "n_epochs = 1000\n",
    "\n",
    "loss_fn = nn.CrossEntropyLoss()\n",
    "optimizer = torch.optim.SGD(model.parameters(), lr=lr)\n",
    "\n",
    "rng = rng = torch.Generator().manual_seed(SEED)\n",
    "train_loader = DataLoader(train_clip_dino,batch_size=batch_size,shuffle=True,generator=rng)\n",
    "\n",
    "for epoch in range(1,n_epochs+1):\n",
    "    for idx, batch in enumerate(train_loader):\n",
    "        \n",
    "        pred = model(batch[\"features\"].to(device))\n",
    "        loss = loss_fn(pred,batch[\"label\"].to(device))\n",
    "        \n",
    "        loss.backward()\n",
    "        optimizer.step()\n",
    "        optimizer.zero_grad()\n",
    "    \n",
    "    loss, current = loss.item(), idx*batch_size + len(batch[\"features\"])\n",
    "    if epoch%10 == 0 and epoch > 0:\n",
    "        print(f\"loss_clip: {loss:>7f} [{epoch:>5d}/{n_epochs:>5d}]\")"
   ]
  },
  {
   "cell_type": "code",
   "execution_count": 15,
   "metadata": {},
   "outputs": [
    {
     "data": {
      "text/plain": [
       "0.891689121723175"
      ]
     },
     "execution_count": 15,
     "metadata": {},
     "output_type": "execute_result"
    }
   ],
   "source": [
    "model.get_model_accuracy_binary(test_clip_dino.features,test_clip_dino.label,device=device,binary_model=True)"
   ]
  },
  {
   "cell_type": "markdown",
   "metadata": {},
   "source": [
    "### model used for submission vs fine-tuned vs clip + Dino"
   ]
  },
  {
   "cell_type": "code",
   "execution_count": 32,
   "metadata": {},
   "outputs": [],
   "source": [
    "n = 500\n",
    "taskA_train_data = SimpleDataset(test_data_clip.features[:n],test_data_clip.label[:n])\n",
    "taskA_test_data  = SimpleDataset(test_data_clip.features[n:],test_data_clip.label[n:])\n",
    "\n",
    "taskA_train_data_dino = SimpleDataset(test_data_dino.features[:n],test_data_dino.label[:n])\n",
    "taskA_test_data_dino  = SimpleDataset(test_data_dino.features[n:],test_data_dino.label[n:])"
   ]
  },
  {
   "cell_type": "code",
   "execution_count": 28,
   "metadata": {},
   "outputs": [
    {
     "data": {
      "text/plain": [
       "0.8865344524383545"
      ]
     },
     "execution_count": 28,
     "metadata": {},
     "output_type": "execute_result"
    }
   ],
   "source": [
    "model_sub = MultiClassClassifier(n_classes=2).to(device)\n",
    "model_sub.load_state_dict(torch.load(\"../model/checkpoints/binary_train_real_fake_2k_fine_tune_meta_test.pt\"))\n",
    "model_sub.eval()\n",
    "model_sub.get_model_accuracy_binary(features=taskA_test_data.features,\n",
    "                                    true_labels=taskA_test_data.label,\n",
    "                                    device=device,\n",
    "                                    binary_model=True)"
   ]
  },
  {
   "cell_type": "code",
   "execution_count": 29,
   "metadata": {},
   "outputs": [
    {
     "name": "stdout",
     "output_type": "stream",
     "text": [
      "loss: 0.147629  [   10/  200]\n",
      "loss: 0.117267  [   20/  200]\n",
      "loss: 0.093667  [   30/  200]\n",
      "loss: 0.076725  [   40/  200]\n",
      "loss: 0.064605  [   50/  200]\n",
      "loss: 0.055294  [   60/  200]\n",
      "loss: 0.047925  [   70/  200]\n",
      "loss: 0.042112  [   80/  200]\n",
      "loss: 0.037449  [   90/  200]\n",
      "loss: 0.033690  [  100/  200]\n",
      "loss: 0.030580  [  110/  200]\n",
      "loss: 0.028099  [  120/  200]\n",
      "loss: 0.026055  [  130/  200]\n",
      "loss: 0.024351  [  140/  200]\n",
      "loss: 0.022886  [  150/  200]\n",
      "loss: 0.021621  [  160/  200]\n",
      "loss: 0.020550  [  170/  200]\n",
      "loss: 0.019594  [  180/  200]\n",
      "loss: 0.018729  [  190/  200]\n",
      "loss: 0.017950  [  200/  200]\n"
     ]
    }
   ],
   "source": [
    "model_fine_tuned = MultiClassClassifier(n_classes=2).to(device)\n",
    "model_fine_tuned.load_state_dict(torch.load(\"../model/checkpoints/binary_train_real_fake_2k_fine_tune_meta_test.pt\"))\n",
    "model.train()\n",
    "\n",
    "train_loader = DataLoader(taskA_train_data,batch_size)\n",
    "\n",
    "lr = 1e-3\n",
    "batch_size = 64\n",
    "n_epochs = 200\n",
    "\n",
    "loss_fn = nn.CrossEntropyLoss()\n",
    "optimizer = torch.optim.SGD(model_fine_tuned.parameters(), lr=lr)\n",
    "rng = torch.Generator().manual_seed(SEED)\n",
    "\n",
    "for epoch in range(1,n_epochs+1):\n",
    "    for idx, batch in enumerate(train_loader):\n",
    "        # prediction and loss\n",
    "        pred = model_fine_tuned((batch[\"features\"]).to(device))\n",
    "        loss = loss_fn(pred,batch[\"label\"].type(torch.LongTensor).to(device))\n",
    "\n",
    "        # backpropagation\n",
    "        loss.backward()\n",
    "        optimizer.step()\n",
    "        optimizer.zero_grad()\n",
    "        \n",
    "    loss, current = loss.item(), idx*batch_size + len(batch[\"features\"])\n",
    "    if epoch%10 == 0 and epoch > 0:\n",
    "        print(f\"loss: {loss:>7f}  [{epoch:>5d}/{n_epochs:>5d}]\")"
   ]
  },
  {
   "cell_type": "code",
   "execution_count": 30,
   "metadata": {},
   "outputs": [
    {
     "data": {
      "text/plain": [
       "0.9453027248382568"
      ]
     },
     "execution_count": 30,
     "metadata": {},
     "output_type": "execute_result"
    }
   ],
   "source": [
    "model_fine_tuned.get_model_accuracy_binary(features=taskA_test_data.features,\n",
    "                                           true_labels=taskA_test_data.label,\n",
    "                                           device=device,\n",
    "                                           binary_model=True)"
   ]
  },
  {
   "cell_type": "code",
   "execution_count": 35,
   "metadata": {},
   "outputs": [],
   "source": [
    "clip_dino_train = SimpleDataset(torch.cat((taskA_train_data.features.cpu(),taskA_train_data_dino.features.cpu()),dim=1),\n",
    "                                taskA_train_data.label)\n",
    "clip_dino_test = SimpleDataset(torch.cat((taskA_test_data.features.cpu(),taskA_test_data_dino.features.cpu()),dim=1),\n",
    "                                taskA_test_data.label)"
   ]
  },
  {
   "cell_type": "code",
   "execution_count": 37,
   "metadata": {},
   "outputs": [
    {
     "ename": "RuntimeError",
     "evalue": "Error(s) in loading state_dict for MultiClassClassifier:\n\tsize mismatch for fc1.weight: copying a param with shape torch.Size([512, 768]) from checkpoint, the shape in current model is torch.Size([512, 1536]).",
     "output_type": "error",
     "traceback": [
      "\u001b[0;31m---------------------------------------------------------------------------\u001b[0m",
      "\u001b[0;31mRuntimeError\u001b[0m                              Traceback (most recent call last)",
      "Cell \u001b[0;32mIn[37], line 2\u001b[0m\n\u001b[1;32m      1\u001b[0m model_clip_dino \u001b[38;5;241m=\u001b[39m MultiClassClassifier(n_features\u001b[38;5;241m=\u001b[39mCLIP_FEATURE_DIM\u001b[38;5;241m+\u001b[39mDINO_FEATURE_DIM,n_classes\u001b[38;5;241m=\u001b[39m\u001b[38;5;241m2\u001b[39m)\u001b[38;5;241m.\u001b[39mto(device)\n\u001b[0;32m----> 2\u001b[0m \u001b[43mmodel_clip_dino\u001b[49m\u001b[38;5;241;43m.\u001b[39;49m\u001b[43mload_state_dict\u001b[49m\u001b[43m(\u001b[49m\u001b[43mtorch\u001b[49m\u001b[38;5;241;43m.\u001b[39;49m\u001b[43mload\u001b[49m\u001b[43m(\u001b[49m\u001b[38;5;124;43m\"\u001b[39;49m\u001b[38;5;124;43m../model/checkpoints/binary_train_real_fake_2k_fine_tune_meta_test.pt\u001b[39;49m\u001b[38;5;124;43m\"\u001b[39;49m\u001b[43m)\u001b[49m\u001b[43m)\u001b[49m\n\u001b[1;32m      3\u001b[0m model_clip_dino\u001b[38;5;241m.\u001b[39mtrain()\n\u001b[1;32m      6\u001b[0m lr \u001b[38;5;241m=\u001b[39m \u001b[38;5;241m1e-3\u001b[39m\n",
      "File \u001b[0;32m~/micromamba/envs/clip/lib/python3.11/site-packages/torch/nn/modules/module.py:2189\u001b[0m, in \u001b[0;36mModule.load_state_dict\u001b[0;34m(self, state_dict, strict, assign)\u001b[0m\n\u001b[1;32m   2184\u001b[0m         error_msgs\u001b[38;5;241m.\u001b[39minsert(\n\u001b[1;32m   2185\u001b[0m             \u001b[38;5;241m0\u001b[39m, \u001b[38;5;124m'\u001b[39m\u001b[38;5;124mMissing key(s) in state_dict: \u001b[39m\u001b[38;5;132;01m{}\u001b[39;00m\u001b[38;5;124m. \u001b[39m\u001b[38;5;124m'\u001b[39m\u001b[38;5;241m.\u001b[39mformat(\n\u001b[1;32m   2186\u001b[0m                 \u001b[38;5;124m'\u001b[39m\u001b[38;5;124m, \u001b[39m\u001b[38;5;124m'\u001b[39m\u001b[38;5;241m.\u001b[39mjoin(\u001b[38;5;124mf\u001b[39m\u001b[38;5;124m'\u001b[39m\u001b[38;5;124m\"\u001b[39m\u001b[38;5;132;01m{\u001b[39;00mk\u001b[38;5;132;01m}\u001b[39;00m\u001b[38;5;124m\"\u001b[39m\u001b[38;5;124m'\u001b[39m \u001b[38;5;28;01mfor\u001b[39;00m k \u001b[38;5;129;01min\u001b[39;00m missing_keys)))\n\u001b[1;32m   2188\u001b[0m \u001b[38;5;28;01mif\u001b[39;00m \u001b[38;5;28mlen\u001b[39m(error_msgs) \u001b[38;5;241m>\u001b[39m \u001b[38;5;241m0\u001b[39m:\n\u001b[0;32m-> 2189\u001b[0m     \u001b[38;5;28;01mraise\u001b[39;00m \u001b[38;5;167;01mRuntimeError\u001b[39;00m(\u001b[38;5;124m'\u001b[39m\u001b[38;5;124mError(s) in loading state_dict for \u001b[39m\u001b[38;5;132;01m{}\u001b[39;00m\u001b[38;5;124m:\u001b[39m\u001b[38;5;130;01m\\n\u001b[39;00m\u001b[38;5;130;01m\\t\u001b[39;00m\u001b[38;5;132;01m{}\u001b[39;00m\u001b[38;5;124m'\u001b[39m\u001b[38;5;241m.\u001b[39mformat(\n\u001b[1;32m   2190\u001b[0m                        \u001b[38;5;28mself\u001b[39m\u001b[38;5;241m.\u001b[39m\u001b[38;5;18m__class__\u001b[39m\u001b[38;5;241m.\u001b[39m\u001b[38;5;18m__name__\u001b[39m, \u001b[38;5;124m\"\u001b[39m\u001b[38;5;130;01m\\n\u001b[39;00m\u001b[38;5;130;01m\\t\u001b[39;00m\u001b[38;5;124m\"\u001b[39m\u001b[38;5;241m.\u001b[39mjoin(error_msgs)))\n\u001b[1;32m   2191\u001b[0m \u001b[38;5;28;01mreturn\u001b[39;00m _IncompatibleKeys(missing_keys, unexpected_keys)\n",
      "\u001b[0;31mRuntimeError\u001b[0m: Error(s) in loading state_dict for MultiClassClassifier:\n\tsize mismatch for fc1.weight: copying a param with shape torch.Size([512, 768]) from checkpoint, the shape in current model is torch.Size([512, 1536])."
     ]
    }
   ],
   "source": [
    "model_clip_dino = MultiClassClassifier(n_features=CLIP_FEATURE_DIM+DINO_FEATURE_DIM,n_classes=2).to(device)\n",
    "model_clip_dino.load_state_dict(torch.load(\"../model/checkpoints/binary_train_real_fake_2k_fine_tune_meta_test.pt\"))\n",
    "model_clip_dino.train()\n",
    "\n",
    "\n",
    "lr = 1e-3\n",
    "batch_size = 64\n",
    "n_epochs = 200\n",
    "\n",
    "loss_fn = nn.CrossEntropyLoss()\n",
    "optimizer = torch.optim.SGD(model_clip_dino.parameters(), lr=lr)\n",
    "rng = torch.Generator().manual_seed(SEED)\n",
    "\n",
    "train_loader = DataLoader(clip_dino_train,batch_size=batch_size,generator=rng, shuffle=True)\n",
    "\n",
    "for epoch in range(1,n_epochs+1):\n",
    "    for idx, batch in enumerate(train_loader):\n",
    "        # prediction and loss\n",
    "        pred = model_clip_dino((batch[\"features\"]).to(device))\n",
    "        loss = loss_fn(pred,batch[\"label\"].type(torch.LongTensor).to(device))\n",
    "\n",
    "        # backpropagation\n",
    "        loss.backward()\n",
    "        optimizer.step()\n",
    "        optimizer.zero_grad()\n",
    "        \n",
    "    loss, current = loss.item(), idx*batch_size + len(batch[\"features\"])\n",
    "    if epoch%10 == 0 and epoch > 0:\n",
    "        print(f\"loss: {loss:>7f}  [{epoch:>5d}/{n_epochs:>5d}]\")"
   ]
  }
 ],
 "metadata": {
  "kernelspec": {
   "display_name": "Python 3",
   "language": "python",
   "name": "python3"
  },
  "language_info": {
   "codemirror_mode": {
    "name": "ipython",
    "version": 3
   },
   "file_extension": ".py",
   "mimetype": "text/x-python",
   "name": "python",
   "nbconvert_exporter": "python",
   "pygments_lexer": "ipython3",
   "version": "3.11.9"
  }
 },
 "nbformat": 4,
 "nbformat_minor": 2
}
