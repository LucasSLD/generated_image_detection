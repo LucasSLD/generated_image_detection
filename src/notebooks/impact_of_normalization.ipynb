{
 "cells": [
  {
   "cell_type": "code",
   "execution_count": 1,
   "metadata": {},
   "outputs": [],
   "source": [
    "%load_ext autoreload\n",
    "%autoreload 2"
   ]
  },
  {
   "cell_type": "code",
   "execution_count": 5,
   "metadata": {},
   "outputs": [],
   "source": [
    "import open_clip\n",
    "import torch\n",
    "from sklearn.svm import LinearSVC\n",
    "import numpy as np\n",
    "from datasets import load_from_disk\n",
    "from tqdm import tqdm\n",
    "import sys\n",
    "sys.path.append(\"../tools\")\n",
    "from utils import load_data_split\n",
    "from sklearn.model_selection import cross_val_score\n",
    "import warnings\n",
    "import pandas as pd\n",
    "from IPython.display import clear_output"
   ]
  },
  {
   "cell_type": "code",
   "execution_count": 6,
   "metadata": {},
   "outputs": [],
   "source": [
    "model, _, preprocess = open_clip.create_model_and_transforms('hf-hub:laion/CLIP-ViT-L-14-DataComp.XL-s13B-b90K',device=\"cuda\")\n",
    "\n",
    "model.eval()\n",
    "clear_output()"
   ]
  },
  {
   "cell_type": "code",
   "execution_count": 7,
   "metadata": {},
   "outputs": [],
   "source": [
    "device = \"cuda\" if torch.cuda.is_available() else \"cpu\""
   ]
  },
  {
   "cell_type": "code",
   "execution_count": 8,
   "metadata": {},
   "outputs": [
    {
     "name": "stderr",
     "output_type": "stream",
     "text": [
      "100%|██████████| 1000/1000 [00:17<00:00, 56.18it/s]\n",
      "100%|██████████| 1000/1000 [00:18<00:00, 55.51it/s]\n"
     ]
    }
   ],
   "source": [
    "X_train, y_train = load_data_split(dataset_path=\"../../data/medium_QF_40\",\n",
    "                                   split=\"train\",\n",
    "                                   model=model,\n",
    "                                   preprocess=preprocess,\n",
    "                                   device=device,\n",
    "                                   normalize=False,\n",
    "                                   show_progress_bar=True)\n",
    "\n",
    "X_train_norm, y_train_norm = load_data_split(dataset_path=\"../../data/medium_QF_40\",\n",
    "                                             split=\"train\",\n",
    "                                             model=model,\n",
    "                                             preprocess=preprocess,\n",
    "                                             device=device,\n",
    "                                             normalize=True,\n",
    "                                             show_progress_bar=True)"
   ]
  },
  {
   "cell_type": "code",
   "execution_count": 9,
   "metadata": {},
   "outputs": [
    {
     "name": "stderr",
     "output_type": "stream",
     "text": [
      "100%|██████████| 1000/1000 [00:18<00:00, 52.84it/s]\n",
      "100%|██████████| 1000/1000 [00:19<00:00, 51.62it/s]\n"
     ]
    }
   ],
   "source": [
    "X_test, y_test = load_data_split(dataset_path=\"../../data/medium_QF_40\",\n",
    "                                 split=\"test\",\n",
    "                                 model=model,\n",
    "                                 preprocess=preprocess,\n",
    "                                 device=device,\n",
    "                                 normalize=False,\n",
    "                                 show_progress_bar=True)\n",
    "\n",
    "X_test_norm, y_test_norm = load_data_split(dataset_path=\"../../data/medium_QF_40\",\n",
    "                                           split=\"test\",\n",
    "                                           model=model,\n",
    "                                           preprocess=preprocess,\n",
    "                                           device=device,\n",
    "                                           normalize=True,\n",
    "                                           show_progress_bar=True)"
   ]
  },
  {
   "cell_type": "code",
   "execution_count": 22,
   "metadata": {},
   "outputs": [],
   "source": [
    "def get_score(X_train, y_train, X_test, y_test):\n",
    "    clf = LinearSVC(dual=False)\n",
    "    return clf.fit(X_train,y_train).score(X_test,y_test)"
   ]
  },
  {
   "cell_type": "markdown",
   "metadata": {},
   "source": [
    "## No normalization (not on train nor test)"
   ]
  },
  {
   "cell_type": "code",
   "execution_count": 23,
   "metadata": {},
   "outputs": [
    {
     "data": {
      "text/plain": [
       "0.965"
      ]
     },
     "execution_count": 23,
     "metadata": {},
     "output_type": "execute_result"
    }
   ],
   "source": [
    "get_score(X_train=X_train,\n",
    "          y_train=y_train,\n",
    "          X_test =X_test,\n",
    "          y_test =y_test)"
   ]
  },
  {
   "cell_type": "markdown",
   "metadata": {},
   "source": [
    "## Normalization on train and test"
   ]
  },
  {
   "cell_type": "code",
   "execution_count": 26,
   "metadata": {},
   "outputs": [
    {
     "data": {
      "text/plain": [
       "0.975"
      ]
     },
     "execution_count": 26,
     "metadata": {},
     "output_type": "execute_result"
    }
   ],
   "source": [
    "get_score(X_train=X_train_norm,\n",
    "          y_train=y_train_norm,\n",
    "          X_test=X_test_norm,\n",
    "          y_test=y_test_norm)"
   ]
  },
  {
   "cell_type": "code",
   "execution_count": 32,
   "metadata": {},
   "outputs": [
    {
     "name": "stderr",
     "output_type": "stream",
     "text": [
      "100%|██████████| 10000/10000 [03:04<00:00, 54.07it/s]\n"
     ]
    }
   ],
   "source": [
    "X_test, y_test = load_data_split(dataset_path=\"../../data/big_QF_40\",\n",
    "                                 split=\"test\",\n",
    "                                 model=model,\n",
    "                                 preprocess=preprocess,\n",
    "                                 device=device,\n",
    "                                 normalize=True,\n",
    "                                 show_progress_bar=True)"
   ]
  },
  {
   "cell_type": "code",
   "execution_count": 34,
   "metadata": {},
   "outputs": [
    {
     "name": "stderr",
     "output_type": "stream",
     "text": [
      "100%|██████████| 10000/10000 [03:03<00:00, 54.54it/s]\n",
      "100%|██████████| 10000/10000 [03:11<00:00, 52.25it/s]\n",
      "100%|██████████| 10000/10000 [03:09<00:00, 52.82it/s]\n"
     ]
    }
   ],
   "source": [
    "X_train_40, y_train_40 = load_data_split(dataset_path=\"../../data/big_QF_40\",\n",
    "                                   split=\"train\",\n",
    "                                   model=model,\n",
    "                                   preprocess=preprocess,\n",
    "                                   device=device,\n",
    "                                   normalize=True,\n",
    "                                   show_progress_bar=True)\n",
    "X_train_65, y_train_65 = load_data_split(dataset_path=\"../../data/big_QF_65\",\n",
    "                                   split=\"train\",\n",
    "                                   model=model,\n",
    "                                   preprocess=preprocess,\n",
    "                                   device=device,\n",
    "                                   normalize=True,\n",
    "                                   show_progress_bar=True)\n",
    "X_train_90, y_train_90 = load_data_split(dataset_path=\"../../data/big_QF_90\",\n",
    "                                   split=\"train\",\n",
    "                                   model=model,\n",
    "                                   preprocess=preprocess,\n",
    "                                   device=device,\n",
    "                                   normalize=True,\n",
    "                                   show_progress_bar=True)"
   ]
  },
  {
   "cell_type": "code",
   "execution_count": 35,
   "metadata": {},
   "outputs": [
    {
     "name": "stdout",
     "output_type": "stream",
     "text": [
      "score for training on QF 40 0.99\n",
      "score for training on QF 65 0.9678\n",
      "score for training on QF 90 0.7496\n"
     ]
    }
   ],
   "source": [
    "labels = (40, 65, 90)\n",
    "train = ((X_train_40,y_train_40),\n",
    "         (X_train_65,y_train_65),\n",
    "         (X_train_90,y_train_90))\n",
    "for i, l in enumerate(labels):\n",
    "    print(f\"score for training on QF {l}\", get_score(train[i][0],\n",
    "                                                     train[i][1],\n",
    "                                                     X_test,\n",
    "                                                     y_test))"
   ]
  }
 ],
 "metadata": {
  "kernelspec": {
   "display_name": "Python 3",
   "language": "python",
   "name": "python3"
  },
  "language_info": {
   "codemirror_mode": {
    "name": "ipython",
    "version": 3
   },
   "file_extension": ".py",
   "mimetype": "text/x-python",
   "name": "python",
   "nbconvert_exporter": "python",
   "pygments_lexer": "ipython3",
   "version": "3.11.9"
  }
 },
 "nbformat": 4,
 "nbformat_minor": 2
}
