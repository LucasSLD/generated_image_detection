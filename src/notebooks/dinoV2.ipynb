{
 "cells": [
  {
   "cell_type": "code",
   "execution_count": 1,
   "metadata": {},
   "outputs": [
    {
     "name": "stderr",
     "output_type": "stream",
     "text": [
      "/home/lsaland/micromamba/envs/clip/lib/python3.11/site-packages/tqdm/auto.py:21: TqdmWarning: IProgress not found. Please update jupyter and ipywidgets. See https://ipywidgets.readthedocs.io/en/stable/user_install.html\n",
      "  from .autonotebook import tqdm as notebook_tqdm\n"
     ]
    },
    {
     "name": "stdout",
     "output_type": "stream",
     "text": [
      "torch.Size([1, 3, 224, 224])\n",
      "torch.Size([1, 257, 768])\n"
     ]
    },
    {
     "name": "stderr",
     "output_type": "stream",
     "text": [
      "/home/lsaland/micromamba/envs/clip/lib/python3.11/site-packages/transformers/modeling_utils.py:4481: FutureWarning: `_is_quantized_training_enabled` is going to be deprecated in transformers 4.39.0. Please use `model.hf_quantizer.is_trainable` instead\n",
      "  warnings.warn(\n",
      "/home/lsaland/micromamba/envs/clip/lib/python3.11/site-packages/transformers/models/dinov2/modeling_dinov2.py:158: TracerWarning: Converting a tensor to a Python boolean might cause the trace to be incorrect. We can't record the data flow of Python values, so this value will be treated as a constant in the future. This means that the trace might not generalize to other inputs!\n",
      "  if num_channels != self.num_channels:\n",
      "/home/lsaland/micromamba/envs/clip/lib/python3.11/site-packages/transformers/models/dinov2/modeling_dinov2.py:88: TracerWarning: Converting a tensor to a Python boolean might cause the trace to be incorrect. We can't record the data flow of Python values, so this value will be treated as a constant in the future. This means that the trace might not generalize to other inputs!\n",
      "  if num_patches == num_positions and height == width:\n",
      "/home/lsaland/micromamba/envs/clip/lib/python3.11/site-packages/transformers/models/dinov2/modeling_dinov2.py:98: TracerWarning: Converting a tensor to a Python float might cause the trace to be incorrect. We can't record the data flow of Python values, so this value will be treated as a constant in the future. This means that the trace might not generalize to other inputs!\n",
      "  patch_pos_embed = patch_pos_embed.reshape(1, int(math.sqrt(num_positions)), int(math.sqrt(num_positions)), dim)\n",
      "/home/lsaland/micromamba/envs/clip/lib/python3.11/site-packages/transformers/models/dinov2/modeling_dinov2.py:103: TracerWarning: Converting a tensor to a Python float might cause the trace to be incorrect. We can't record the data flow of Python values, so this value will be treated as a constant in the future. This means that the trace might not generalize to other inputs!\n",
      "  scale_factor=(float(height / math.sqrt(num_positions)), float(width / math.sqrt(num_positions))),\n",
      "/home/lsaland/micromamba/envs/clip/lib/python3.11/site-packages/transformers/models/dinov2/modeling_dinov2.py:107: TracerWarning: Converting a tensor to a Python integer might cause the trace to be incorrect. We can't record the data flow of Python values, so this value will be treated as a constant in the future. This means that the trace might not generalize to other inputs!\n",
      "  if int(height) != patch_pos_embed.shape[-2] or int(width) != patch_pos_embed.shape[-1]:\n",
      "/home/lsaland/micromamba/envs/clip/lib/python3.11/site-packages/transformers/models/dinov2/modeling_dinov2.py:107: TracerWarning: Converting a tensor to a Python boolean might cause the trace to be incorrect. We can't record the data flow of Python values, so this value will be treated as a constant in the future. This means that the trace might not generalize to other inputs!\n",
      "  if int(height) != patch_pos_embed.shape[-2] or int(width) != patch_pos_embed.shape[-1]:\n",
      "/home/lsaland/micromamba/envs/clip/lib/python3.11/site-packages/torch/jit/_trace.py:1116: TracerWarning: Output nr 1. of the traced function does not match the corresponding output of the Python function. Detailed error:\n",
      "Tensor-likes are not close!\n",
      "\n",
      "Mismatched elements: 282 / 197376 (0.1%)\n",
      "Greatest absolute difference: 3.3795833587646484e-05 at index (0, 19, 137) (up to 1e-05 allowed)\n",
      "Greatest relative difference: 0.0413491966450623 at index (0, 6, 422) (up to 1e-05 allowed)\n",
      "  _check_trace(\n",
      "/home/lsaland/micromamba/envs/clip/lib/python3.11/site-packages/torch/jit/_trace.py:1116: TracerWarning: Output nr 2. of the traced function does not match the corresponding output of the Python function. Detailed error:\n",
      "Tensor-likes are not close!\n",
      "\n",
      "Mismatched elements: 2 / 768 (0.3%)\n",
      "Greatest absolute difference: 1.6808509826660156e-05 at index (0, 282) (up to 1e-05 allowed)\n",
      "Greatest relative difference: 0.0005818077592264318 at index (0, 185) (up to 1e-05 allowed)\n",
      "  _check_trace(\n"
     ]
    },
    {
     "name": "stdout",
     "output_type": "stream",
     "text": [
      "==============================================\n",
      "tensor(3.4332e-05)\n",
      "==============================================\n"
     ]
    }
   ],
   "source": [
    "import torch\n",
    "from transformers import AutoImageProcessor, AutoModel\n",
    "from PIL import Image\n",
    "import requests\n",
    "\n",
    "url = 'http://images.cocodataset.org/val2017/000000039769.jpg'\n",
    "image = Image.open(requests.get(url, stream=True).raw)\n",
    "\n",
    "processor = AutoImageProcessor.from_pretrained('facebook/dinov2-base')\n",
    "model = AutoModel.from_pretrained('facebook/dinov2-base')\n",
    "model.eval()\n",
    "inputs = processor(images=image, return_tensors=\"pt\")\n",
    "with torch.no_grad():\n",
    "    outputs = model(**inputs)\n",
    "last_hidden_states = outputs[0]\n",
    "print(inputs[\"pixel_values\"].shape)\n",
    "print(last_hidden_states.shape)\n",
    "\n",
    "# We have to force return_dict=False for tracing\n",
    "model.config.return_dict = False\n",
    "\n",
    "with torch.no_grad():\n",
    "    traced_model = torch.jit.trace(model, [inputs.pixel_values])\n",
    "    traced_outputs = traced_model(inputs.pixel_values)\n",
    "print(\"==============================================\")\n",
    "print((last_hidden_states - traced_outputs[0]).abs().max())\n",
    "print(\"==============================================\")"
   ]
  },
  {
   "cell_type": "code",
   "execution_count": null,
   "metadata": {},
   "outputs": [],
   "source": [
    "images = [Image.open(\"../../img/cat.png\"),Image.open(\"../../img/cat.jpg\")]\n",
    "inputs = processor(images=images,return_tensors=\"pt\")\n",
    "outputs = model(**inputs,output_hidden_states=False)\n",
    "print(outputs[0].shape)\n",
    "print(outputs[1].shape)"
   ]
  },
  {
   "cell_type": "code",
   "execution_count": 7,
   "metadata": {},
   "outputs": [
    {
     "name": "stderr",
     "output_type": "stream",
     "text": [
      "100%|██████████| 3/3 [00:00<00:00, 3843.28it/s]\n"
     ]
    },
    {
     "name": "stdout",
     "output_type": "stream",
     "text": [
      "tensor([[ 1.5281, -0.1413, -0.0816,  ..., -1.4269,  0.7635,  0.0101],\n",
      "        [ 3.2037,  0.1788,  0.1936,  ..., -0.4712,  0.1611, -0.8370],\n",
      "        [ 0.3670, -1.2459, -1.6046,  ...,  2.0357,  1.8933,  0.0943]],\n",
      "       device='cuda:0')\n",
      "torch.Size([3, 768])\n"
     ]
    }
   ],
   "source": [
    "import os\n",
    "from tqdm import tqdm\n",
    "data_path = \"/data3/AID/Flickr2048/\"\n",
    "imgs = []\n",
    "model.cuda()\n",
    "for file in tqdm(os.listdir(data_path)[:3]):\n",
    "    imgs.append(Image.open(data_path + file))\n",
    "inputs  = processor(images=imgs,return_tensors=\"pt\")\n",
    "with torch.no_grad():\n",
    "    outputs = model(inputs[\"pixel_values\"].cuda())\n",
    "print(outputs[1])\n",
    "print(outputs[1].shape)"
   ]
  },
  {
   "cell_type": "code",
   "execution_count": null,
   "metadata": {},
   "outputs": [],
   "source": [
    "outputs[0][1:,:].shape"
   ]
  },
  {
   "cell_type": "code",
   "execution_count": null,
   "metadata": {},
   "outputs": [],
   "source": [
    "torch.mean(torch.eq(outputs[0][:,0,:],outputs[1]).float())"
   ]
  },
  {
   "cell_type": "markdown",
   "metadata": {},
   "source": [
    "outputs[0][:,0,:] and outputs[1] both represent the class token"
   ]
  }
 ],
 "metadata": {
  "kernelspec": {
   "display_name": "Python 3",
   "language": "python",
   "name": "python3"
  },
  "language_info": {
   "codemirror_mode": {
    "name": "ipython",
    "version": 3
   },
   "file_extension": ".py",
   "mimetype": "text/x-python",
   "name": "python",
   "nbconvert_exporter": "python",
   "pygments_lexer": "ipython3",
   "version": "3.11.9"
  }
 },
 "nbformat": 4,
 "nbformat_minor": 2
}
