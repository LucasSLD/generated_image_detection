{
 "cells": [
  {
   "cell_type": "code",
   "execution_count": 2,
   "metadata": {},
   "outputs": [],
   "source": [
    "%load_ext autoreload\n",
    "%autoreload 2"
   ]
  },
  {
   "cell_type": "code",
   "execution_count": 72,
   "metadata": {},
   "outputs": [],
   "source": [
    "import sys\n",
    "sys.path.append(\"../model\")\n",
    "sys.path.append(\"../tools\")\n",
    "from constants import *\n",
    "from Tip_adapter import TipAdapter\n",
    "from dataset import FlickrAndPairs, TestMeta, TaskAWithLabel\n",
    "import torch\n",
    "from torch.utils.data import DataLoader, random_split\n",
    "import torch.nn as nn\n",
    "import matplotlib.pyplot as plt"
   ]
  },
  {
   "cell_type": "code",
   "execution_count": 60,
   "metadata": {},
   "outputs": [
    {
     "name": "stderr",
     "output_type": "stream",
     "text": [
      "100%|██████████| 10080/10080 [00:04<00:00, 2387.48it/s]\n"
     ]
    }
   ],
   "source": [
    "data = FlickrAndPairs(path=\"/data4/saland/data/real_fake_pairs_1000_name.pt\",load_from_disk=True)\n",
    "taskA = TaskAWithLabel(path_to_csv=\"../../misc/scanFinal.csv\",\n",
    "                       path_to_taskA=\"/data4/saland/data/taskA.pt\")\n",
    "# data = TestMeta(\"/data4/saland/data/test_meta.pt\",load_from_disk=True)"
   ]
  },
  {
   "cell_type": "markdown",
   "metadata": {},
   "source": [
    "# Tip-Adapter"
   ]
  },
  {
   "cell_type": "code",
   "execution_count": 5,
   "metadata": {},
   "outputs": [
    {
     "data": {
      "text/plain": [
       "0.7576740980148315"
      ]
     },
     "execution_count": 5,
     "metadata": {},
     "output_type": "execute_result"
    }
   ],
   "source": [
    "tip = TipAdapter(100, data)\n",
    "test_meta = TestMeta(path=\"/data4/saland/data/test_meta.pt\",load_from_disk=True)\n",
    "tip.get_accuracy(test_meta.features,test_meta.label,\"cpu\")"
   ]
  },
  {
   "cell_type": "code",
   "execution_count": 6,
   "metadata": {},
   "outputs": [
    {
     "name": "stderr",
     "output_type": "stream",
     "text": [
      "100%|██████████| 10080/10080 [00:04<00:00, 2340.46it/s]\n"
     ]
    },
    {
     "data": {
      "text/plain": [
       "0.6840277910232544"
      ]
     },
     "execution_count": 6,
     "metadata": {},
     "output_type": "execute_result"
    }
   ],
   "source": [
    "tip.get_accuracy(taskA.features,taskA.label,\"cpu\")"
   ]
  },
  {
   "cell_type": "code",
   "execution_count": 7,
   "metadata": {},
   "outputs": [
    {
     "name": "stdout",
     "output_type": "stream",
     "text": [
      "accuracy on taskA    with cache of size 2: 0.6822420358657837\n",
      "accuracy on testMeta with cache of size 2: 0.6530447006225586\n",
      "accuracy on taskA    with cache of size 4: 0.692460298538208\n",
      "accuracy on testMeta with cache of size 4: 0.7086349129676819\n",
      "accuracy on taskA    with cache of size 6: 0.7045634984970093\n",
      "accuracy on testMeta with cache of size 6: 0.7354629635810852\n",
      "accuracy on taskA    with cache of size 8: 0.7547619342803955\n",
      "accuracy on testMeta with cache of size 8: 0.7449463605880737\n",
      "accuracy on taskA    with cache of size 16: 0.7176587581634521\n",
      "accuracy on testMeta with cache of size 16: 0.7693411707878113\n",
      "accuracy on taskA    with cache of size 32: 0.6936507821083069\n",
      "accuracy on testMeta with cache of size 32: 0.7455078363418579\n",
      "accuracy on taskA    with cache of size 64: 0.6016865372657776\n",
      "accuracy on testMeta with cache of size 64: 0.7120040059089661\n",
      "accuracy on taskA    with cache of size 128: 0.6962301731109619\n",
      "accuracy on testMeta with cache of size 128: 0.7583603858947754\n",
      "accuracy on taskA    with cache of size 200: 0.6840277910232544\n",
      "accuracy on testMeta with cache of size 200: 0.7576740980148315\n",
      "accuracy on taskA    with cache of size 1000: 0.6862103343009949\n",
      "accuracy on testMeta with cache of size 1000: 0.751185417175293\n",
      "accuracy on taskA    with cache of size 2000: 0.6839285492897034\n",
      "accuracy on testMeta with cache of size 2000: 0.7528699636459351\n"
     ]
    }
   ],
   "source": [
    "for k in (1,2,3,4,8,16,32,64,100,500,1000):\n",
    "    tip = TipAdapter(k,data)\n",
    "    print(f\"accuracy on taskA    with cache of size {len(tip)}:\",tip.get_accuracy(taskA.features,taskA.label,\"cpu\"))\n",
    "    print(f\"accuracy on testMeta with cache of size {len(tip)}:\",tip.get_accuracy(test_meta.features,test_meta.label,\"cpu\"))"
   ]
  },
  {
   "cell_type": "code",
   "execution_count": 8,
   "metadata": {},
   "outputs": [
    {
     "name": "stdout",
     "output_type": "stream",
     "text": [
      "accuracy on taskA    with alpha=0: 0.6501984000205994\n",
      "accuracy on testMeta with alpha=0: 0.4730471670627594\n",
      "accuracy on taskA    with alpha=1: 0.7364087104797363\n",
      "accuracy on testMeta with alpha=1: 0.6531070470809937\n",
      "accuracy on taskA    with alpha=2: 0.7532737851142883\n",
      "accuracy on testMeta with alpha=2: 0.7110681533813477\n",
      "accuracy on taskA    with alpha=3: 0.7559523582458496\n",
      "accuracy on testMeta with alpha=3: 0.7311579585075378\n",
      "accuracy on taskA    with alpha=4: 0.7545635104179382\n",
      "accuracy on testMeta with alpha=4: 0.7400798797607422\n",
      "accuracy on taskA    with alpha=5: 0.7547619342803955\n",
      "accuracy on testMeta with alpha=5: 0.7449463605880737\n"
     ]
    }
   ],
   "source": [
    "for alpha in range(6):\n",
    "    tip = TipAdapter(4,data,alpha=alpha)\n",
    "    print(f\"accuracy on taskA    with alpha={alpha}:\",tip.get_accuracy(taskA.features,taskA.label,\"cpu\"))\n",
    "    print(f\"accuracy on testMeta with alpha={alpha}:\",tip.get_accuracy(test_meta.features,test_meta.label,\"cpu\"))"
   ]
  },
  {
   "cell_type": "markdown",
   "metadata": {},
   "source": [
    "# Tip-Adapter-F"
   ]
  },
  {
   "cell_type": "code",
   "execution_count": 91,
   "metadata": {},
   "outputs": [],
   "source": [
    "device = \"cuda:0\"\n",
    "tip_F = TipAdapter(50, data,device=device)\n",
    "tip = TipAdapter(50, data,device=device)"
   ]
  },
  {
   "cell_type": "code",
   "execution_count": 92,
   "metadata": {},
   "outputs": [],
   "source": [
    "ft_data = TestMeta(path=\"/data4/saland/data/test_meta.pt\",load_from_disk=True)"
   ]
  },
  {
   "cell_type": "code",
   "execution_count": 93,
   "metadata": {},
   "outputs": [
    {
     "data": {
      "text/plain": [
       "Parameter containing:\n",
       "tensor([[-0.0136, -0.0105,  0.0072,  ...,  0.0377, -0.0176, -0.0032],\n",
       "        [ 0.0132,  0.0452,  0.0132,  ..., -0.0054,  0.0031,  0.0111],\n",
       "        [ 0.0295,  0.0077,  0.0422,  ...,  0.0049, -0.0926,  0.0768],\n",
       "        ...,\n",
       "        [ 0.0143,  0.0288,  0.0248,  ..., -0.0174, -0.0237,  0.0027],\n",
       "        [-0.0065, -0.0263,  0.0403,  ..., -0.0178, -0.0178, -0.0255],\n",
       "        [-0.0197, -0.0379, -0.0126,  ..., -0.0319, -0.0008,  0.0046]],\n",
       "       device='cuda:0', requires_grad=True)"
      ]
     },
     "execution_count": 93,
     "metadata": {},
     "output_type": "execute_result"
    }
   ],
   "source": [
    "tip_F.F_train"
   ]
  },
  {
   "cell_type": "code",
   "execution_count": 98,
   "metadata": {},
   "outputs": [],
   "source": [
    "tip_F.train()\n",
    "tip_F.F_train.requires_grad = True\n",
    "\n",
    "lr = 1e-3\n",
    "batch_size = 64\n",
    "# n_epochs = 200\n",
    "\n",
    "loss_fn = nn.CrossEntropyLoss()\n",
    "optimizer = torch.optim.SGD(tip_F.parameters(), lr=lr)\n",
    "\n",
    "rng = torch.Generator().manual_seed(SEED)\n",
    "train_data, test_data, validation_data = random_split(ft_data,[0.7,0.2,0.1],generator=rng)\n",
    "\n",
    "train_loader = DataLoader(train_data,batch_size=batch_size,shuffle=True)\n",
    "test_loader  = DataLoader(test_data,batch_size=len(test_data),shuffle=True)\n",
    "val_loader  = DataLoader(validation_data,batch_size=len(validation_data),shuffle=True)"
   ]
  },
  {
   "cell_type": "code",
   "execution_count": 105,
   "metadata": {},
   "outputs": [
    {
     "name": "stdout",
     "output_type": "stream",
     "text": [
      "fine-tune on n_epochs = 5\n",
      "tip-adapter-F accuracy on taskA: 0.8500992059707642\n",
      "fine-tune on n_epochs = 10\n",
      "tip-adapter-F accuracy on taskA: 0.863095223903656\n",
      "fine-tune on n_epochs = 20\n",
      "tip-adapter-F accuracy on taskA: 0.8804563879966736\n",
      "fine-tune on n_epochs = 50\n",
      "tip-adapter-F accuracy on taskA: 0.894444465637207\n",
      "fine-tune on n_epochs = 100\n",
      "tip-adapter-F accuracy on taskA: 0.8999007940292358\n",
      "tip-adapter accuracy on taskA:   0.6868055462837219\n"
     ]
    }
   ],
   "source": [
    "val_accuracy = []\n",
    "for n_epochs in (5,10,20,50,100):\n",
    "    loss_history = []\n",
    "    print(\"fine-tune on n_epochs =\",n_epochs)\n",
    "    tip_F = TipAdapter(50, data,device=device)\n",
    "    tip_F.train()\n",
    "    tip_F.F_train.requires_grad = True\n",
    "\n",
    "    lr = 1e-3\n",
    "    batch_size = 64\n",
    "    # n_epochs = 200\n",
    "\n",
    "    loss_fn = nn.CrossEntropyLoss()\n",
    "    optimizer = torch.optim.SGD(tip_F.parameters(), lr=lr)\n",
    "\n",
    "    rng = torch.Generator().manual_seed(SEED)\n",
    "    for epoch in range(1,n_epochs+1):\n",
    "        for idx, batch in enumerate(train_loader):\n",
    "            # prediction and loss\n",
    "            pred = tip_F(batch[\"features\"].to(device))\n",
    "            loss = loss_fn(pred,batch[\"label\"].type(torch.LongTensor).to(device))\n",
    "\n",
    "            # backpropagation\n",
    "            loss.backward()\n",
    "            optimizer.step()\n",
    "            optimizer.zero_grad()\n",
    "\n",
    "        loss, current = loss.item(), idx*batch_size + len(batch[\"features\"])\n",
    "        # if epoch%10 == 0 and epoch > 0:\n",
    "        #     loss_history.append(loss)\n",
    "        #     print(f\"loss: {loss:>7f}  [{epoch:>5d}/{n_epochs:>5d}]\")\n",
    "    print(\"tip-adapter-F accuracy on taskA:\",tip_F.get_accuracy(taskA.features,taskA.label,device=device))\n",
    "print()\n",
    "print(\"tip-adapter accuracy on taskA:  \",tip.get_accuracy(taskA.features,taskA.label,device=device))"
   ]
  }
 ],
 "metadata": {
  "kernelspec": {
   "display_name": "Python 3",
   "language": "python",
   "name": "python3"
  },
  "language_info": {
   "codemirror_mode": {
    "name": "ipython",
    "version": 3
   },
   "file_extension": ".py",
   "mimetype": "text/x-python",
   "name": "python",
   "nbconvert_exporter": "python",
   "pygments_lexer": "ipython3",
   "version": "3.11.9"
  }
 },
 "nbformat": 4,
 "nbformat_minor": 2
}
