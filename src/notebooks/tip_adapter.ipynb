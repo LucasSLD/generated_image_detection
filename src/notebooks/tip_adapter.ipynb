{
 "cells": [
  {
   "cell_type": "code",
   "execution_count": 78,
   "metadata": {},
   "outputs": [
    {
     "name": "stdout",
     "output_type": "stream",
     "text": [
      "The autoreload extension is already loaded. To reload it, use:\n",
      "  %reload_ext autoreload\n"
     ]
    }
   ],
   "source": [
    "%load_ext autoreload\n",
    "%autoreload 2"
   ]
  },
  {
   "cell_type": "code",
   "execution_count": 79,
   "metadata": {},
   "outputs": [],
   "source": [
    "import sys\n",
    "sys.path.append(\"../model\")\n",
    "from Tip_adapter import TipAdapter\n",
    "from dataset import FlickrAndPairs, TestMeta, TaskAWithLabel\n",
    "import torch"
   ]
  },
  {
   "cell_type": "code",
   "execution_count": 86,
   "metadata": {},
   "outputs": [],
   "source": [
    "data = FlickrAndPairs(path=\"/data4/saland/data/real_fake_pairs_1000_name.pt\",load_from_disk=True)\n",
    "# data = TestMeta(\"/data4/saland/data/test_meta.pt\",load_from_disk=True)\n",
    "tip = TipAdapter(100, data)"
   ]
  },
  {
   "cell_type": "code",
   "execution_count": 87,
   "metadata": {},
   "outputs": [
    {
     "data": {
      "text/plain": [
       "0.7576740980148315"
      ]
     },
     "execution_count": 87,
     "metadata": {},
     "output_type": "execute_result"
    }
   ],
   "source": [
    "test_meta = TestMeta(path=\"/data4/saland/data/test_meta.pt\",load_from_disk=True)\n",
    "tip.get_accuracy(test_meta.features,test_meta.label,\"cpu\")"
   ]
  },
  {
   "cell_type": "code",
   "execution_count": 88,
   "metadata": {},
   "outputs": [
    {
     "name": "stderr",
     "output_type": "stream",
     "text": [
      "100%|██████████| 10080/10080 [00:05<00:00, 1976.29it/s]\n"
     ]
    },
    {
     "data": {
      "text/plain": [
       "0.6840277910232544"
      ]
     },
     "execution_count": 88,
     "metadata": {},
     "output_type": "execute_result"
    }
   ],
   "source": [
    "taskA = TaskAWithLabel(path_to_csv=\"../../misc/scanFinal.csv\",\n",
    "                       path_to_taskA=\"/data4/saland/data/taskA.pt\")\n",
    "\n",
    "tip.get_accuracy(taskA.features,taskA.label,\"cpu\")"
   ]
  },
  {
   "cell_type": "code",
   "execution_count": 93,
   "metadata": {},
   "outputs": [],
   "source": [
    "for k in (1,2,3,4,8,16,32,64,100,500,1000):\n",
    "    tip = TipAdapter(k,data)\n",
    "    print(f\"accuracy on taskA    with cache of size {len(tip)}:\",tip.get_accuracy(taskA.features,taskA.label,\"cpu\"))\n",
    "    print(f\"accuracy on testMeta with cache of size {len(tip)}:\",tip.get_accuracy(test_meta.features,test_meta.label,\"cpu\"))"
   ]
  }
 ],
 "metadata": {
  "kernelspec": {
   "display_name": "Python 3",
   "language": "python",
   "name": "python3"
  },
  "language_info": {
   "codemirror_mode": {
    "name": "ipython",
    "version": 3
   },
   "file_extension": ".py",
   "mimetype": "text/x-python",
   "name": "python",
   "nbconvert_exporter": "python",
   "pygments_lexer": "ipython3",
   "version": "3.11.9"
  }
 },
 "nbformat": 4,
 "nbformat_minor": 2
}
