{
 "cells": [
  {
   "cell_type": "code",
   "execution_count": 1,
   "metadata": {},
   "outputs": [],
   "source": [
    "%load_ext autoreload\n",
    "%autoreload 2"
   ]
  },
  {
   "cell_type": "code",
   "execution_count": 3,
   "metadata": {},
   "outputs": [],
   "source": [
    "from MLP_classifier import MultiClassClassifier\n",
    "from torch.utils.data import DataLoader\n",
    "import sys\n",
    "sys.path.append(\".\")\n",
    "from dataset import DeepFakeDatasetFastLoad, OOD, DeepFakeTest, RealFakePairs, DoubleCLIP\n",
    "import torch.nn as nn\n",
    "import torch\n",
    "sys.path.append(\"../tools\")\n",
    "from constants import *\n",
    "from sklearn.model_selection import train_test_split\n",
    "from torch.utils.data import random_split\n",
    "import matplotlib.pyplot as plt\n",
    "from sklearn.svm import LinearSVC\n",
    "from sklearn.multiclass import OneVsOneClassifier\n",
    "sys.path.append(\"../tools\")\n",
    "from utils import plot_loss_history"
   ]
  },
  {
   "cell_type": "markdown",
   "metadata": {},
   "source": [
    "# Parameters"
   ]
  },
  {
   "cell_type": "code",
   "execution_count": 53,
   "metadata": {},
   "outputs": [
    {
     "data": {
      "text/plain": [
       "MultiClassClassifier(\n",
       "  (fc1): Linear(in_features=768, out_features=512, bias=True)\n",
       "  (fc2): Linear(in_features=512, out_features=16, bias=True)\n",
       "  (act): ReLU()\n",
       ")"
      ]
     },
     "execution_count": 53,
     "metadata": {},
     "output_type": "execute_result"
    }
   ],
   "source": [
    "device = \"cuda:0\"\n",
    "model = MultiClassClassifier(n_classes=len(GEN_TO_INT.keys())).to(device=device)\n",
    "\n",
    "lr = 1e-3\n",
    "batch_size = 64\n",
    "epochs = 5\n",
    "\n",
    "loss_fn = nn.CrossEntropyLoss()\n",
    "optimizer = torch.optim.SGD(model.parameters(), lr=lr)\n",
    "\n",
    "data = DeepFakeDatasetFastLoad(PATH_TO_DATA4 + \"df_34000_V2.pt\")\n",
    "\n",
    "rng = torch.Generator().manual_seed(SEED)\n",
    "train_data, test_data, validation_data = random_split(data,[0.7,0.2,0.1],generator=rng)\n",
    "\n",
    "train_loader = DataLoader(train_data,batch_size=batch_size,shuffle=True)\n",
    "test_loader  = DataLoader(test_data,batch_size=len(test_data),shuffle=True)\n",
    "val_loader  = DataLoader(validation_data,batch_size=len(validation_data),shuffle=True)\n",
    "\n",
    "model.train()"
   ]
  },
  {
   "cell_type": "markdown",
   "metadata": {},
   "source": [
    "## Train for multi-class classification"
   ]
  },
  {
   "cell_type": "code",
   "execution_count": null,
   "metadata": {},
   "outputs": [],
   "source": [
    "model.set_generators_maps(gen_to_int=GEN_TO_INT,int_to_gen=INT_TO_GEN)"
   ]
  },
  {
   "cell_type": "code",
   "execution_count": null,
   "metadata": {},
   "outputs": [],
   "source": [
    "n_epochs = 1000\n",
    "val_accuracy = []\n",
    "loss_history = []\n",
    "for epoch in range(1,n_epochs+1):\n",
    "    for idx, batch in enumerate(train_loader):\n",
    "        # prediction and loss\n",
    "        pred = model(batch[\"features\"].cuda(device))\n",
    "        loss = loss_fn(pred,batch[\"generator\"].type(torch.LongTensor).cuda(device))\n",
    "\n",
    "        # backpropagation\n",
    "        loss.backward()\n",
    "        optimizer.step()\n",
    "        optimizer.zero_grad()\n",
    "        \n",
    "    loss, current = loss.item(), idx*batch_size + len(batch[\"features\"])\n",
    "    if epoch%10 == 0 and epoch > 0:\n",
    "        loss_history.append(loss)\n",
    "        for v in val_loader:\n",
    "            val_accuracy.append(\n",
    "                model.get_model_accuracy_binary(v[\"features\"],\n",
    "                                                v[\"label\"],\n",
    "                                                device))\n",
    "        print(f\"loss: {loss:>7f}  [{epoch:>5d}/{n_epochs:>5d}]\")"
   ]
  },
  {
   "cell_type": "code",
   "execution_count": null,
   "metadata": {},
   "outputs": [],
   "source": [
    "fig, (ax1, ax2) = plt.subplots(2,1,figsize=(10,6))\n",
    "ax1.set_title(\"loss\")\n",
    "ax2.set_title(\"accuracy on validation\")\n",
    "ax1.plot(range(1,n_epochs+1,10),loss_history)\n",
    "ax2.plot(range(1,n_epochs+1,10),val_accuracy)\n",
    "ax1.grid()\n",
    "ax2.grid() \n",
    "plt.show()"
   ]
  },
  {
   "cell_type": "markdown",
   "metadata": {},
   "source": [
    "## Test for binary classification"
   ]
  },
  {
   "cell_type": "code",
   "execution_count": null,
   "metadata": {},
   "outputs": [],
   "source": [
    "import torch.types\n",
    "\n",
    "with torch.no_grad():\n",
    "    model.eval()\n",
    "    for e in test_loader:\n",
    "        accuracy = model.get_model_accuracy_binary(features=e[\"features\"],\n",
    "                                                   true_labels=e[\"label\"],\n",
    "                                                   device=device)\n",
    "print(accuracy)"
   ]
  },
  {
   "cell_type": "markdown",
   "metadata": {},
   "source": [
    "### Comparison with SVM"
   ]
  },
  {
   "cell_type": "code",
   "execution_count": null,
   "metadata": {},
   "outputs": [],
   "source": [
    "from sklearn.svm import LinearSVC\n",
    "from sklearn.multiclass import OneVsOneClassifier\n",
    "\n",
    "clf = OneVsOneClassifier(LinearSVC(dual=\"auto\"))"
   ]
  },
  {
   "cell_type": "code",
   "execution_count": null,
   "metadata": {},
   "outputs": [],
   "source": [
    "train_loader_all = DataLoader(train_data,batch_size=len(train_data))\n",
    "for e in train_loader_all:\n",
    "    X_train = e[\"features\"]\n",
    "    gen_train = e[\"generator\"]\n",
    "    label_train = e[\"label\"]\n",
    "for e in test_loader:\n",
    "    X_test = e[\"features\"]\n",
    "    gen_test = e[\"generator\"]\n",
    "    label_test = e[\"label\"]\n",
    "\n",
    "clf.fit(X_train, gen_train) # train on multi-class classification"
   ]
  },
  {
   "cell_type": "code",
   "execution_count": null,
   "metadata": {},
   "outputs": [],
   "source": [
    "import numpy as np\n",
    "pred = data.class_to_label(clf.predict(X_test))\n",
    "np.mean(label_test.numpy() == pred.numpy()) # binary classification performance"
   ]
  },
  {
   "cell_type": "markdown",
   "metadata": {},
   "source": [
    "## Test on multi-class classification"
   ]
  },
  {
   "cell_type": "markdown",
   "metadata": {},
   "source": [
    "### Neural Network"
   ]
  },
  {
   "cell_type": "code",
   "execution_count": null,
   "metadata": {},
   "outputs": [],
   "source": [
    "import torch.types\n",
    "\n",
    "with torch.no_grad():\n",
    "    model.eval()\n",
    "    for e in test_loader:\n",
    "        accuracy = model.get_model_accuracy_multiclass(features=e[\"features\"],\n",
    "                                            true_classes=e[\"generator\"],\n",
    "                                            device=\"cuda:\"+str(device))\n",
    "print(accuracy)"
   ]
  },
  {
   "cell_type": "markdown",
   "metadata": {},
   "source": [
    "### SVM"
   ]
  },
  {
   "cell_type": "code",
   "execution_count": null,
   "metadata": {},
   "outputs": [],
   "source": [
    "clf.fit(X_train,gen_train).score(X_test,gen_test)"
   ]
  },
  {
   "cell_type": "markdown",
   "metadata": {},
   "source": [
    "# Saving the model"
   ]
  },
  {
   "cell_type": "code",
   "execution_count": 57,
   "metadata": {},
   "outputs": [],
   "source": [
    "path = f\"./checkpoints/multiclass_epochs=1000_loss=0.0692238137125969.pt\"\n",
    "# torch.save(model.state_dict(),path)"
   ]
  },
  {
   "cell_type": "markdown",
   "metadata": {},
   "source": [
    "# Loading the model"
   ]
  },
  {
   "cell_type": "code",
   "execution_count": 58,
   "metadata": {},
   "outputs": [
    {
     "data": {
      "text/plain": [
       "<All keys matched successfully>"
      ]
     },
     "execution_count": 58,
     "metadata": {},
     "output_type": "execute_result"
    }
   ],
   "source": [
    "model = MultiClassClassifier(n_classes=len(GEN_TO_INT.keys()))\n",
    "model.load_state_dict(torch.load(path))"
   ]
  },
  {
   "cell_type": "code",
   "execution_count": 60,
   "metadata": {},
   "outputs": [
    {
     "name": "stdout",
     "output_type": "stream",
     "text": [
      "0.9085294008255005\n"
     ]
    }
   ],
   "source": [
    "model.eval().cuda(device)\n",
    "with torch.no_grad():\n",
    "    for e in test_loader:\n",
    "        pred = torch.argmax(model(e[\"features\"].cuda(device)),dim=1)\n",
    "        acc = torch.mean(torch.eq(e[\"generator\"].cuda(device),pred).float()).item()\n",
    "        print(acc)"
   ]
  },
  {
   "cell_type": "markdown",
   "metadata": {},
   "source": [
    "# Train on data3 test on SB"
   ]
  },
  {
   "cell_type": "code",
   "execution_count": null,
   "metadata": {},
   "outputs": [],
   "source": [
    "from utils import load_synthbuster_balanced\n",
    "X_sb, y_sb = load_synthbuster_balanced(PATH_TO_DATA4 + \"synthbuster_test\",\n",
    "                                       binary_classification=True,\n",
    "                                       balance_real_fake=True)"
   ]
  },
  {
   "cell_type": "code",
   "execution_count": null,
   "metadata": {},
   "outputs": [],
   "source": [
    "model.get_model_accuracy_binary(torch.Tensor(X_sb).cuda(device),\n",
    "                                torch.Tensor(y_sb).cuda(device),\n",
    "                                device)"
   ]
  },
  {
   "cell_type": "markdown",
   "metadata": {},
   "source": [
    "# Test on OOD"
   ]
  },
  {
   "cell_type": "code",
   "execution_count": null,
   "metadata": {},
   "outputs": [],
   "source": [
    "ood = OOD(\"../../data/ood\",load_preprocessed=False,device=\"cuda:\" + str(device))"
   ]
  },
  {
   "cell_type": "code",
   "execution_count": null,
   "metadata": {},
   "outputs": [],
   "source": [
    "# ood.save(\"../../data/ood.pt\")"
   ]
  },
  {
   "cell_type": "code",
   "execution_count": null,
   "metadata": {},
   "outputs": [],
   "source": [
    "ood2 = OOD(PATH_TO_DATA4 + \"ood.pt\",load_preprocessed=True)"
   ]
  },
  {
   "cell_type": "code",
   "execution_count": null,
   "metadata": {},
   "outputs": [],
   "source": [
    "loader_test = DataLoader(ood2, batch_size=len(ood2), shuffle=True)"
   ]
  },
  {
   "cell_type": "code",
   "execution_count": null,
   "metadata": {},
   "outputs": [],
   "source": [
    "for e in loader_test:\n",
    "    model.eval()\n",
    "    with torch.no_grad():\n",
    "        accuracy = model.get_model_accuracy_binary(e[\"features\"],e[\"label\"],device)\n",
    "\n",
    "print(accuracy)"
   ]
  },
  {
   "cell_type": "markdown",
   "metadata": {},
   "source": [
    "# Training a binary classifier"
   ]
  },
  {
   "cell_type": "code",
   "execution_count": 67,
   "metadata": {},
   "outputs": [
    {
     "name": "stderr",
     "output_type": "stream",
     "text": [
      "filtering:   0%|          | 0/12 [00:00<?, ?it/s]"
     ]
    },
    {
     "name": "stderr",
     "output_type": "stream",
     "text": [
      "filtering: 100%|██████████| 12/12 [00:00<00:00, 158.71it/s]\n"
     ]
    },
    {
     "data": {
      "text/plain": [
       "MultiClassClassifier(\n",
       "  (fc1): Linear(in_features=768, out_features=512, bias=True)\n",
       "  (fc2): Linear(in_features=512, out_features=2, bias=True)\n",
       "  (act): ReLU()\n",
       ")"
      ]
     },
     "execution_count": 67,
     "metadata": {},
     "output_type": "execute_result"
    }
   ],
   "source": [
    "device = \"cuda:0\"\n",
    "clf_binary = MultiClassClassifier(n_classes=2).to(device)\n",
    "\n",
    "lr = 1e-3\n",
    "batch_size = 128\n",
    "n_epochs = 1000\n",
    "\n",
    "loss_fn = nn.CrossEntropyLoss()\n",
    "optimizer = torch.optim.SGD(clf_binary.parameters(), lr=lr)\n",
    "\n",
    "data = DeepFakeDatasetFastLoad(PATH_TO_DATA4 + \"df_34000_V2.pt\",\n",
    "                               remove_blacklisted_gen=True)\n",
    "clf_binary.set_generators_maps(gen_to_int=GEN_TO_INT,int_to_gen=INT_TO_GEN)\n",
    "\n",
    "\n",
    "rng = torch.Generator().manual_seed(SEED)\n",
    "train_data, test_data, validation_data = random_split(data,[0.7,0.2,0.1],generator=rng)\n",
    "\n",
    "train_loader = DataLoader(train_data,batch_size=batch_size,shuffle=True)\n",
    "test_loader  = DataLoader(test_data,batch_size=len(test_data),shuffle=True)\n",
    "val_loader  = DataLoader(validation_data,batch_size=len(validation_data),shuffle=True)\n",
    "\n",
    "clf_binary.train()"
   ]
  },
  {
   "cell_type": "code",
   "execution_count": 68,
   "metadata": {},
   "outputs": [
    {
     "name": "stdout",
     "output_type": "stream",
     "text": [
      "loss: 0.254174  [   10/ 1000]\n",
      "loss: 0.093920  [   20/ 1000]\n",
      "loss: 0.450883  [   30/ 1000]\n",
      "loss: 0.014565  [   40/ 1000]\n",
      "loss: 0.043445  [   50/ 1000]\n",
      "loss: 0.054383  [   60/ 1000]\n",
      "loss: 0.012452  [   70/ 1000]\n",
      "loss: 0.104798  [   80/ 1000]\n",
      "loss: 0.033186  [   90/ 1000]\n",
      "loss: 0.009909  [  100/ 1000]\n",
      "loss: 0.024631  [  110/ 1000]\n",
      "loss: 0.030945  [  120/ 1000]\n",
      "loss: 0.050639  [  130/ 1000]\n",
      "loss: 0.002710  [  140/ 1000]\n",
      "loss: 0.011735  [  150/ 1000]\n",
      "loss: 0.124056  [  160/ 1000]\n",
      "loss: 0.031568  [  170/ 1000]\n",
      "loss: 0.021027  [  180/ 1000]\n",
      "loss: 0.003857  [  190/ 1000]\n",
      "loss: 0.053024  [  200/ 1000]\n",
      "loss: 0.060919  [  210/ 1000]\n",
      "loss: 0.016649  [  220/ 1000]\n",
      "loss: 0.035134  [  230/ 1000]\n",
      "loss: 0.005480  [  240/ 1000]\n",
      "loss: 0.008170  [  250/ 1000]\n",
      "loss: 0.009000  [  260/ 1000]\n",
      "loss: 0.020427  [  270/ 1000]\n",
      "loss: 0.160656  [  280/ 1000]\n",
      "loss: 0.045226  [  290/ 1000]\n",
      "loss: 0.044380  [  300/ 1000]\n",
      "loss: 0.007756  [  310/ 1000]\n",
      "loss: 0.001458  [  320/ 1000]\n",
      "loss: 0.006739  [  330/ 1000]\n",
      "loss: 0.022985  [  340/ 1000]\n",
      "loss: 0.049857  [  350/ 1000]\n",
      "loss: 0.146354  [  360/ 1000]\n",
      "loss: 0.163628  [  370/ 1000]\n",
      "loss: 0.029327  [  380/ 1000]\n",
      "loss: 0.056001  [  390/ 1000]\n",
      "loss: 0.000864  [  400/ 1000]\n",
      "loss: 0.052336  [  410/ 1000]\n",
      "loss: 0.109640  [  420/ 1000]\n",
      "loss: 0.124169  [  430/ 1000]\n",
      "loss: 0.015089  [  440/ 1000]\n",
      "loss: 0.193292  [  450/ 1000]\n",
      "loss: 0.036304  [  460/ 1000]\n",
      "loss: 0.019530  [  470/ 1000]\n",
      "loss: 0.054773  [  480/ 1000]\n",
      "loss: 0.027968  [  490/ 1000]\n",
      "loss: 0.001482  [  500/ 1000]\n",
      "loss: 0.034377  [  510/ 1000]\n",
      "loss: 0.001143  [  520/ 1000]\n",
      "loss: 0.081191  [  530/ 1000]\n",
      "loss: 0.012813  [  540/ 1000]\n",
      "loss: 0.004885  [  550/ 1000]\n",
      "loss: 0.008484  [  560/ 1000]\n",
      "loss: 0.019130  [  570/ 1000]\n",
      "loss: 0.020940  [  580/ 1000]\n",
      "loss: 0.002307  [  590/ 1000]\n",
      "loss: 0.183249  [  600/ 1000]\n",
      "loss: 0.018700  [  610/ 1000]\n",
      "loss: 0.014349  [  620/ 1000]\n",
      "loss: 0.140218  [  630/ 1000]\n",
      "loss: 0.017314  [  640/ 1000]\n",
      "loss: 0.011441  [  650/ 1000]\n",
      "loss: 0.019655  [  660/ 1000]\n",
      "loss: 0.002434  [  670/ 1000]\n",
      "loss: 0.083101  [  680/ 1000]\n",
      "loss: 0.003549  [  690/ 1000]\n",
      "loss: 0.000831  [  700/ 1000]\n",
      "loss: 0.006168  [  710/ 1000]\n",
      "loss: 0.113483  [  720/ 1000]\n",
      "loss: 0.148881  [  730/ 1000]\n",
      "loss: 0.002049  [  740/ 1000]\n",
      "loss: 0.061335  [  750/ 1000]\n",
      "loss: 0.022516  [  760/ 1000]\n",
      "loss: 0.003301  [  770/ 1000]\n",
      "loss: 0.001095  [  780/ 1000]\n",
      "loss: 0.001143  [  790/ 1000]\n",
      "loss: 0.044439  [  800/ 1000]\n",
      "loss: 0.081133  [  810/ 1000]\n",
      "loss: 0.024860  [  820/ 1000]\n",
      "loss: 0.000370  [  830/ 1000]\n",
      "loss: 0.003043  [  840/ 1000]\n",
      "loss: 0.032511  [  850/ 1000]\n",
      "loss: 0.021256  [  860/ 1000]\n",
      "loss: 0.007850  [  870/ 1000]\n",
      "loss: 0.016504  [  880/ 1000]\n",
      "loss: 0.008080  [  890/ 1000]\n",
      "loss: 0.023730  [  900/ 1000]\n",
      "loss: 0.010565  [  910/ 1000]\n",
      "loss: 0.032634  [  920/ 1000]\n",
      "loss: 0.041923  [  930/ 1000]\n",
      "loss: 0.000170  [  940/ 1000]\n",
      "loss: 0.002711  [  950/ 1000]\n",
      "loss: 0.021471  [  960/ 1000]\n",
      "loss: 0.005452  [  970/ 1000]\n",
      "loss: 0.002570  [  980/ 1000]\n",
      "loss: 0.011488  [  990/ 1000]\n",
      "loss: 0.044269  [ 1000/ 1000]\n"
     ]
    }
   ],
   "source": [
    "val_accuracy = []\n",
    "loss_history = []\n",
    "for epoch in range(1,n_epochs+1):\n",
    "    for idx, batch in enumerate(train_loader):\n",
    "        # prediction and loss\n",
    "        pred = clf_binary(batch[\"features\"].to(device))\n",
    "        loss = loss_fn(pred,batch[\"label\"].type(torch.LongTensor).to(device))\n",
    "\n",
    "        # backpropagation\n",
    "        loss.backward()\n",
    "        optimizer.step()\n",
    "        optimizer.zero_grad()\n",
    "        \n",
    "    loss, current = loss.item(), idx*batch_size + len(batch[\"features\"])\n",
    "    if epoch%10 == 0 and epoch > 0:\n",
    "        loss_history.append(loss)\n",
    "        for v in val_loader:\n",
    "            pred = torch.argmax(clf_binary(v[\"features\"].to(device)),dim=1)\n",
    "            val_accuracy.append(torch.mean(torch.eq(v[\"label\"].to(device),pred).float()).item())\n",
    "        print(f\"loss: {loss:>7f}  [{epoch:>5d}/{n_epochs:>5d}]\")"
   ]
  },
  {
   "cell_type": "code",
   "execution_count": 69,
   "metadata": {},
   "outputs": [
    {
     "data": {
      "image/png": "[encoded data removed]",
      "text/plain": [
       "<Figure size 1000x600 with 2 Axes>"
      ]
     },
     "metadata": {},
     "output_type": "display_data"
    }
   ],
   "source": [
    "fig, (ax1, ax2) = plt.subplots(2,1,figsize=(10,6))\n",
    "ax1.set_title(\"loss\")\n",
    "ax2.set_title(\"accuracy on validation\")\n",
    "ax1.plot(range(1,n_epochs+1,10),loss_history)\n",
    "ax2.plot(range(1,n_epochs+1,10),val_accuracy)\n",
    "ax1.grid()\n",
    "ax2.grid() \n",
    "plt.show()"
   ]
  },
  {
   "cell_type": "code",
   "execution_count": 70,
   "metadata": {},
   "outputs": [],
   "source": [
    "# path = f\"./checkpoints/binary_epochs={n_epochs}_loss={loss}_filtered.pt\"\n",
    "torch.save(clf_binary.state_dict(),path)"
   ]
  },
  {
   "cell_type": "markdown",
   "metadata": {},
   "source": [
    "## Binary classifier Test VS MultiClass classifier"
   ]
  },
  {
   "cell_type": "code",
   "execution_count": 6,
   "metadata": {},
   "outputs": [
    {
     "data": {
      "text/plain": [
       "<All keys matched successfully>"
      ]
     },
     "execution_count": 6,
     "metadata": {},
     "output_type": "execute_result"
    }
   ],
   "source": [
    "clf_binary.load_state_dict(torch.load(\"./checkpoints/binary_epochs=1000_loss=0.02289319783449173.pt\"))\n",
    "clf_binary.eval()"
   ]
  },
  {
   "cell_type": "code",
   "execution_count": 16,
   "metadata": {},
   "outputs": [],
   "source": [
    "model = MultiClassClassifier(n_classes=len(GEN_TO_INT.keys()))\n",
    "model.eval()\n",
    "model.load_state_dict(torch.load(\"./checkpoints/multiclass_epochs=1000_loss=0.0692238137125969.pt\"))\n",
    "model.set_generators_maps(GEN_TO_INT,INT_TO_GEN)"
   ]
  },
  {
   "cell_type": "code",
   "execution_count": 17,
   "metadata": {},
   "outputs": [
    {
     "name": "stdout",
     "output_type": "stream",
     "text": [
      "Accuracy with binary classifier:      0.9754411578178406\n",
      "Accuracy with multi-class classifier: 0.9752941131591797\n"
     ]
    }
   ],
   "source": [
    "for e in test_loader:\n",
    "    with torch.no_grad():\n",
    "        print(\"Accuracy with binary classifier:     \",clf_binary.get_model_accuracy_binary(e[\"features\"],e[\"label\"],device,binary_model=True))\n",
    "        print(\"Accuracy with multi-class classifier:\",model.get_model_accuracy_binary(e[\"features\"],e[\"label\"],\"cpu\",binary_model=False))"
   ]
  },
  {
   "cell_type": "markdown",
   "metadata": {},
   "source": [
    "## Test on AID_TEST"
   ]
  },
  {
   "cell_type": "code",
   "execution_count": 73,
   "metadata": {},
   "outputs": [
    {
     "name": "stderr",
     "output_type": "stream",
     "text": [
      "filtering: 100%|██████████| 3/3 [00:00<00:00, 2833.99it/s]"
     ]
    },
    {
     "name": "stdout",
     "output_type": "stream",
     "text": [
      "Accuracy with binary classifier:      0.7097500562667847\n",
      "Accuracy with multi-class classifier: 0.7320000529289246\n"
     ]
    },
    {
     "name": "stderr",
     "output_type": "stream",
     "text": [
      "\n"
     ]
    }
   ],
   "source": [
    "data_test = DeepFakeTest(PATH_TO_DATA4 + \"df_test_60000.pt\",\n",
    "                         load_from_disk=True,\n",
    "                         remove_blacklisted_gen=True)\n",
    "\n",
    "with torch.no_grad():\n",
    "    \n",
    "    print(\"Accuracy with binary classifier:     \",\n",
    "          clf_binary.get_model_accuracy_binary(data_test.features,\n",
    "                                               data_test.label,\n",
    "                                               device,\n",
    "                                               binary_model=True))\n",
    "    model.set_generators_maps(gen_to_int=GEN_TO_INT,int_to_gen=INT_TO_GEN)\n",
    "    print(\"Accuracy with multi-class classifier:\",\n",
    "          model.get_model_accuracy_binary(data_test.features.to(device),\n",
    "                                          data_test.label.to(device),\n",
    "                                          device,\n",
    "                                          binary_model=False))"
   ]
  },
  {
   "cell_type": "markdown",
   "metadata": {},
   "source": [
    "# Accuracy per class"
   ]
  },
  {
   "cell_type": "code",
   "execution_count": 74,
   "metadata": {},
   "outputs": [],
   "source": [
    "d_AID = {}\n",
    "d_AID_TEST = {}\n",
    "\n",
    "for e in test_loader:\n",
    "    features = e[\"features\"]\n",
    "    label    = e[\"label\"]\n",
    "    gen      = e[\"generator\"]\n",
    "\n",
    "for key in GEN_TO_GEN:\n",
    "    d_AID[key] = {\n",
    "        \"features\": features[gen == GEN_TO_INT[key]],\n",
    "        \"label\": label[gen == GEN_TO_INT[key]]\n",
    "    }\n",
    "    d_AID_TEST[key] = {\n",
    "        \"features\": data_test.features[data_test.gen == GEN_TO_INT[key]],\n",
    "        \"label\"   : data_test.label[data_test.gen == GEN_TO_INT[key]]}"
   ]
  },
  {
   "cell_type": "code",
   "execution_count": 77,
   "metadata": {},
   "outputs": [
    {
     "data": {
      "text/plain": [
       "tensor([17000,  3000,  2000,  1000,  1000,  1000,  1000,  1000,  1000,  1000,\n",
       "         1000,  1000,  2000,     0,     0,  1000])"
      ]
     },
     "execution_count": 77,
     "metadata": {},
     "output_type": "execute_result"
    }
   ],
   "source": [
    "torch.bincount(data.gen)"
   ]
  },
  {
   "cell_type": "code",
   "execution_count": 79,
   "metadata": {},
   "outputs": [
    {
     "data": {
      "text/plain": [
       "tensor([30000,  6000,  3000,  2000,  2000,  1000,  1000,  1000,  1000,  1000,\n",
       "         1000,  3000,  4000,  1000,  1000,  2000], device='cuda:0')"
      ]
     },
     "execution_count": 79,
     "metadata": {},
     "output_type": "execute_result"
    }
   ],
   "source": [
    "torch.bincount(data_test.gen.int())"
   ]
  },
  {
   "cell_type": "code",
   "execution_count": 81,
   "metadata": {},
   "outputs": [
    {
     "data": {
      "text/plain": [
       "'binary accuracy on test from AID:'"
      ]
     },
     "metadata": {},
     "output_type": "display_data"
    },
    {
     "data": {
      "text/plain": [
       "{'null': 0.9822364449501038,\n",
       " 'Stable diffusion': 0.9640522599220276,\n",
       " 'Kandisky': 0.9897435903549194,\n",
       " 'DF_XL': 0.9519230723381042,\n",
       " 'dreamlike': 0.9402984976768494,\n",
       " 'gigaGan': 0.8612716794013977,\n",
       " 'GlideUP': 0.9902912378311157,\n",
       " 'LafitteUP': 0.9952830076217651,\n",
       " 'LCM_Dreamshaper': 0.994535505771637,\n",
       " 'megaDallEUP': 0.9892473220825195,\n",
       " 'miniDallEUP': 0.9948186278343201,\n",
       " 'pixart': 0.9947368502616882,\n",
       " 'playground': 0.9410377144813538,\n",
       " 'styleGan2': nan,\n",
       " 'styleGan3': nan,\n",
       " 'animagineXL': 0.9893617033958435}"
      ]
     },
     "metadata": {},
     "output_type": "display_data"
    },
    {
     "data": {
      "text/plain": [
       "'binary accuracy on AID_TEST:     '"
      ]
     },
     "metadata": {},
     "output_type": "display_data"
    },
    {
     "data": {
      "text/plain": [
       "{'null': 0.562666654586792,\n",
       " 'Stable diffusion': 0.9446666836738586,\n",
       " 'Kandisky': 0.8793333172798157,\n",
       " 'DF_XL': 0.8870000243186951,\n",
       " 'dreamlike': 0.7275000214576721,\n",
       " 'gigaGan': 0.8100000023841858,\n",
       " 'GlideUP': 0.9940000176429749,\n",
       " 'LafitteUP': 0.9980000257492065,\n",
       " 'LCM_Dreamshaper': 0.9800000190734863,\n",
       " 'megaDallEUP': 0.9909999966621399,\n",
       " 'miniDallEUP': 0.9929999709129333,\n",
       " 'pixart': 0.890666663646698,\n",
       " 'playground': 0.8812500238418579,\n",
       " 'styleGan2': 0.7480000257492065,\n",
       " 'styleGan3': 0.6819999814033508,\n",
       " 'animagineXL': 0.9884999990463257}"
      ]
     },
     "metadata": {},
     "output_type": "display_data"
    },
    {
     "data": {
      "text/plain": [
       "'multi-class accuracy on test from AID:'"
      ]
     },
     "metadata": {},
     "output_type": "display_data"
    },
    {
     "data": {
      "text/plain": [
       "{'null': 0.9822364449501038,\n",
       " 'Stable diffusion': 0.8235294222831726,\n",
       " 'Kandisky': 0.8487179279327393,\n",
       " 'DF_XL': 0.870192289352417,\n",
       " 'dreamlike': 0.6368159055709839,\n",
       " 'gigaGan': 0.7398843765258789,\n",
       " 'GlideUP': 0.9368932247161865,\n",
       " 'LafitteUP': 0.9905660152435303,\n",
       " 'LCM_Dreamshaper': 0.9234972596168518,\n",
       " 'megaDallEUP': 0.8655914068222046,\n",
       " 'miniDallEUP': 0.9430052042007446,\n",
       " 'pixart': 0.699999988079071,\n",
       " 'playground': 0.7429245114326477,\n",
       " 'styleGan2': nan,\n",
       " 'styleGan3': nan,\n",
       " 'animagineXL': 0.9042553305625916}"
      ]
     },
     "metadata": {},
     "output_type": "display_data"
    },
    {
     "data": {
      "text/plain": [
       "'multi-class accuracy on AID_TEST:'"
      ]
     },
     "metadata": {},
     "output_type": "display_data"
    },
    {
     "data": {
      "text/plain": [
       "{'null': 0.562666654586792,\n",
       " 'Stable diffusion': 0.6356666684150696,\n",
       " 'Kandisky': 0.6086666584014893,\n",
       " 'DF_XL': 0.07699999958276749,\n",
       " 'dreamlike': 0.09099999815225601,\n",
       " 'gigaGan': 0.2809999883174896,\n",
       " 'GlideUP': 0.9430000185966492,\n",
       " 'LafitteUP': 0.9950000047683716,\n",
       " 'LCM_Dreamshaper': 0.8920000195503235,\n",
       " 'megaDallEUP': 0.9100000262260437,\n",
       " 'miniDallEUP': 0.9169999957084656,\n",
       " 'pixart': 0.07599999755620956,\n",
       " 'playground': 0.10724999755620956,\n",
       " 'styleGan2': 0.0,\n",
       " 'styleGan3': 0.0,\n",
       " 'animagineXL': 0.4230000078678131}"
      ]
     },
     "metadata": {},
     "output_type": "display_data"
    }
   ],
   "source": [
    "accuracy_AID = {\"binary\":{},\"multi\":{}} # accuracy on the test data from the same folder as training data\n",
    "accuracy_AID_TEST = {\"binary\":{},\"multi\":{}} # accuracy on data from AID_TEST (can be seen as OOD)\n",
    "for g in d_AID:\n",
    "    with torch.no_grad():\n",
    "        accuracy_AID[\"binary\"][g] = \\\n",
    "            model.get_model_accuracy_binary(d_AID[g][\"features\"],\n",
    "                                            d_AID[g][\"label\"],\n",
    "                                            \"cpu\",\n",
    "                                            binary_model=False)\n",
    "        \n",
    "        accuracy_AID[\"multi\"][g] = \\\n",
    "            model.get_model_accuracy_multiclass(\n",
    "                d_AID[g][\"features\"],\n",
    "                torch.ones_like(d_AID[g][\"label\"]) * GEN_TO_INT[g],\n",
    "                \"cpu\")\n",
    "\n",
    "        accuracy_AID_TEST[\"binary\"][g] = \\\n",
    "            model.get_model_accuracy_binary(d_AID_TEST[g][\"features\"],\n",
    "                                            d_AID_TEST[g][\"label\"],\n",
    "                                            \"cpu\",\n",
    "                                            binary_model=False)\n",
    "        \n",
    "        accuracy_AID_TEST[\"multi\"][g] = \\\n",
    "            model.get_model_accuracy_multiclass(\n",
    "                d_AID_TEST[g][\"features\"],\n",
    "                torch.ones_like(d_AID_TEST[g][\"label\"]) * GEN_TO_INT[g],\n",
    "                \"cpu\")\n",
    "\n",
    "display(\"binary accuracy on test from AID:\",accuracy_AID[\"binary\"])\n",
    "display(\"binary accuracy on AID_TEST:     \",accuracy_AID_TEST[\"binary\"])\n",
    "display(\"multi-class accuracy on test from AID:\",accuracy_AID[\"multi\"])        \n",
    "display(\"multi-class accuracy on AID_TEST:\",accuracy_AID_TEST[\"multi\"])        "
   ]
  },
  {
   "cell_type": "markdown",
   "metadata": {},
   "source": [
    "# Binary classifier"
   ]
  },
  {
   "cell_type": "markdown",
   "metadata": {},
   "source": [
    "### Performance of binary classifier on pair dataset"
   ]
  },
  {
   "cell_type": "code",
   "execution_count": 74,
   "metadata": {},
   "outputs": [
    {
     "name": "stdout",
     "output_type": "stream",
     "text": [
      "0.899082601070404\n"
     ]
    }
   ],
   "source": [
    "device = \"cuda:0\"\n",
    "\n",
    "model = MultiClassClassifier(n_classes=2).to(device=device)\n",
    "model.eval()\n",
    "model.load_state_dict(torch.load(\"./checkpoints/binary_epochs=1000_loss=0.04426886886358261_filtered.pt\"))\n",
    "\n",
    "lr = 1e-3\n",
    "batch_size = 64\n",
    "epochs = 5\n",
    "\n",
    "loss_fn = nn.CrossEntropyLoss()\n",
    "optimizer = torch.optim.SGD(model.parameters(), lr=lr)\n",
    "\n",
    "data = RealFakePairs(load_from_disk=True,path=\"/data4/saland/data/real_fake_pairs_1090.pt\",device=\"cuda:0\")\n",
    "\n",
    "with torch.no_grad():\n",
    "    acc = model.get_model_accuracy_binary(features=data.features,\n",
    "                                           true_labels=data.label,\n",
    "                                           device=device,\n",
    "                                           binary_model=True)\n",
    "print(acc)"
   ]
  },
  {
   "cell_type": "markdown",
   "metadata": {},
   "source": [
    "### Train on 800 pairs and test on 200"
   ]
  },
  {
   "cell_type": "code",
   "execution_count": 205,
   "metadata": {},
   "outputs": [],
   "source": [
    "device = \"cuda:1\"\n",
    "model = MultiClassClassifier(n_classes=2,n_features=CLIP_FEATURE_DIM).to(device=device)\n",
    "model_double = MultiClassClassifier(n_classes=2,n_features=CLIP_FEATURE_DIM*2).to(device=device)\n",
    "model_diff = MultiClassClassifier(n_classes=2,n_features=CLIP_FEATURE_DIM).to(device=device)\n",
    "model.train()\n",
    "model_double.train()\n",
    "model_diff.train()\n",
    "# model.load_state_dict(torch.load(\"./checkpoints/binary_epochs=1000_loss=0.02289319783449173.pt\"))\n",
    "\n",
    "lr = 1e-3\n",
    "batch_size = 64\n",
    "n_epochs = 1000\n",
    "\n",
    "loss_fn = nn.CrossEntropyLoss()\n",
    "optimizer = torch.optim.SGD(model.parameters(), lr=lr)\n",
    "optimizer2 = torch.optim.SGD(model_double.parameters(), lr=lr)\n",
    "optimizer3 = torch.optim.SGD(model_diff.parameters(), lr=lr)\n",
    "\n",
    "rng = torch.Generator().manual_seed(SEED)\n",
    "\n",
    "data = DoubleCLIP(load_from_disk=True,path_to_datset=\"/data4/saland/data/Double_CLIP_2000.pt\")\n",
    "train_data, test_data = random_split(data,[0.2,0.8],generator=rng)\n",
    "\n",
    "train_loader = DataLoader(train_data,batch_size=64,shuffle=True)\n",
    "test_loader = DataLoader(test_data,batch_size=len(test_data))"
   ]
  },
  {
   "cell_type": "code",
   "execution_count": 181,
   "metadata": {},
   "outputs": [
    {
     "name": "stdout",
     "output_type": "stream",
     "text": [
      "loss: 0.583756  [   10/ 1000]\n",
      "loss: 0.539579  [   20/ 1000]\n",
      "loss: 0.438721  [   30/ 1000]\n",
      "loss: 0.416519  [   40/ 1000]\n",
      "loss: 0.408712  [   50/ 1000]\n",
      "loss: 0.309370  [   60/ 1000]\n",
      "loss: 0.267908  [   70/ 1000]\n",
      "loss: 0.294130  [   80/ 1000]\n",
      "loss: 0.225140  [   90/ 1000]\n",
      "loss: 0.182545  [  100/ 1000]\n",
      "loss: 0.256157  [  110/ 1000]\n",
      "loss: 0.158156  [  120/ 1000]\n",
      "loss: 0.207466  [  130/ 1000]\n",
      "loss: 0.209256  [  140/ 1000]\n",
      "loss: 0.140768  [  150/ 1000]\n",
      "loss: 0.068818  [  160/ 1000]\n",
      "loss: 0.142247  [  170/ 1000]\n",
      "loss: 0.119114  [  180/ 1000]\n",
      "loss: 0.068986  [  190/ 1000]\n",
      "loss: 0.068263  [  200/ 1000]\n",
      "loss: 0.112906  [  210/ 1000]\n",
      "loss: 0.071339  [  220/ 1000]\n",
      "loss: 0.076113  [  230/ 1000]\n",
      "loss: 0.060360  [  240/ 1000]\n",
      "loss: 0.039138  [  250/ 1000]\n",
      "loss: 0.081971  [  260/ 1000]\n",
      "loss: 0.039457  [  270/ 1000]\n",
      "loss: 0.039661  [  280/ 1000]\n",
      "loss: 0.092106  [  290/ 1000]\n",
      "loss: 0.042148  [  300/ 1000]\n",
      "loss: 0.029439  [  310/ 1000]\n",
      "loss: 0.053061  [  320/ 1000]\n",
      "loss: 0.054157  [  330/ 1000]\n",
      "loss: 0.076776  [  340/ 1000]\n",
      "loss: 0.018342  [  350/ 1000]\n",
      "loss: 0.040988  [  360/ 1000]\n",
      "loss: 0.020522  [  370/ 1000]\n",
      "loss: 0.066546  [  380/ 1000]\n",
      "loss: 0.019537  [  390/ 1000]\n",
      "loss: 0.027696  [  400/ 1000]\n",
      "loss: 0.049153  [  410/ 1000]\n",
      "loss: 0.030431  [  420/ 1000]\n",
      "loss: 0.014990  [  430/ 1000]\n",
      "loss: 0.030045  [  440/ 1000]\n",
      "loss: 0.022594  [  450/ 1000]\n",
      "loss: 0.038213  [  460/ 1000]\n",
      "loss: 0.017799  [  470/ 1000]\n",
      "loss: 0.029900  [  480/ 1000]\n",
      "loss: 0.030164  [  490/ 1000]\n",
      "loss: 0.036720  [  500/ 1000]\n",
      "loss: 0.034103  [  510/ 1000]\n",
      "loss: 0.020227  [  520/ 1000]\n",
      "loss: 0.020237  [  530/ 1000]\n",
      "loss: 0.023274  [  540/ 1000]\n",
      "loss: 0.028910  [  550/ 1000]\n",
      "loss: 0.042629  [  560/ 1000]\n",
      "loss: 0.025856  [  570/ 1000]\n",
      "loss: 0.030912  [  580/ 1000]\n",
      "loss: 0.017213  [  590/ 1000]\n",
      "loss: 0.026246  [  600/ 1000]\n",
      "loss: 0.029192  [  610/ 1000]\n",
      "loss: 0.019026  [  620/ 1000]\n",
      "loss: 0.015804  [  630/ 1000]\n",
      "loss: 0.014834  [  640/ 1000]\n",
      "loss: 0.011729  [  650/ 1000]\n",
      "loss: 0.007162  [  660/ 1000]\n",
      "loss: 0.012345  [  670/ 1000]\n",
      "loss: 0.006837  [  680/ 1000]\n",
      "loss: 0.015054  [  690/ 1000]\n",
      "loss: 0.019335  [  700/ 1000]\n",
      "loss: 0.012731  [  710/ 1000]\n",
      "loss: 0.021826  [  720/ 1000]\n",
      "loss: 0.025399  [  730/ 1000]\n",
      "loss: 0.032711  [  740/ 1000]\n",
      "loss: 0.021752  [  750/ 1000]\n",
      "loss: 0.015446  [  760/ 1000]\n",
      "loss: 0.006741  [  770/ 1000]\n",
      "loss: 0.019202  [  780/ 1000]\n",
      "loss: 0.025521  [  790/ 1000]\n",
      "loss: 0.011189  [  800/ 1000]\n",
      "loss: 0.023951  [  810/ 1000]\n",
      "loss: 0.011295  [  820/ 1000]\n",
      "loss: 0.012027  [  830/ 1000]\n",
      "loss: 0.015748  [  840/ 1000]\n",
      "loss: 0.015332  [  850/ 1000]\n",
      "loss: 0.021128  [  860/ 1000]\n",
      "loss: 0.022317  [  870/ 1000]\n",
      "loss: 0.017479  [  880/ 1000]\n",
      "loss: 0.010099  [  890/ 1000]\n",
      "loss: 0.012004  [  900/ 1000]\n",
      "loss: 0.015814  [  910/ 1000]\n",
      "loss: 0.010053  [  920/ 1000]\n",
      "loss: 0.011627  [  930/ 1000]\n",
      "loss: 0.015007  [  940/ 1000]\n",
      "loss: 0.021446  [  950/ 1000]\n",
      "loss: 0.011118  [  960/ 1000]\n",
      "loss: 0.007925  [  970/ 1000]\n",
      "loss: 0.013390  [  980/ 1000]\n",
      "loss: 0.016757  [  990/ 1000]\n",
      "loss: 0.012903  [ 1000/ 1000]\n"
     ]
    }
   ],
   "source": [
    "loss_history = []\n",
    "for epoch in range(1,n_epochs+1):\n",
    "    for idx, batch in enumerate(train_loader):\n",
    "        # prediction and loss\n",
    "        pred = model(batch[\"features\"][:,:CLIP_FEATURE_DIM].to(device))\n",
    "        loss = loss_fn(pred,batch[\"label\"].type(torch.LongTensor).to(device))\n",
    "\n",
    "        # backpropagation\n",
    "        loss.backward()\n",
    "        optimizer.step()\n",
    "        optimizer.zero_grad()\n",
    "        \n",
    "    loss, current = loss.item(), idx*batch_size + len(batch[\"features\"])\n",
    "    if epoch%10 == 0 and epoch > 0:\n",
    "        loss_history.append(loss)\n",
    "        print(f\"loss: {loss:>7f}  [{epoch:>5d}/{n_epochs:>5d}]\")"
   ]
  },
  {
   "cell_type": "code",
   "execution_count": 182,
   "metadata": {},
   "outputs": [
    {
     "data": {
      "image/png": "[encoded data removed]",
      "text/plain": [
       "<Figure size 500x300 with 1 Axes>"
      ]
     },
     "metadata": {},
     "output_type": "display_data"
    }
   ],
   "source": [
    "fig= plt.figure(figsize=(5,3))\n",
    "plt.title(\"loss\")\n",
    "plt.plot(range(1,n_epochs+1,10),loss_history) \n",
    "plt.show()"
   ]
  },
  {
   "cell_type": "code",
   "execution_count": 183,
   "metadata": {},
   "outputs": [
    {
     "name": "stdout",
     "output_type": "stream",
     "text": [
      "n_train: 400\n",
      "n_test: 1600\n",
      "0.9906249642372131\n"
     ]
    }
   ],
   "source": [
    "model.eval()\n",
    "with torch.no_grad():\n",
    "    for e in test_loader:\n",
    "        print(\"n_train:\",len(train_data))\n",
    "        print(\"n_test:\",len(test_data))\n",
    "        acc = model.get_model_accuracy_binary(e[\"features\"][:,:CLIP_FEATURE_DIM],e[\"label\"],device,True)\n",
    "\n",
    "print(acc)\n",
    "accuracy_768_features = acc"
   ]
  },
  {
   "cell_type": "markdown",
   "metadata": {},
   "source": [
    "### Train on concatenated version of CLIP features"
   ]
  },
  {
   "cell_type": "code",
   "execution_count": 185,
   "metadata": {},
   "outputs": [
    {
     "data": {
      "image/png": "[encoded data removed]",
      "text/plain": [
       "<Figure size 500x300 with 1 Axes>"
      ]
     },
     "metadata": {},
     "output_type": "display_data"
    }
   ],
   "source": [
    "fig= plt.figure(figsize=(5,3))\n",
    "plt.title(\"loss\")\n",
    "plt.plot(range(1,n_epochs+1,10),loss_history) \n",
    "plt.show()"
   ]
  },
  {
   "cell_type": "code",
   "execution_count": 186,
   "metadata": {},
   "outputs": [
    {
     "name": "stdout",
     "output_type": "stream",
     "text": [
      "n_train: 400\n",
      "n_test: 1600\n",
      "Accuracy 768 CLIP features:    0.9906249642372131\n",
      "Accuracy double CLIP features: 0.9899999499320984\n"
     ]
    }
   ],
   "source": [
    "model.eval()\n",
    "with torch.no_grad():\n",
    "    for e in test_loader:\n",
    "        acc = model_double.get_model_accuracy_binary(e[\"features\"],e[\"label\"],device,True)\n",
    "\n",
    "print(\"n_train:\",len(train_data))\n",
    "print(\"n_test:\",len(test_data))\n",
    "print(\"Accuracy 768 CLIP features:   \",accuracy_768_features)\n",
    "print(\"Accuracy double CLIP features:\",acc)"
   ]
  },
  {
   "cell_type": "markdown",
   "metadata": {},
   "source": [
    "Looking at the weights associated to each CLIP features (original and generated image)"
   ]
  },
  {
   "cell_type": "code",
   "execution_count": 194,
   "metadata": {},
   "outputs": [
    {
     "data": {
      "text/plain": [
       "10058.380859375"
      ]
     },
     "execution_count": 194,
     "metadata": {},
     "output_type": "execute_result"
    }
   ],
   "source": [
    "torch.sum(torch.abs(model_double.fc1.weight[:768])).item()"
   ]
  },
  {
   "cell_type": "code",
   "execution_count": 200,
   "metadata": {},
   "outputs": [
    {
     "data": {
      "text/plain": [
       "5020.86669921875"
      ]
     },
     "execution_count": 200,
     "metadata": {},
     "output_type": "execute_result"
    }
   ],
   "source": [
    "torch.sum(torch.abs(model_double.fc1.weight[:,768:])).item()"
   ]
  },
  {
   "cell_type": "markdown",
   "metadata": {},
   "source": [
    "### Train on the difference between the 2 CLIP vectors"
   ]
  },
  {
   "cell_type": "code",
   "execution_count": null,
   "metadata": {},
   "outputs": [],
   "source": [
    "loss_history = []\n",
    "for epoch in range(1,n_epochs+1):\n",
    "    for idx, batch in enumerate(train_loader):\n",
    "        # prediction and loss\n",
    "        pred = model_diff((batch[\"features\"][:,:CLIP_FEATURE_DIM] - batch[\"features\"][:,CLIP_FEATURE_DIM:]).to(device))\n",
    "        loss = loss_fn(pred,batch[\"label\"].type(torch.LongTensor).to(device))\n",
    "\n",
    "        # backpropagation\n",
    "        loss.backward()\n",
    "        optimizer3.step()\n",
    "        optimizer3.zero_grad()\n",
    "        \n",
    "    loss, current = loss.item(), idx*batch_size + len(batch[\"features\"])\n",
    "    if epoch%10 == 0 and epoch > 0:\n",
    "        loss_history.append(loss)\n",
    "        print(f\"loss: {loss:>7f}  [{epoch:>5d}/{n_epochs:>5d}]\")"
   ]
  },
  {
   "cell_type": "code",
   "execution_count": 207,
   "metadata": {},
   "outputs": [
    {
     "name": "stdout",
     "output_type": "stream",
     "text": [
      "n_train: 400\n",
      "n_test: 1600\n",
      "Accuracy 768 CLIP features:        0.9906249642372131\n",
      "Accuracy double CLIP features:     0.9899999499320984\n",
      "Accuracy difference CLIP features: 0.9300000071525574\n"
     ]
    }
   ],
   "source": [
    "model.eval()\n",
    "with torch.no_grad():\n",
    "    for e in test_loader:\n",
    "        acc_diff = model_diff.get_model_accuracy_binary((e[\"features\"][:,:CLIP_FEATURE_DIM] - e[\"features\"][:,CLIP_FEATURE_DIM:]),e[\"label\"],device,True)\n",
    "\n",
    "print(\"n_train:\",len(train_data))\n",
    "print(\"n_test:\",len(test_data))\n",
    "print(\"Accuracy 768 CLIP features:       \",accuracy_768_features)\n",
    "print(\"Accuracy double CLIP features:    \",acc)\n",
    "print(\"Accuracy difference CLIP features:\",acc_diff)"
   ]
  },
  {
   "cell_type": "markdown",
   "metadata": {},
   "source": [
    "## Test on OOD of model trained on AID and fine-tuned on real/fake pairs"
   ]
  },
  {
   "cell_type": "code",
   "execution_count": 83,
   "metadata": {},
   "outputs": [
    {
     "data": {
      "text/plain": [
       "MultiClassClassifier(\n",
       "  (fc1): Linear(in_features=768, out_features=512, bias=True)\n",
       "  (fc2): Linear(in_features=512, out_features=2, bias=True)\n",
       "  (act): ReLU()\n",
       ")"
      ]
     },
     "execution_count": 83,
     "metadata": {},
     "output_type": "execute_result"
    }
   ],
   "source": [
    "device = \"cuda:1\"\n",
    "model = MultiClassClassifier(n_classes=2).to(device)\n",
    "model.load_state_dict(torch.load(\"checkpoints/binary_epochs=1000_loss=0.04426886886358261_filtered.pt\"))\n",
    "model.eval()"
   ]
  },
  {
   "cell_type": "code",
   "execution_count": 84,
   "metadata": {},
   "outputs": [
    {
     "name": "stdout",
     "output_type": "stream",
     "text": [
      "accuracy of model on OOD before fine-tuning on real/fake pairs: 0.574999988079071\n"
     ]
    }
   ],
   "source": [
    "data_test = OOD(\"/data4/saland/data/ood.pt\",load_preprocessed=True)\n",
    "\n",
    "acc = model.get_model_accuracy_binary(data_test.features,data_test.label,device,binary_model=True)\n",
    "print(\"accuracy of model on OOD before fine-tuning on real/fake pairs:\",acc)"
   ]
  },
  {
   "cell_type": "markdown",
   "metadata": {},
   "source": [
    "### Fine-tuning on real/fake pairs"
   ]
  },
  {
   "cell_type": "code",
   "execution_count": 86,
   "metadata": {},
   "outputs": [],
   "source": [
    "lr = 1e-3\n",
    "batch_size = 64\n",
    "n_epochs = 1000\n",
    "\n",
    "loss_fn = nn.CrossEntropyLoss()\n",
    "optimizer = torch.optim.SGD(model.parameters(), lr=lr)\n",
    "\n",
    "model.train()\n",
    "rng = torch.Generator().manual_seed(SEED)\n",
    "data = RealFakePairs(load_from_disk=True,path=\"/data4/saland/data/real_fake_pairs_1090.pt\")\n",
    "train_loader = DataLoader(data,batch_size=batch_size,shuffle=True,generator=rng)"
   ]
  },
  {
   "cell_type": "code",
   "execution_count": 87,
   "metadata": {},
   "outputs": [
    {
     "name": "stdout",
     "output_type": "stream",
     "text": [
      "loss: 0.015049  [   10/ 1000]\n",
      "loss: 0.000966  [   20/ 1000]\n",
      "loss: 0.000168  [   30/ 1000]\n",
      "loss: 0.002442  [   40/ 1000]\n",
      "loss: 0.053081  [   50/ 1000]\n",
      "loss: 0.005211  [   60/ 1000]\n",
      "loss: 0.086782  [   70/ 1000]\n",
      "loss: 0.010773  [   80/ 1000]\n",
      "loss: 0.011378  [   90/ 1000]\n",
      "loss: 0.074592  [  100/ 1000]\n",
      "loss: 0.094963  [  110/ 1000]\n",
      "loss: 0.000023  [  120/ 1000]\n",
      "loss: 0.012108  [  130/ 1000]\n",
      "loss: 0.000019  [  140/ 1000]\n",
      "loss: 0.000204  [  150/ 1000]\n",
      "loss: 0.002144  [  160/ 1000]\n",
      "loss: 0.044645  [  170/ 1000]\n",
      "loss: 0.007386  [  180/ 1000]\n",
      "loss: 0.146403  [  190/ 1000]\n",
      "loss: 0.000056  [  200/ 1000]\n",
      "loss: 0.000601  [  210/ 1000]\n",
      "loss: 0.009709  [  220/ 1000]\n",
      "loss: 0.000425  [  230/ 1000]\n",
      "loss: 0.000116  [  240/ 1000]\n",
      "loss: 0.002971  [  250/ 1000]\n",
      "loss: 0.002528  [  260/ 1000]\n",
      "loss: 0.000010  [  270/ 1000]\n",
      "loss: 0.000007  [  280/ 1000]\n",
      "loss: 0.000004  [  290/ 1000]\n",
      "loss: 0.000049  [  300/ 1000]\n",
      "loss: 0.005074  [  310/ 1000]\n",
      "loss: 0.000014  [  320/ 1000]\n",
      "loss: 0.000102  [  330/ 1000]\n",
      "loss: 0.000198  [  340/ 1000]\n",
      "loss: 0.000098  [  350/ 1000]\n",
      "loss: 0.000040  [  360/ 1000]\n",
      "loss: 0.000044  [  370/ 1000]\n",
      "loss: 0.000988  [  380/ 1000]\n",
      "loss: 0.000008  [  390/ 1000]\n",
      "loss: 0.000764  [  400/ 1000]\n",
      "loss: 0.001608  [  410/ 1000]\n",
      "loss: 0.000027  [  420/ 1000]\n",
      "loss: 0.003040  [  430/ 1000]\n",
      "loss: 0.004748  [  440/ 1000]\n",
      "loss: 0.000080  [  450/ 1000]\n",
      "loss: 0.001363  [  460/ 1000]\n",
      "loss: 0.000038  [  470/ 1000]\n",
      "loss: 0.000128  [  480/ 1000]\n",
      "loss: 0.001367  [  490/ 1000]\n",
      "loss: 0.000388  [  500/ 1000]\n",
      "loss: 0.000053  [  510/ 1000]\n",
      "loss: 0.000007  [  520/ 1000]\n",
      "loss: 0.000082  [  530/ 1000]\n",
      "loss: 0.000208  [  540/ 1000]\n",
      "loss: 0.000315  [  550/ 1000]\n",
      "loss: 0.000010  [  560/ 1000]\n",
      "loss: 0.000080  [  570/ 1000]\n",
      "loss: 0.000240  [  580/ 1000]\n",
      "loss: 0.000003  [  590/ 1000]\n",
      "loss: 0.000002  [  600/ 1000]\n",
      "loss: 0.001038  [  610/ 1000]\n",
      "loss: 0.000093  [  620/ 1000]\n",
      "loss: 0.002771  [  630/ 1000]\n",
      "loss: 0.008226  [  640/ 1000]\n",
      "loss: 0.000064  [  650/ 1000]\n",
      "loss: 0.001275  [  660/ 1000]\n",
      "loss: 0.000081  [  670/ 1000]\n",
      "loss: 0.000002  [  680/ 1000]\n",
      "loss: 0.016818  [  690/ 1000]\n",
      "loss: 0.000552  [  700/ 1000]\n",
      "loss: 0.001831  [  710/ 1000]\n",
      "loss: 0.000060  [  720/ 1000]\n",
      "loss: 0.015729  [  730/ 1000]\n",
      "loss: 0.000002  [  740/ 1000]\n",
      "loss: 0.000077  [  750/ 1000]\n",
      "loss: 0.000321  [  760/ 1000]\n",
      "loss: 0.000003  [  770/ 1000]\n",
      "loss: 0.000047  [  780/ 1000]\n",
      "loss: 0.000138  [  790/ 1000]\n",
      "loss: 0.000053  [  800/ 1000]\n",
      "loss: 0.000031  [  810/ 1000]\n",
      "loss: 0.000039  [  820/ 1000]\n",
      "loss: 0.000183  [  830/ 1000]\n",
      "loss: 0.000083  [  840/ 1000]\n",
      "loss: 0.000184  [  850/ 1000]\n",
      "loss: 0.003223  [  860/ 1000]\n",
      "loss: 0.000007  [  870/ 1000]\n",
      "loss: 0.002193  [  880/ 1000]\n",
      "loss: 0.000166  [  890/ 1000]\n",
      "loss: 0.000150  [  900/ 1000]\n",
      "loss: 0.000006  [  910/ 1000]\n",
      "loss: 0.000361  [  920/ 1000]\n",
      "loss: 0.000029  [  930/ 1000]\n",
      "loss: 0.000889  [  940/ 1000]\n",
      "loss: 0.001788  [  950/ 1000]\n",
      "loss: 0.000181  [  960/ 1000]\n",
      "loss: 0.000063  [  970/ 1000]\n",
      "loss: 0.000424  [  980/ 1000]\n",
      "loss: 0.000739  [  990/ 1000]\n",
      "loss: 0.000142  [ 1000/ 1000]\n"
     ]
    }
   ],
   "source": [
    "loss_history = []\n",
    "for epoch in range(1,n_epochs+1):\n",
    "    for idx, batch in enumerate(train_loader):\n",
    "        # prediction and loss\n",
    "        pred = model((batch[\"features\"]).to(device))\n",
    "        loss = loss_fn(pred,batch[\"label\"].type(torch.LongTensor).to(device))\n",
    "\n",
    "        # backpropagation\n",
    "        loss.backward()\n",
    "        optimizer.step()\n",
    "        optimizer.zero_grad()\n",
    "        \n",
    "    loss, current = loss.item(), idx*batch_size + len(batch[\"features\"])\n",
    "    if epoch%10 == 0 and epoch > 0:\n",
    "        loss_history.append(loss)\n",
    "        print(f\"loss: {loss:>7f}  [{epoch:>5d}/{n_epochs:>5d}]\")"
   ]
  },
  {
   "cell_type": "code",
   "execution_count": 88,
   "metadata": {},
   "outputs": [
    {
     "data": {
      "image/png": "[encoded data removed]",
      "text/plain": [
       "<Figure size 500x300 with 1 Axes>"
      ]
     },
     "metadata": {},
     "output_type": "display_data"
    }
   ],
   "source": [
    "plot_loss_history(loss_history=loss_history,n_epochs=n_epochs,title=\"loss\")"
   ]
  },
  {
   "cell_type": "code",
   "execution_count": 89,
   "metadata": {},
   "outputs": [
    {
     "name": "stdout",
     "output_type": "stream",
     "text": [
      "accuracy of the model on OOD after fine-tuning: 0.5237500071525574\n"
     ]
    }
   ],
   "source": [
    "acc = model.get_model_accuracy_binary(data_test.features,data_test.label,device,True)\n",
    "print(\"accuracy of the model on OOD after fine-tuning:\",acc)"
   ]
  }
 ],
 "metadata": {
  "kernelspec": {
   "display_name": "Python 3",
   "language": "python",
   "name": "python3"
  },
  "language_info": {
   "codemirror_mode": {
    "name": "ipython",
    "version": 3
   },
   "file_extension": ".py",
   "mimetype": "text/x-python",
   "name": "python",
   "nbconvert_exporter": "python",
   "pygments_lexer": "ipython3",
   "version": "3.11.9"
  }
 },
 "nbformat": 4,
 "nbformat_minor": 2
}
