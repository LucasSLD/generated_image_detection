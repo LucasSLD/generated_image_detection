{
 "cells": [
  {
   "cell_type": "code",
   "execution_count": 1,
   "metadata": {},
   "outputs": [],
   "source": [
    "%load_ext autoreload\n",
    "%autoreload 2"
   ]
  },
  {
   "cell_type": "code",
   "execution_count": 27,
   "metadata": {},
   "outputs": [],
   "source": [
    "from MLP_classifier import MultiClassClassifier\n",
    "from torch.utils.data import DataLoader\n",
    "import sys\n",
    "sys.path.append(\".\")\n",
    "from dataset import DeepFakeDatasetFastLoad, OOD, DeepFakeTest\n",
    "import torch.nn as nn\n",
    "import torch\n",
    "sys.path.append(\"../tools\")\n",
    "from constants import PATH_TO_DATA, SEED, PATH_TO_DATA4, GEN_TO_INT, INT_TO_GEN, GEN_TO_GEN\n",
    "from sklearn.model_selection import train_test_split\n",
    "from torch.utils.data import random_split\n",
    "import matplotlib.pyplot as plt\n",
    "from sklearn.svm import LinearSVC\n",
    "from sklearn.multiclass import OneVsOneClassifier"
   ]
  },
  {
   "cell_type": "code",
   "execution_count": null,
   "metadata": {},
   "outputs": [],
   "source": [
    "device = \"cuda:0\"\n",
    "model = MultiClassClassifier(n_classes=len(GEN_TO_INT.keys())).to(device=device)\n",
    "\n",
    "lr = 1e-3\n",
    "batch_size = 64\n",
    "epochs = 5\n",
    "\n",
    "loss_fn = nn.CrossEntropyLoss()\n",
    "optimizer = torch.optim.SGD(model.parameters(), lr=lr)\n",
    "\n",
    "data = DeepFakeDatasetFastLoad(PATH_TO_DATA4 + \"df_34000_V2.pt\")\n",
    "\n",
    "rng = torch.Generator().manual_seed(SEED)\n",
    "train_data, test_data, validation_data = random_split(data,[0.7,0.2,0.1],generator=rng)\n",
    "\n",
    "train_loader = DataLoader(train_data,batch_size=batch_size,shuffle=True)\n",
    "test_loader  = DataLoader(test_data,batch_size=len(test_data),shuffle=True)\n",
    "val_loader  = DataLoader(validation_data,batch_size=len(validation_data),shuffle=True)\n",
    "\n",
    "model.train()"
   ]
  },
  {
   "cell_type": "markdown",
   "metadata": {},
   "source": [
    "## Train for multi-class classification"
   ]
  },
  {
   "cell_type": "code",
   "execution_count": null,
   "metadata": {},
   "outputs": [],
   "source": [
    "model.set_generators_maps(gen_to_int=GEN_TO_INT,int_to_gen=INT_TO_GEN)"
   ]
  },
  {
   "cell_type": "code",
   "execution_count": null,
   "metadata": {},
   "outputs": [],
   "source": [
    "n_epochs = 1000\n",
    "val_accuracy = []\n",
    "loss_history = []\n",
    "for epoch in range(1,n_epochs+1):\n",
    "    for idx, batch in enumerate(train_loader):\n",
    "        # prediction and loss\n",
    "        pred = model(batch[\"features\"].cuda(device))\n",
    "        loss = loss_fn(pred,batch[\"generator\"].type(torch.LongTensor).cuda(device))\n",
    "\n",
    "        # backpropagation\n",
    "        loss.backward()\n",
    "        optimizer.step()\n",
    "        optimizer.zero_grad()\n",
    "        \n",
    "    loss, current = loss.item(), idx*batch_size + len(batch[\"features\"])\n",
    "    if epoch%10 == 0 and epoch > 0:\n",
    "        loss_history.append(loss)\n",
    "        for v in val_loader:\n",
    "            val_accuracy.append(\n",
    "                model.get_model_accuracy_binary(v[\"features\"],\n",
    "                                                v[\"label\"],\n",
    "                                                device))\n",
    "        print(f\"loss: {loss:>7f}  [{epoch:>5d}/{n_epochs:>5d}]\")"
   ]
  },
  {
   "cell_type": "code",
   "execution_count": null,
   "metadata": {},
   "outputs": [],
   "source": [
    "fig, (ax1, ax2) = plt.subplots(2,1,figsize=(10,6))\n",
    "ax1.set_title(\"loss\")\n",
    "ax2.set_title(\"accuracy on validation\")\n",
    "ax1.plot(range(1,n_epochs+1,10),loss_history)\n",
    "ax2.plot(range(1,n_epochs+1,10),val_accuracy)\n",
    "ax1.grid()\n",
    "ax2.grid() \n",
    "plt.show()"
   ]
  },
  {
   "cell_type": "markdown",
   "metadata": {},
   "source": [
    "## Test for binary classification"
   ]
  },
  {
   "cell_type": "code",
   "execution_count": null,
   "metadata": {},
   "outputs": [],
   "source": [
    "import torch.types\n",
    "\n",
    "with torch.no_grad():\n",
    "    model.eval()\n",
    "    for e in test_loader:\n",
    "        accuracy = model.get_model_accuracy_binary(features=e[\"features\"],\n",
    "                                                   true_labels=e[\"label\"],\n",
    "                                                   device=device)\n",
    "print(accuracy)"
   ]
  },
  {
   "cell_type": "markdown",
   "metadata": {},
   "source": [
    "### Comparison with SVM"
   ]
  },
  {
   "cell_type": "code",
   "execution_count": null,
   "metadata": {},
   "outputs": [],
   "source": [
    "from sklearn.svm import LinearSVC\n",
    "from sklearn.multiclass import OneVsOneClassifier\n",
    "\n",
    "clf = OneVsOneClassifier(LinearSVC(dual=\"auto\"))"
   ]
  },
  {
   "cell_type": "code",
   "execution_count": null,
   "metadata": {},
   "outputs": [],
   "source": [
    "train_loader_all = DataLoader(train_data,batch_size=len(train_data))\n",
    "for e in train_loader_all:\n",
    "    X_train = e[\"features\"]\n",
    "    gen_train = e[\"generator\"]\n",
    "    label_train = e[\"label\"]\n",
    "for e in test_loader:\n",
    "    X_test = e[\"features\"]\n",
    "    gen_test = e[\"generator\"]\n",
    "    label_test = e[\"label\"]\n",
    "\n",
    "clf.fit(X_train, gen_train) # train on multi-class classification"
   ]
  },
  {
   "cell_type": "code",
   "execution_count": null,
   "metadata": {},
   "outputs": [],
   "source": [
    "import numpy as np\n",
    "pred = data.class_to_label(clf.predict(X_test))\n",
    "np.mean(label_test.numpy() == pred.numpy()) # binary classification performance"
   ]
  },
  {
   "cell_type": "markdown",
   "metadata": {},
   "source": [
    "## Test on multi-class classification"
   ]
  },
  {
   "cell_type": "markdown",
   "metadata": {},
   "source": [
    "### Neural Network"
   ]
  },
  {
   "cell_type": "code",
   "execution_count": null,
   "metadata": {},
   "outputs": [],
   "source": [
    "import torch.types\n",
    "\n",
    "with torch.no_grad():\n",
    "    model.eval()\n",
    "    for e in test_loader:\n",
    "        accuracy = model.get_model_accuracy_multiclass(features=e[\"features\"],\n",
    "                                            true_classes=e[\"generator\"],\n",
    "                                            device=\"cuda:\"+str(device))\n",
    "print(accuracy)"
   ]
  },
  {
   "cell_type": "markdown",
   "metadata": {},
   "source": [
    "### SVM"
   ]
  },
  {
   "cell_type": "code",
   "execution_count": null,
   "metadata": {},
   "outputs": [],
   "source": [
    "clf.fit(X_train,gen_train).score(X_test,gen_test)"
   ]
  },
  {
   "cell_type": "markdown",
   "metadata": {},
   "source": [
    "# Saving the model"
   ]
  },
  {
   "cell_type": "code",
   "execution_count": null,
   "metadata": {},
   "outputs": [],
   "source": [
    "path = f\"./checkpoints/multiclass_epochs={n_epochs}_loss={loss}.pt\"\n",
    "torch.save(model.state_dict(),path)"
   ]
  },
  {
   "cell_type": "markdown",
   "metadata": {},
   "source": [
    "# Loading the model"
   ]
  },
  {
   "cell_type": "code",
   "execution_count": null,
   "metadata": {},
   "outputs": [],
   "source": [
    "model2 = MultiClassClassifier(n_classes=len(GEN_TO_INT.keys()))\n",
    "model2.load_state_dict(torch.load(path))"
   ]
  },
  {
   "cell_type": "code",
   "execution_count": null,
   "metadata": {},
   "outputs": [],
   "source": [
    "model2.eval().cuda(device)\n",
    "with torch.no_grad():\n",
    "    for e in test_loader:\n",
    "        pred = torch.argmax(model2(e[\"features\"].cuda(device)),dim=1)\n",
    "        acc = torch.mean(torch.eq(e[\"generator\"].cuda(device),pred).float()).item()\n",
    "        print(acc)"
   ]
  },
  {
   "cell_type": "markdown",
   "metadata": {},
   "source": [
    "# Train on data3 test on SB"
   ]
  },
  {
   "cell_type": "code",
   "execution_count": null,
   "metadata": {},
   "outputs": [],
   "source": [
    "from utils import load_synthbuster_balanced\n",
    "X_sb, y_sb = load_synthbuster_balanced(PATH_TO_DATA4 + \"synthbuster_test\",\n",
    "                                       binary_classification=True,\n",
    "                                       balance_real_fake=True)"
   ]
  },
  {
   "cell_type": "code",
   "execution_count": null,
   "metadata": {},
   "outputs": [],
   "source": [
    "model.get_model_accuracy_binary(torch.Tensor(X_sb).cuda(device),\n",
    "                                torch.Tensor(y_sb).cuda(device),\n",
    "                                device)"
   ]
  },
  {
   "cell_type": "markdown",
   "metadata": {},
   "source": [
    "# Test on OOD"
   ]
  },
  {
   "cell_type": "code",
   "execution_count": null,
   "metadata": {},
   "outputs": [],
   "source": [
    "ood = OOD(\"../../data/ood\",load_preprocessed=False,device=\"cuda:\" + str(device))"
   ]
  },
  {
   "cell_type": "code",
   "execution_count": null,
   "metadata": {},
   "outputs": [],
   "source": [
    "# ood.save(\"../../data/ood.pt\")"
   ]
  },
  {
   "cell_type": "code",
   "execution_count": null,
   "metadata": {},
   "outputs": [],
   "source": [
    "ood2 = OOD(PATH_TO_DATA4 + \"ood.pt\",load_preprocessed=True)"
   ]
  },
  {
   "cell_type": "code",
   "execution_count": null,
   "metadata": {},
   "outputs": [],
   "source": [
    "loader_test = DataLoader(ood2, batch_size=len(ood2), shuffle=True)"
   ]
  },
  {
   "cell_type": "code",
   "execution_count": null,
   "metadata": {},
   "outputs": [],
   "source": [
    "for e in loader_test:\n",
    "    model.eval()\n",
    "    with torch.no_grad():\n",
    "        accuracy = model.get_model_accuracy_binary(e[\"features\"],e[\"label\"],device)\n",
    "\n",
    "print(accuracy)"
   ]
  },
  {
   "cell_type": "markdown",
   "metadata": {},
   "source": [
    "# Training a binary classifier"
   ]
  },
  {
   "cell_type": "code",
   "execution_count": 4,
   "metadata": {},
   "outputs": [
    {
     "data": {
      "text/plain": [
       "MultiClassClassifier(\n",
       "  (fc1): Linear(in_features=768, out_features=512, bias=True)\n",
       "  (fc2): Linear(in_features=512, out_features=2, bias=True)\n",
       "  (act): ReLU()\n",
       ")"
      ]
     },
     "execution_count": 4,
     "metadata": {},
     "output_type": "execute_result"
    }
   ],
   "source": [
    "device = \"cuda:1\"\n",
    "clf_binary = MultiClassClassifier(n_classes=2).to(device)\n",
    "\n",
    "lr = 1e-3\n",
    "batch_size = 128\n",
    "n_epochs = 1000\n",
    "\n",
    "loss_fn = nn.CrossEntropyLoss()\n",
    "optimizer = torch.optim.SGD(clf_binary.parameters(), lr=lr)\n",
    "\n",
    "data = DeepFakeDatasetFastLoad(PATH_TO_DATA4 + \"df_34000_V2.pt\")\n",
    "\n",
    "rng = torch.Generator().manual_seed(SEED)\n",
    "train_data, test_data, validation_data = random_split(data,[0.7,0.2,0.1],generator=rng)\n",
    "\n",
    "train_loader = DataLoader(train_data,batch_size=batch_size,shuffle=True)\n",
    "test_loader  = DataLoader(test_data,batch_size=len(test_data),shuffle=True)\n",
    "val_loader  = DataLoader(validation_data,batch_size=len(validation_data),shuffle=True)\n",
    "\n",
    "clf_binary.train()"
   ]
  },
  {
   "cell_type": "code",
   "execution_count": null,
   "metadata": {},
   "outputs": [],
   "source": [
    "val_accuracy = []\n",
    "loss_history = []\n",
    "for epoch in range(1,n_epochs+1):\n",
    "    for idx, batch in enumerate(train_loader):\n",
    "        # prediction and loss\n",
    "        pred = clf_binary(batch[\"features\"].to(device))\n",
    "        loss = loss_fn(pred,batch[\"label\"].type(torch.LongTensor).to(device))\n",
    "\n",
    "        # backpropagation\n",
    "        loss.backward()\n",
    "        optimizer.step()\n",
    "        optimizer.zero_grad()\n",
    "        \n",
    "    loss, current = loss.item(), idx*batch_size + len(batch[\"features\"])\n",
    "    if epoch%10 == 0 and epoch > 0:\n",
    "        loss_history.append(loss)\n",
    "        for v in val_loader:\n",
    "            pred = torch.argmax(clf_binary(v[\"features\"].to(device)),dim=1)\n",
    "            val_accuracy.append(torch.mean(torch.eq(v[\"label\"].to(device),pred).float()).item())\n",
    "        print(f\"loss: {loss:>7f}  [{epoch:>5d}/{n_epochs:>5d}]\")"
   ]
  },
  {
   "cell_type": "code",
   "execution_count": null,
   "metadata": {},
   "outputs": [],
   "source": [
    "fig, (ax1, ax2) = plt.subplots(2,1,figsize=(10,6))\n",
    "ax1.set_title(\"loss\")\n",
    "ax2.set_title(\"accuracy on validation\")\n",
    "ax1.plot(range(1,n_epochs+1,10),loss_history)\n",
    "ax2.plot(range(1,n_epochs+1,10),val_accuracy)\n",
    "ax1.grid()\n",
    "ax2.grid() \n",
    "plt.show()"
   ]
  },
  {
   "cell_type": "code",
   "execution_count": null,
   "metadata": {},
   "outputs": [],
   "source": [
    "# path = f\"./checkpoints/binary_epochs={n_epochs}_loss={loss}.pt\"\n",
    "# torch.save(clf_binary.state_dict(),path)"
   ]
  },
  {
   "cell_type": "markdown",
   "metadata": {},
   "source": [
    "## Binary classifier Test VS MultiClass classifier"
   ]
  },
  {
   "cell_type": "code",
   "execution_count": 6,
   "metadata": {},
   "outputs": [
    {
     "data": {
      "text/plain": [
       "<All keys matched successfully>"
      ]
     },
     "execution_count": 6,
     "metadata": {},
     "output_type": "execute_result"
    }
   ],
   "source": [
    "clf_binary.load_state_dict(torch.load(\"./checkpoints/binary_epochs=1000_loss=0.02289319783449173.pt\"))\n",
    "clf_binary.eval()"
   ]
  },
  {
   "cell_type": "code",
   "execution_count": 16,
   "metadata": {},
   "outputs": [],
   "source": [
    "model = MultiClassClassifier(n_classes=len(GEN_TO_INT.keys()))\n",
    "model.eval()\n",
    "model.load_state_dict(torch.load(\"./checkpoints/multiclass_epochs=1000_loss=0.0692238137125969.pt\"))\n",
    "model.set_generators_maps(GEN_TO_INT,INT_TO_GEN)"
   ]
  },
  {
   "cell_type": "code",
   "execution_count": 17,
   "metadata": {},
   "outputs": [
    {
     "name": "stdout",
     "output_type": "stream",
     "text": [
      "Accuracy with binary classifier:      0.9754411578178406\n",
      "Accuracy with multi-class classifier: 0.9752941131591797\n"
     ]
    }
   ],
   "source": [
    "for e in test_loader:\n",
    "    with torch.no_grad():\n",
    "        print(\"Accuracy with binary classifier:     \",clf_binary.get_model_accuracy_binary(e[\"features\"],e[\"label\"],device,binary_model=True))\n",
    "        print(\"Accuracy with multi-class classifier:\",model.get_model_accuracy_binary(e[\"features\"],e[\"label\"],\"cpu\",binary_model=False))"
   ]
  },
  {
   "cell_type": "markdown",
   "metadata": {},
   "source": [
    "## Test on AID_TEST"
   ]
  },
  {
   "cell_type": "code",
   "execution_count": 47,
   "metadata": {},
   "outputs": [
    {
     "name": "stdout",
     "output_type": "stream",
     "text": [
      "Accuracy with binary classifier:      0.7139333486557007\n",
      "Accuracy with multi-class classifier: 0.7297499775886536\n"
     ]
    }
   ],
   "source": [
    "data_test = DeepFakeTest(PATH_TO_DATA4 + \"df_test_60000.pt\",\n",
    "                         load_from_disk=True)\n",
    "\n",
    "with torch.no_grad():\n",
    "    print(\"Accuracy with binary classifier:     \",\n",
    "          clf_binary.get_model_accuracy_binary(data_test.features,\n",
    "                                               data_test.label,\n",
    "                                               device,\n",
    "                                               binary_model=True))\n",
    "    print(\"Accuracy with multi-class classifier:\",\n",
    "          model.get_model_accuracy_binary(data_test.features,\n",
    "                                          data_test.label,\n",
    "                                          \"cpu\",\n",
    "                                          binary_model=False))"
   ]
  },
  {
   "cell_type": "markdown",
   "metadata": {},
   "source": [
    "# Accuracy per class"
   ]
  },
  {
   "cell_type": "code",
   "execution_count": 74,
   "metadata": {},
   "outputs": [],
   "source": [
    "d_AID = {}\n",
    "d_AID_TEST = {}\n",
    "\n",
    "for e in test_loader:\n",
    "    features = e[\"features\"]\n",
    "    label    = e[\"label\"]\n",
    "    gen      = e[\"generator\"]\n",
    "\n",
    "for key in GEN_TO_GEN:\n",
    "    d_AID[key] = {\n",
    "        \"features\": features[gen == GEN_TO_INT[key]],\n",
    "        \"label\": label[gen == GEN_TO_INT[key]]\n",
    "    }\n",
    "    d_AID_TEST[key] = {\n",
    "        \"features\": data_test.features[data_test.gen == GEN_TO_INT[key]],\n",
    "        \"label\"   : data_test.label[data_test.gen == GEN_TO_INT[key]]}"
   ]
  },
  {
   "cell_type": "code",
   "execution_count": 77,
   "metadata": {},
   "outputs": [
    {
     "data": {
      "text/plain": [
       "tensor([17000,  3000,  2000,  1000,  1000,  1000,  1000,  1000,  1000,  1000,\n",
       "         1000,  1000,  2000,     0,     0,  1000])"
      ]
     },
     "execution_count": 77,
     "metadata": {},
     "output_type": "execute_result"
    }
   ],
   "source": [
    "torch.bincount(data.gen)"
   ]
  },
  {
   "cell_type": "code",
   "execution_count": 79,
   "metadata": {},
   "outputs": [
    {
     "data": {
      "text/plain": [
       "tensor([30000,  6000,  3000,  2000,  2000,  1000,  1000,  1000,  1000,  1000,\n",
       "         1000,  3000,  4000,  1000,  1000,  2000], device='cuda:0')"
      ]
     },
     "execution_count": 79,
     "metadata": {},
     "output_type": "execute_result"
    }
   ],
   "source": [
    "torch.bincount(data_test.gen.int())"
   ]
  },
  {
   "cell_type": "code",
   "execution_count": 81,
   "metadata": {},
   "outputs": [
    {
     "data": {
      "text/plain": [
       "'binary accuracy on test from AID:'"
      ]
     },
     "metadata": {},
     "output_type": "display_data"
    },
    {
     "data": {
      "text/plain": [
       "{'null': 0.9822364449501038,\n",
       " 'Stable diffusion': 0.9640522599220276,\n",
       " 'Kandisky': 0.9897435903549194,\n",
       " 'DF_XL': 0.9519230723381042,\n",
       " 'dreamlike': 0.9402984976768494,\n",
       " 'gigaGan': 0.8612716794013977,\n",
       " 'GlideUP': 0.9902912378311157,\n",
       " 'LafitteUP': 0.9952830076217651,\n",
       " 'LCM_Dreamshaper': 0.994535505771637,\n",
       " 'megaDallEUP': 0.9892473220825195,\n",
       " 'miniDallEUP': 0.9948186278343201,\n",
       " 'pixart': 0.9947368502616882,\n",
       " 'playground': 0.9410377144813538,\n",
       " 'styleGan2': nan,\n",
       " 'styleGan3': nan,\n",
       " 'animagineXL': 0.9893617033958435}"
      ]
     },
     "metadata": {},
     "output_type": "display_data"
    },
    {
     "data": {
      "text/plain": [
       "'binary accuracy on AID_TEST:     '"
      ]
     },
     "metadata": {},
     "output_type": "display_data"
    },
    {
     "data": {
      "text/plain": [
       "{'null': 0.562666654586792,\n",
       " 'Stable diffusion': 0.9446666836738586,\n",
       " 'Kandisky': 0.8793333172798157,\n",
       " 'DF_XL': 0.8870000243186951,\n",
       " 'dreamlike': 0.7275000214576721,\n",
       " 'gigaGan': 0.8100000023841858,\n",
       " 'GlideUP': 0.9940000176429749,\n",
       " 'LafitteUP': 0.9980000257492065,\n",
       " 'LCM_Dreamshaper': 0.9800000190734863,\n",
       " 'megaDallEUP': 0.9909999966621399,\n",
       " 'miniDallEUP': 0.9929999709129333,\n",
       " 'pixart': 0.890666663646698,\n",
       " 'playground': 0.8812500238418579,\n",
       " 'styleGan2': 0.7480000257492065,\n",
       " 'styleGan3': 0.6819999814033508,\n",
       " 'animagineXL': 0.9884999990463257}"
      ]
     },
     "metadata": {},
     "output_type": "display_data"
    },
    {
     "data": {
      "text/plain": [
       "'multi-class accuracy on test from AID:'"
      ]
     },
     "metadata": {},
     "output_type": "display_data"
    },
    {
     "data": {
      "text/plain": [
       "{'null': 0.9822364449501038,\n",
       " 'Stable diffusion': 0.8235294222831726,\n",
       " 'Kandisky': 0.8487179279327393,\n",
       " 'DF_XL': 0.870192289352417,\n",
       " 'dreamlike': 0.6368159055709839,\n",
       " 'gigaGan': 0.7398843765258789,\n",
       " 'GlideUP': 0.9368932247161865,\n",
       " 'LafitteUP': 0.9905660152435303,\n",
       " 'LCM_Dreamshaper': 0.9234972596168518,\n",
       " 'megaDallEUP': 0.8655914068222046,\n",
       " 'miniDallEUP': 0.9430052042007446,\n",
       " 'pixart': 0.699999988079071,\n",
       " 'playground': 0.7429245114326477,\n",
       " 'styleGan2': nan,\n",
       " 'styleGan3': nan,\n",
       " 'animagineXL': 0.9042553305625916}"
      ]
     },
     "metadata": {},
     "output_type": "display_data"
    },
    {
     "data": {
      "text/plain": [
       "'multi-class accuracy on AID_TEST:'"
      ]
     },
     "metadata": {},
     "output_type": "display_data"
    },
    {
     "data": {
      "text/plain": [
       "{'null': 0.562666654586792,\n",
       " 'Stable diffusion': 0.6356666684150696,\n",
       " 'Kandisky': 0.6086666584014893,\n",
       " 'DF_XL': 0.07699999958276749,\n",
       " 'dreamlike': 0.09099999815225601,\n",
       " 'gigaGan': 0.2809999883174896,\n",
       " 'GlideUP': 0.9430000185966492,\n",
       " 'LafitteUP': 0.9950000047683716,\n",
       " 'LCM_Dreamshaper': 0.8920000195503235,\n",
       " 'megaDallEUP': 0.9100000262260437,\n",
       " 'miniDallEUP': 0.9169999957084656,\n",
       " 'pixart': 0.07599999755620956,\n",
       " 'playground': 0.10724999755620956,\n",
       " 'styleGan2': 0.0,\n",
       " 'styleGan3': 0.0,\n",
       " 'animagineXL': 0.4230000078678131}"
      ]
     },
     "metadata": {},
     "output_type": "display_data"
    }
   ],
   "source": [
    "accuracy_AID = {\"binary\":{},\"multi\":{}} # accuracy on the test data from the same folder as training data\n",
    "accuracy_AID_TEST = {\"binary\":{},\"multi\":{}} # accuracy on data from AID_TEST (can be seen as OOD)\n",
    "for g in d_AID:\n",
    "    with torch.no_grad():\n",
    "        accuracy_AID[\"binary\"][g] = \\\n",
    "            model.get_model_accuracy_binary(d_AID[g][\"features\"],\n",
    "                                            d_AID[g][\"label\"],\n",
    "                                            \"cpu\",\n",
    "                                            binary_model=False)\n",
    "        \n",
    "        accuracy_AID[\"multi\"][g] = \\\n",
    "            model.get_model_accuracy_multiclass(\n",
    "                d_AID[g][\"features\"],\n",
    "                torch.ones_like(d_AID[g][\"label\"]) * GEN_TO_INT[g],\n",
    "                \"cpu\")\n",
    "\n",
    "        accuracy_AID_TEST[\"binary\"][g] = \\\n",
    "            model.get_model_accuracy_binary(d_AID_TEST[g][\"features\"],\n",
    "                                            d_AID_TEST[g][\"label\"],\n",
    "                                            \"cpu\",\n",
    "                                            binary_model=False)\n",
    "        \n",
    "        accuracy_AID_TEST[\"multi\"][g] = \\\n",
    "            model.get_model_accuracy_multiclass(\n",
    "                d_AID_TEST[g][\"features\"],\n",
    "                torch.ones_like(d_AID_TEST[g][\"label\"]) * GEN_TO_INT[g],\n",
    "                \"cpu\")\n",
    "\n",
    "display(\"binary accuracy on test from AID:\",accuracy_AID[\"binary\"])\n",
    "display(\"binary accuracy on AID_TEST:     \",accuracy_AID_TEST[\"binary\"])\n",
    "display(\"multi-class accuracy on test from AID:\",accuracy_AID[\"multi\"])        \n",
    "display(\"multi-class accuracy on AID_TEST:\",accuracy_AID_TEST[\"multi\"])        "
   ]
  },
  {
   "cell_type": "code",
   "execution_count": 84,
   "metadata": {},
   "outputs": [],
   "source": [
    "import pandas as pd\n",
    "\n",
    "# Data provided by the user\n",
    "data = {\n",
    "    'Generator': ['null', 'Stable diffusion', 'Kandisky', 'DF_XL', 'dreamlike', 'gigaGan', 'GlideUP', 'LafitteUP', 'LCM_Dreamshaper', 'megaDallEUP', 'miniDallEUP', 'pixart', 'playground', 'styleGan2', 'styleGan3', 'animagineXL'],\n",
    "    'Binary Accuracy on Test from AID': [0.9822364449501038, 0.9640522599220276, 0.9897435903549194, 0.9519230723381042, 0.9402984976768494, 0.8612716794013977, 0.9902912378311157, 0.9952830076217651, 0.994535505771637, 0.9892473220825195, 0.9948186278343201, 0.9947368502616882, 0.9410377144813538, float('nan'), float('nan'), 0.9893617033958435],\n",
    "    'Binary Accuracy on AID_TEST': [0.562666654586792, 0.9446666836738586, 0.8793333172798157, 0.8870000243186951, 0.7275000214576721, 0.8100000023841858, 0.9940000176429749, 0.9980000257492065, 0.9800000190734863, 0.9909999966621399, 0.9929999709129333, 0.890666663646698, 0.8812500238418579, 0.7480000257492065, 0.6819999814033508, 0.9884999990463257],\n",
    "    'Multi-class Accuracy on Test from AID': [0.9822364449501038, 0.8235294222831726, 0.8487179279327393, 0.870192289352417, 0.6368159055709839, 0.7398843765258789, 0.9368932247161865, 0.9905660152435303, 0.9234972596168518, 0.8655914068222046, 0.9430052042007446, 0.699999988079071, 0.7429245114326477, float('nan'), float('nan'), 0.9042553305625916],\n",
    "    'Multi-class Accuracy on AID_TEST': [0.562666654586792, 0.6356666684150696, 0.6086666584014893, 0.07699999958276749, 0.09099999815225601, 0.2809999883174896, 0.9430000185966492, 0.9950000047683716, 0.8920000195503235, 0.9100000262260437, 0.9169999957084656, 0.07599999755620956, 0.10724999755620956, 0.0, 0.0, 0.4230000078678131]\n",
    "}\n",
    "\n",
    "# Creating the pandas DataFrame\n",
    "df = pd.DataFrame(data)"
   ]
  },
  {
   "cell_type": "code",
   "execution_count": 85,
   "metadata": {},
   "outputs": [
    {
     "data": {
      "text/html": [
       "<div>\n",
       "<style scoped>\n",
       "    .dataframe tbody tr th:only-of-type {\n",
       "        vertical-align: middle;\n",
       "    }\n",
       "\n",
       "    .dataframe tbody tr th {\n",
       "        vertical-align: top;\n",
       "    }\n",
       "\n",
       "    .dataframe thead th {\n",
       "        text-align: right;\n",
       "    }\n",
       "</style>\n",
       "<table border=\"1\" class=\"dataframe\">\n",
       "  <thead>\n",
       "    <tr style=\"text-align: right;\">\n",
       "      <th></th>\n",
       "      <th>Generator</th>\n",
       "      <th>Binary Accuracy on Test from AID</th>\n",
       "      <th>Binary Accuracy on AID_TEST</th>\n",
       "      <th>Multi-class Accuracy on Test from AID</th>\n",
       "      <th>Multi-class Accuracy on AID_TEST</th>\n",
       "    </tr>\n",
       "  </thead>\n",
       "  <tbody>\n",
       "    <tr>\n",
       "      <th>0</th>\n",
       "      <td>null</td>\n",
       "      <td>0.982236</td>\n",
       "      <td>0.562667</td>\n",
       "      <td>0.982236</td>\n",
       "      <td>0.562667</td>\n",
       "    </tr>\n",
       "    <tr>\n",
       "      <th>1</th>\n",
       "      <td>Stable diffusion</td>\n",
       "      <td>0.964052</td>\n",
       "      <td>0.944667</td>\n",
       "      <td>0.823529</td>\n",
       "      <td>0.635667</td>\n",
       "    </tr>\n",
       "    <tr>\n",
       "      <th>2</th>\n",
       "      <td>Kandisky</td>\n",
       "      <td>0.989744</td>\n",
       "      <td>0.879333</td>\n",
       "      <td>0.848718</td>\n",
       "      <td>0.608667</td>\n",
       "    </tr>\n",
       "    <tr>\n",
       "      <th>3</th>\n",
       "      <td>DF_XL</td>\n",
       "      <td>0.951923</td>\n",
       "      <td>0.887000</td>\n",
       "      <td>0.870192</td>\n",
       "      <td>0.077000</td>\n",
       "    </tr>\n",
       "    <tr>\n",
       "      <th>4</th>\n",
       "      <td>dreamlike</td>\n",
       "      <td>0.940298</td>\n",
       "      <td>0.727500</td>\n",
       "      <td>0.636816</td>\n",
       "      <td>0.091000</td>\n",
       "    </tr>\n",
       "    <tr>\n",
       "      <th>5</th>\n",
       "      <td>gigaGan</td>\n",
       "      <td>0.861272</td>\n",
       "      <td>0.810000</td>\n",
       "      <td>0.739884</td>\n",
       "      <td>0.281000</td>\n",
       "    </tr>\n",
       "    <tr>\n",
       "      <th>6</th>\n",
       "      <td>GlideUP</td>\n",
       "      <td>0.990291</td>\n",
       "      <td>0.994000</td>\n",
       "      <td>0.936893</td>\n",
       "      <td>0.943000</td>\n",
       "    </tr>\n",
       "    <tr>\n",
       "      <th>7</th>\n",
       "      <td>LafitteUP</td>\n",
       "      <td>0.995283</td>\n",
       "      <td>0.998000</td>\n",
       "      <td>0.990566</td>\n",
       "      <td>0.995000</td>\n",
       "    </tr>\n",
       "    <tr>\n",
       "      <th>8</th>\n",
       "      <td>LCM_Dreamshaper</td>\n",
       "      <td>0.994536</td>\n",
       "      <td>0.980000</td>\n",
       "      <td>0.923497</td>\n",
       "      <td>0.892000</td>\n",
       "    </tr>\n",
       "    <tr>\n",
       "      <th>9</th>\n",
       "      <td>megaDallEUP</td>\n",
       "      <td>0.989247</td>\n",
       "      <td>0.991000</td>\n",
       "      <td>0.865591</td>\n",
       "      <td>0.910000</td>\n",
       "    </tr>\n",
       "    <tr>\n",
       "      <th>10</th>\n",
       "      <td>miniDallEUP</td>\n",
       "      <td>0.994819</td>\n",
       "      <td>0.993000</td>\n",
       "      <td>0.943005</td>\n",
       "      <td>0.917000</td>\n",
       "    </tr>\n",
       "    <tr>\n",
       "      <th>11</th>\n",
       "      <td>pixart</td>\n",
       "      <td>0.994737</td>\n",
       "      <td>0.890667</td>\n",
       "      <td>0.700000</td>\n",
       "      <td>0.076000</td>\n",
       "    </tr>\n",
       "    <tr>\n",
       "      <th>12</th>\n",
       "      <td>playground</td>\n",
       "      <td>0.941038</td>\n",
       "      <td>0.881250</td>\n",
       "      <td>0.742925</td>\n",
       "      <td>0.107250</td>\n",
       "    </tr>\n",
       "    <tr>\n",
       "      <th>13</th>\n",
       "      <td>styleGan2</td>\n",
       "      <td>NaN</td>\n",
       "      <td>0.748000</td>\n",
       "      <td>NaN</td>\n",
       "      <td>0.000000</td>\n",
       "    </tr>\n",
       "    <tr>\n",
       "      <th>14</th>\n",
       "      <td>styleGan3</td>\n",
       "      <td>NaN</td>\n",
       "      <td>0.682000</td>\n",
       "      <td>NaN</td>\n",
       "      <td>0.000000</td>\n",
       "    </tr>\n",
       "    <tr>\n",
       "      <th>15</th>\n",
       "      <td>animagineXL</td>\n",
       "      <td>0.989362</td>\n",
       "      <td>0.988500</td>\n",
       "      <td>0.904255</td>\n",
       "      <td>0.423000</td>\n",
       "    </tr>\n",
       "  </tbody>\n",
       "</table>\n",
       "</div>"
      ],
      "text/plain": [
       "           Generator  Binary Accuracy on Test from AID  \\\n",
       "0               null                          0.982236   \n",
       "1   Stable diffusion                          0.964052   \n",
       "2           Kandisky                          0.989744   \n",
       "3              DF_XL                          0.951923   \n",
       "4          dreamlike                          0.940298   \n",
       "5            gigaGan                          0.861272   \n",
       "6            GlideUP                          0.990291   \n",
       "7          LafitteUP                          0.995283   \n",
       "8    LCM_Dreamshaper                          0.994536   \n",
       "9        megaDallEUP                          0.989247   \n",
       "10       miniDallEUP                          0.994819   \n",
       "11            pixart                          0.994737   \n",
       "12        playground                          0.941038   \n",
       "13         styleGan2                               NaN   \n",
       "14         styleGan3                               NaN   \n",
       "15       animagineXL                          0.989362   \n",
       "\n",
       "    Binary Accuracy on AID_TEST  Multi-class Accuracy on Test from AID  \\\n",
       "0                      0.562667                               0.982236   \n",
       "1                      0.944667                               0.823529   \n",
       "2                      0.879333                               0.848718   \n",
       "3                      0.887000                               0.870192   \n",
       "4                      0.727500                               0.636816   \n",
       "5                      0.810000                               0.739884   \n",
       "6                      0.994000                               0.936893   \n",
       "7                      0.998000                               0.990566   \n",
       "8                      0.980000                               0.923497   \n",
       "9                      0.991000                               0.865591   \n",
       "10                     0.993000                               0.943005   \n",
       "11                     0.890667                               0.700000   \n",
       "12                     0.881250                               0.742925   \n",
       "13                     0.748000                                    NaN   \n",
       "14                     0.682000                                    NaN   \n",
       "15                     0.988500                               0.904255   \n",
       "\n",
       "    Multi-class Accuracy on AID_TEST  \n",
       "0                           0.562667  \n",
       "1                           0.635667  \n",
       "2                           0.608667  \n",
       "3                           0.077000  \n",
       "4                           0.091000  \n",
       "5                           0.281000  \n",
       "6                           0.943000  \n",
       "7                           0.995000  \n",
       "8                           0.892000  \n",
       "9                           0.910000  \n",
       "10                          0.917000  \n",
       "11                          0.076000  \n",
       "12                          0.107250  \n",
       "13                          0.000000  \n",
       "14                          0.000000  \n",
       "15                          0.423000  "
      ]
     },
     "execution_count": 85,
     "metadata": {},
     "output_type": "execute_result"
    }
   ],
   "source": [
    "df"
   ]
  },
  {
   "cell_type": "code",
   "execution_count": 87,
   "metadata": {},
   "outputs": [],
   "source": [
    "df.to_csv(\"../../docs/binary_multi_acc_AID_AID_TEST_neural_network.csv\",index=False)"
   ]
  }
 ],
 "metadata": {
  "kernelspec": {
   "display_name": "Python 3",
   "language": "python",
   "name": "python3"
  },
  "language_info": {
   "codemirror_mode": {
    "name": "ipython",
    "version": 3
   },
   "file_extension": ".py",
   "mimetype": "text/x-python",
   "name": "python",
   "nbconvert_exporter": "python",
   "pygments_lexer": "ipython3",
   "version": "3.11.9"
  }
 },
 "nbformat": 4,
 "nbformat_minor": 2
}
