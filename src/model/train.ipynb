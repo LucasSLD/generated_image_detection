{
 "cells": [
  {
   "cell_type": "code",
   "execution_count": 1,
   "metadata": {},
   "outputs": [],
   "source": [
    "%load_ext autoreload\n",
    "%autoreload 2"
   ]
  },
  {
   "cell_type": "code",
   "execution_count": 2,
   "metadata": {},
   "outputs": [
    {
     "name": "stderr",
     "output_type": "stream",
     "text": [
      "/home/lsaland/micromamba/envs/clip/lib/python3.11/site-packages/tqdm/auto.py:21: TqdmWarning: IProgress not found. Please update jupyter and ipywidgets. See https://ipywidgets.readthedocs.io/en/stable/user_install.html\n",
      "  from .autonotebook import tqdm as notebook_tqdm\n",
      "/home/lsaland/micromamba/envs/clip/lib/python3.11/site-packages/diffusers/models/transformers/transformer_2d.py:34: FutureWarning: `Transformer2DModelOutput` is deprecated and will be removed in version 1.0.0. Importing `Transformer2DModelOutput` from `diffusers.models.transformer_2d` is deprecated and this will be removed in a future version. Please use `from diffusers.models.modeling_outputs import Transformer2DModelOutput`, instead.\n",
      "  deprecate(\"Transformer2DModelOutput\", \"1.0.0\", deprecation_message)\n",
      "Loading pipeline components...: 100%|██████████| 7/7 [00:00<00:00,  8.36it/s]\n"
     ]
    }
   ],
   "source": [
    "from MLP_classifier import MultiClassClassifier\n",
    "from torch.utils.data import DataLoader\n",
    "import sys\n",
    "sys.path.append(\".\")\n",
    "from dataset import *\n",
    "import torch.nn as nn\n",
    "import torch\n",
    "sys.path.append(\"../tools\")\n",
    "from constants import *\n",
    "from sklearn.model_selection import train_test_split\n",
    "from torch.utils.data import random_split\n",
    "import matplotlib.pyplot as plt\n",
    "from sklearn.svm import LinearSVC\n",
    "from sklearn.multiclass import OneVsOneClassifier\n",
    "sys.path.append(\"../tools\")\n",
    "from utils import plot_loss_history"
   ]
  },
  {
   "cell_type": "markdown",
   "metadata": {},
   "source": [
    "# Parameters"
   ]
  },
  {
   "cell_type": "code",
   "execution_count": 146,
   "metadata": {},
   "outputs": [
    {
     "data": {
      "text/plain": [
       "MultiClassClassifier(\n",
       "  (fc1): Linear(in_features=768, out_features=512, bias=True)\n",
       "  (fc2): Linear(in_features=512, out_features=16, bias=True)\n",
       "  (act): ReLU()\n",
       ")"
      ]
     },
     "execution_count": 146,
     "metadata": {},
     "output_type": "execute_result"
    }
   ],
   "source": [
    "device = \"cuda:0\"\n",
    "model = MultiClassClassifier(n_classes=len(GEN_TO_INT.keys())).to(device=device)\n",
    "\n",
    "lr = 1e-3\n",
    "batch_size = 64\n",
    "epochs = 5\n",
    "\n",
    "loss_fn = nn.CrossEntropyLoss()\n",
    "optimizer = torch.optim.SGD(model.parameters(), lr=lr)\n",
    "\n",
    "data = DeepFakeDatasetFastLoad(PATH_TO_DATA4 + \"df_34000_V2.pt\")\n",
    "\n",
    "rng = torch.Generator().manual_seed(SEED)\n",
    "train_data, test_data, validation_data = random_split(data,[0.7,0.2,0.1],generator=rng)\n",
    "\n",
    "train_loader = DataLoader(train_data,batch_size=batch_size,shuffle=True)\n",
    "test_loader  = DataLoader(test_data,batch_size=len(test_data),shuffle=True)\n",
    "val_loader  = DataLoader(validation_data,batch_size=len(validation_data),shuffle=True)\n",
    "\n",
    "model.train()"
   ]
  },
  {
   "cell_type": "markdown",
   "metadata": {},
   "source": [
    "## Train for multi-class classification"
   ]
  },
  {
   "cell_type": "code",
   "execution_count": 147,
   "metadata": {},
   "outputs": [],
   "source": [
    "model.set_generators_maps(gen_to_int=GEN_TO_INT,int_to_gen=INT_TO_GEN)"
   ]
  },
  {
   "cell_type": "code",
   "execution_count": 148,
   "metadata": {},
   "outputs": [
    {
     "name": "stdout",
     "output_type": "stream",
     "text": [
      "loss: 1.083643  [   10/ 1000]\n",
      "loss: 0.903609  [   20/ 1000]\n",
      "loss: 0.515120  [   30/ 1000]\n",
      "loss: 0.559094  [   40/ 1000]\n",
      "loss: 0.546588  [   50/ 1000]\n",
      "loss: 0.441140  [   60/ 1000]\n",
      "loss: 0.365204  [   70/ 1000]\n",
      "loss: 0.366031  [   80/ 1000]\n",
      "loss: 0.308687  [   90/ 1000]\n",
      "loss: 0.253033  [  100/ 1000]\n",
      "loss: 0.210082  [  110/ 1000]\n",
      "loss: 0.323321  [  120/ 1000]\n",
      "loss: 0.117914  [  130/ 1000]\n",
      "loss: 0.268384  [  140/ 1000]\n",
      "loss: 0.163159  [  150/ 1000]\n",
      "loss: 0.314148  [  160/ 1000]\n",
      "loss: 0.301961  [  170/ 1000]\n",
      "loss: 0.345350  [  180/ 1000]\n",
      "loss: 0.215941  [  190/ 1000]\n",
      "loss: 0.215817  [  200/ 1000]\n",
      "loss: 0.249675  [  210/ 1000]\n",
      "loss: 0.115867  [  220/ 1000]\n",
      "loss: 0.207075  [  230/ 1000]\n",
      "loss: 0.189053  [  240/ 1000]\n",
      "loss: 0.144920  [  250/ 1000]\n",
      "loss: 0.229414  [  260/ 1000]\n",
      "loss: 0.266092  [  270/ 1000]\n",
      "loss: 0.123982  [  280/ 1000]\n",
      "loss: 0.178462  [  290/ 1000]\n",
      "loss: 0.196176  [  300/ 1000]\n",
      "loss: 0.168153  [  310/ 1000]\n",
      "loss: 0.114833  [  320/ 1000]\n",
      "loss: 0.183321  [  330/ 1000]\n",
      "loss: 0.095777  [  340/ 1000]\n",
      "loss: 0.230289  [  350/ 1000]\n",
      "loss: 0.088249  [  360/ 1000]\n",
      "loss: 0.234299  [  370/ 1000]\n",
      "loss: 0.128863  [  380/ 1000]\n",
      "loss: 0.150503  [  390/ 1000]\n",
      "loss: 0.116159  [  400/ 1000]\n",
      "loss: 0.201118  [  410/ 1000]\n",
      "loss: 0.101444  [  420/ 1000]\n",
      "loss: 0.160854  [  430/ 1000]\n",
      "loss: 0.147623  [  440/ 1000]\n",
      "loss: 0.107851  [  450/ 1000]\n",
      "loss: 0.123872  [  460/ 1000]\n",
      "loss: 0.156791  [  470/ 1000]\n",
      "loss: 0.105354  [  480/ 1000]\n",
      "loss: 0.125542  [  490/ 1000]\n",
      "loss: 0.102317  [  500/ 1000]\n",
      "loss: 0.088741  [  510/ 1000]\n",
      "loss: 0.079975  [  520/ 1000]\n",
      "loss: 0.066944  [  530/ 1000]\n",
      "loss: 0.152889  [  540/ 1000]\n",
      "loss: 0.068445  [  550/ 1000]\n",
      "loss: 0.103755  [  560/ 1000]\n",
      "loss: 0.138058  [  570/ 1000]\n",
      "loss: 0.225921  [  580/ 1000]\n",
      "loss: 0.183273  [  590/ 1000]\n",
      "loss: 0.104766  [  600/ 1000]\n",
      "loss: 0.195365  [  610/ 1000]\n",
      "loss: 0.090388  [  620/ 1000]\n",
      "loss: 0.112982  [  630/ 1000]\n",
      "loss: 0.086784  [  640/ 1000]\n",
      "loss: 0.073494  [  650/ 1000]\n",
      "loss: 0.145628  [  660/ 1000]\n",
      "loss: 0.131363  [  670/ 1000]\n",
      "loss: 0.179785  [  680/ 1000]\n",
      "loss: 0.176956  [  690/ 1000]\n",
      "loss: 0.160835  [  700/ 1000]\n",
      "loss: 0.033706  [  710/ 1000]\n",
      "loss: 0.092893  [  720/ 1000]\n",
      "loss: 0.062387  [  730/ 1000]\n",
      "loss: 0.128669  [  740/ 1000]\n",
      "loss: 0.133510  [  750/ 1000]\n",
      "loss: 0.063594  [  760/ 1000]\n",
      "loss: 0.052283  [  770/ 1000]\n",
      "loss: 0.090075  [  780/ 1000]\n",
      "loss: 0.072280  [  790/ 1000]\n",
      "loss: 0.088315  [  800/ 1000]\n",
      "loss: 0.116617  [  810/ 1000]\n",
      "loss: 0.077982  [  820/ 1000]\n",
      "loss: 0.058514  [  830/ 1000]\n",
      "loss: 0.030378  [  840/ 1000]\n",
      "loss: 0.034574  [  850/ 1000]\n",
      "loss: 0.056091  [  860/ 1000]\n",
      "loss: 0.101805  [  870/ 1000]\n",
      "loss: 0.093489  [  880/ 1000]\n",
      "loss: 0.091548  [  890/ 1000]\n",
      "loss: 0.063140  [  900/ 1000]\n",
      "loss: 0.052897  [  910/ 1000]\n",
      "loss: 0.065542  [  920/ 1000]\n",
      "loss: 0.070062  [  930/ 1000]\n",
      "loss: 0.071158  [  940/ 1000]\n",
      "loss: 0.054972  [  950/ 1000]\n",
      "loss: 0.043856  [  960/ 1000]\n",
      "loss: 0.029621  [  970/ 1000]\n",
      "loss: 0.113798  [  980/ 1000]\n",
      "loss: 0.028144  [  990/ 1000]\n",
      "loss: 0.076223  [ 1000/ 1000]\n"
     ]
    }
   ],
   "source": [
    "n_epochs = 1000\n",
    "val_accuracy = []\n",
    "loss_history = []\n",
    "for epoch in range(1,n_epochs+1):\n",
    "    for idx, batch in enumerate(train_loader):\n",
    "        # prediction and loss\n",
    "        pred = model(batch[\"features\"].cuda(device))\n",
    "        loss = loss_fn(pred,batch[\"generator\"].type(torch.LongTensor).cuda(device))\n",
    "\n",
    "        # backpropagation\n",
    "        loss.backward()\n",
    "        optimizer.step()\n",
    "        optimizer.zero_grad()\n",
    "        \n",
    "    loss, current = loss.item(), idx*batch_size + len(batch[\"features\"])\n",
    "    if epoch%10 == 0 and epoch > 0:\n",
    "        loss_history.append(loss)\n",
    "        for v in val_loader:\n",
    "            val_accuracy.append(\n",
    "                model.get_model_accuracy_binary(v[\"features\"],\n",
    "                                                v[\"label\"],\n",
    "                                                device))\n",
    "        print(f\"loss: {loss:>7f}  [{epoch:>5d}/{n_epochs:>5d}]\")"
   ]
  },
  {
   "cell_type": "code",
   "execution_count": 149,
   "metadata": {},
   "outputs": [
    {
     "data": {
      "image/png": "[encoded data removed]",
      "text/plain": [
       "<Figure size 1000x600 with 2 Axes>"
      ]
     },
     "metadata": {},
     "output_type": "display_data"
    }
   ],
   "source": [
    "fig, (ax1, ax2) = plt.subplots(2,1,figsize=(10,6))\n",
    "ax1.set_title(\"loss\")\n",
    "ax2.set_title(\"accuracy on validation\")\n",
    "ax1.plot(range(1,n_epochs+1,10),loss_history)\n",
    "ax2.plot(range(1,n_epochs+1,10),val_accuracy)\n",
    "ax1.grid()\n",
    "ax2.grid() \n",
    "plt.show()"
   ]
  },
  {
   "cell_type": "markdown",
   "metadata": {},
   "source": [
    "## Test for binary classification"
   ]
  },
  {
   "cell_type": "code",
   "execution_count": 150,
   "metadata": {},
   "outputs": [
    {
     "name": "stdout",
     "output_type": "stream",
     "text": [
      "0.9763234853744507\n"
     ]
    }
   ],
   "source": [
    "import torch.types\n",
    "\n",
    "with torch.no_grad():\n",
    "    model.eval()\n",
    "    for e in test_loader:\n",
    "        accuracy = model.get_model_accuracy_binary(features=e[\"features\"],\n",
    "                                                   true_labels=e[\"label\"],\n",
    "                                                   device=device)\n",
    "print(accuracy)"
   ]
  },
  {
   "cell_type": "markdown",
   "metadata": {},
   "source": [
    "### Comparison with SVM"
   ]
  },
  {
   "cell_type": "code",
   "execution_count": null,
   "metadata": {},
   "outputs": [],
   "source": [
    "from sklearn.svm import LinearSVC\n",
    "from sklearn.multiclass import OneVsOneClassifier\n",
    "\n",
    "clf = OneVsOneClassifier(LinearSVC(dual=\"auto\"))"
   ]
  },
  {
   "cell_type": "code",
   "execution_count": null,
   "metadata": {},
   "outputs": [],
   "source": [
    "train_loader_all = DataLoader(train_data,batch_size=len(train_data))\n",
    "for e in train_loader_all:\n",
    "    X_train = e[\"features\"]\n",
    "    gen_train = e[\"generator\"]\n",
    "    label_train = e[\"label\"]\n",
    "for e in test_loader:\n",
    "    X_test = e[\"features\"]\n",
    "    gen_test = e[\"generator\"]\n",
    "    label_test = e[\"label\"]\n",
    "\n",
    "clf.fit(X_train, gen_train) # train on multi-class classification"
   ]
  },
  {
   "cell_type": "code",
   "execution_count": null,
   "metadata": {},
   "outputs": [],
   "source": [
    "import numpy as np\n",
    "pred = data.class_to_label(clf.predict(X_test))\n",
    "np.mean(label_test.numpy() == pred.numpy()) # binary classification performance"
   ]
  },
  {
   "cell_type": "markdown",
   "metadata": {},
   "source": [
    "## Test on multi-class classification"
   ]
  },
  {
   "cell_type": "markdown",
   "metadata": {},
   "source": [
    "### Neural Network"
   ]
  },
  {
   "cell_type": "code",
   "execution_count": null,
   "metadata": {},
   "outputs": [],
   "source": [
    "import torch.types\n",
    "\n",
    "with torch.no_grad():\n",
    "    model.eval()\n",
    "    for e in test_loader:\n",
    "        accuracy = model.get_model_accuracy_multiclass(features=e[\"features\"],\n",
    "                                            true_classes=e[\"generator\"],\n",
    "                                            device=\"cuda:\"+str(device))\n",
    "print(accuracy)"
   ]
  },
  {
   "cell_type": "markdown",
   "metadata": {},
   "source": [
    "### SVM"
   ]
  },
  {
   "cell_type": "code",
   "execution_count": null,
   "metadata": {},
   "outputs": [],
   "source": [
    "clf.fit(X_train,gen_train).score(X_test,gen_test)"
   ]
  },
  {
   "cell_type": "markdown",
   "metadata": {},
   "source": [
    "# Saving the model"
   ]
  },
  {
   "cell_type": "code",
   "execution_count": 151,
   "metadata": {},
   "outputs": [],
   "source": [
    "path = f\"./checkpoints/multiclass_train_AID_df_34000_V2.pt\"\n",
    "torch.save(model.state_dict(),path)"
   ]
  },
  {
   "cell_type": "markdown",
   "metadata": {},
   "source": [
    "# Loading the model"
   ]
  },
  {
   "cell_type": "code",
   "execution_count": 58,
   "metadata": {},
   "outputs": [
    {
     "data": {
      "text/plain": [
       "<All keys matched successfully>"
      ]
     },
     "execution_count": 58,
     "metadata": {},
     "output_type": "execute_result"
    }
   ],
   "source": [
    "model = MultiClassClassifier(n_classes=len(GEN_TO_INT.keys()))\n",
    "model.load_state_dict(torch.load(path))"
   ]
  },
  {
   "cell_type": "code",
   "execution_count": 60,
   "metadata": {},
   "outputs": [
    {
     "name": "stdout",
     "output_type": "stream",
     "text": [
      "0.9085294008255005\n"
     ]
    }
   ],
   "source": [
    "model.eval().cuda(device)\n",
    "with torch.no_grad():\n",
    "    for e in test_loader:\n",
    "        pred = torch.argmax(model(e[\"features\"].cuda(device)),dim=1)\n",
    "        acc = torch.mean(torch.eq(e[\"generator\"].cuda(device),pred).float()).item()\n",
    "        print(acc)"
   ]
  },
  {
   "cell_type": "markdown",
   "metadata": {},
   "source": [
    "# Train on data3 test on SB"
   ]
  },
  {
   "cell_type": "code",
   "execution_count": null,
   "metadata": {},
   "outputs": [],
   "source": [
    "from utils import load_synthbuster_balanced\n",
    "X_sb, y_sb = load_synthbuster_balanced(PATH_TO_DATA4 + \"synthbuster_test\",\n",
    "                                       binary_classification=True,\n",
    "                                       balance_real_fake=True)"
   ]
  },
  {
   "cell_type": "code",
   "execution_count": null,
   "metadata": {},
   "outputs": [],
   "source": [
    "model.get_model_accuracy_binary(torch.Tensor(X_sb).cuda(device),\n",
    "                                torch.Tensor(y_sb).cuda(device),\n",
    "                                device)"
   ]
  },
  {
   "cell_type": "markdown",
   "metadata": {},
   "source": [
    "# Test on OOD"
   ]
  },
  {
   "cell_type": "code",
   "execution_count": null,
   "metadata": {},
   "outputs": [],
   "source": [
    "ood = OOD(\"../../data/ood\",load_preprocessed=False,device=\"cuda:\" + str(device))"
   ]
  },
  {
   "cell_type": "code",
   "execution_count": null,
   "metadata": {},
   "outputs": [],
   "source": [
    "# ood.save(\"../../data/ood.pt\")"
   ]
  },
  {
   "cell_type": "code",
   "execution_count": null,
   "metadata": {},
   "outputs": [],
   "source": [
    "ood2 = OOD(PATH_TO_DATA4 + \"ood.pt\",load_preprocessed=True)"
   ]
  },
  {
   "cell_type": "code",
   "execution_count": null,
   "metadata": {},
   "outputs": [],
   "source": [
    "loader_test = DataLoader(ood2, batch_size=len(ood2), shuffle=True)"
   ]
  },
  {
   "cell_type": "code",
   "execution_count": null,
   "metadata": {},
   "outputs": [],
   "source": [
    "for e in loader_test:\n",
    "    model.eval()\n",
    "    with torch.no_grad():\n",
    "        accuracy = model.get_model_accuracy_binary(e[\"features\"],e[\"label\"],device)\n",
    "\n",
    "print(accuracy)"
   ]
  },
  {
   "cell_type": "markdown",
   "metadata": {},
   "source": [
    "# Training a binary classifier"
   ]
  },
  {
   "cell_type": "code",
   "execution_count": 67,
   "metadata": {},
   "outputs": [
    {
     "name": "stderr",
     "output_type": "stream",
     "text": [
      "filtering:   0%|          | 0/12 [00:00<?, ?it/s]"
     ]
    },
    {
     "name": "stderr",
     "output_type": "stream",
     "text": [
      "filtering: 100%|██████████| 12/12 [00:00<00:00, 158.71it/s]\n"
     ]
    },
    {
     "data": {
      "text/plain": [
       "MultiClassClassifier(\n",
       "  (fc1): Linear(in_features=768, out_features=512, bias=True)\n",
       "  (fc2): Linear(in_features=512, out_features=2, bias=True)\n",
       "  (act): ReLU()\n",
       ")"
      ]
     },
     "execution_count": 67,
     "metadata": {},
     "output_type": "execute_result"
    }
   ],
   "source": [
    "device = \"cuda:0\"\n",
    "clf_binary = MultiClassClassifier(n_classes=2).to(device)\n",
    "\n",
    "lr = 1e-3\n",
    "batch_size = 128\n",
    "n_epochs = 1000\n",
    "\n",
    "loss_fn = nn.CrossEntropyLoss()\n",
    "optimizer = torch.optim.SGD(clf_binary.parameters(), lr=lr)\n",
    "\n",
    "data = DeepFakeDatasetFastLoad(PATH_TO_DATA4 + \"df_34000_V2.pt\",\n",
    "                               remove_blacklisted_gen=True)\n",
    "clf_binary.set_generators_maps(gen_to_int=GEN_TO_INT,int_to_gen=INT_TO_GEN)\n",
    "\n",
    "\n",
    "rng = torch.Generator().manual_seed(SEED)\n",
    "train_data, test_data, validation_data = random_split(data,[0.7,0.2,0.1],generator=rng)\n",
    "\n",
    "train_loader = DataLoader(train_data,batch_size=batch_size,shuffle=True)\n",
    "test_loader  = DataLoader(test_data,batch_size=len(test_data),shuffle=True)\n",
    "val_loader  = DataLoader(validation_data,batch_size=len(validation_data),shuffle=True)\n",
    "\n",
    "clf_binary.train()"
   ]
  },
  {
   "cell_type": "code",
   "execution_count": 68,
   "metadata": {},
   "outputs": [
    {
     "name": "stdout",
     "output_type": "stream",
     "text": [
      "loss: 0.254174  [   10/ 1000]\n",
      "loss: 0.093920  [   20/ 1000]\n",
      "loss: 0.450883  [   30/ 1000]\n",
      "loss: 0.014565  [   40/ 1000]\n",
      "loss: 0.043445  [   50/ 1000]\n",
      "loss: 0.054383  [   60/ 1000]\n",
      "loss: 0.012452  [   70/ 1000]\n",
      "loss: 0.104798  [   80/ 1000]\n",
      "loss: 0.033186  [   90/ 1000]\n",
      "loss: 0.009909  [  100/ 1000]\n",
      "loss: 0.024631  [  110/ 1000]\n",
      "loss: 0.030945  [  120/ 1000]\n",
      "loss: 0.050639  [  130/ 1000]\n",
      "loss: 0.002710  [  140/ 1000]\n",
      "loss: 0.011735  [  150/ 1000]\n",
      "loss: 0.124056  [  160/ 1000]\n",
      "loss: 0.031568  [  170/ 1000]\n",
      "loss: 0.021027  [  180/ 1000]\n",
      "loss: 0.003857  [  190/ 1000]\n",
      "loss: 0.053024  [  200/ 1000]\n",
      "loss: 0.060919  [  210/ 1000]\n",
      "loss: 0.016649  [  220/ 1000]\n",
      "loss: 0.035134  [  230/ 1000]\n",
      "loss: 0.005480  [  240/ 1000]\n",
      "loss: 0.008170  [  250/ 1000]\n",
      "loss: 0.009000  [  260/ 1000]\n",
      "loss: 0.020427  [  270/ 1000]\n",
      "loss: 0.160656  [  280/ 1000]\n",
      "loss: 0.045226  [  290/ 1000]\n",
      "loss: 0.044380  [  300/ 1000]\n",
      "loss: 0.007756  [  310/ 1000]\n",
      "loss: 0.001458  [  320/ 1000]\n",
      "loss: 0.006739  [  330/ 1000]\n",
      "loss: 0.022985  [  340/ 1000]\n",
      "loss: 0.049857  [  350/ 1000]\n",
      "loss: 0.146354  [  360/ 1000]\n",
      "loss: 0.163628  [  370/ 1000]\n",
      "loss: 0.029327  [  380/ 1000]\n",
      "loss: 0.056001  [  390/ 1000]\n",
      "loss: 0.000864  [  400/ 1000]\n",
      "loss: 0.052336  [  410/ 1000]\n",
      "loss: 0.109640  [  420/ 1000]\n",
      "loss: 0.124169  [  430/ 1000]\n",
      "loss: 0.015089  [  440/ 1000]\n",
      "loss: 0.193292  [  450/ 1000]\n",
      "loss: 0.036304  [  460/ 1000]\n",
      "loss: 0.019530  [  470/ 1000]\n",
      "loss: 0.054773  [  480/ 1000]\n",
      "loss: 0.027968  [  490/ 1000]\n",
      "loss: 0.001482  [  500/ 1000]\n",
      "loss: 0.034377  [  510/ 1000]\n",
      "loss: 0.001143  [  520/ 1000]\n",
      "loss: 0.081191  [  530/ 1000]\n",
      "loss: 0.012813  [  540/ 1000]\n",
      "loss: 0.004885  [  550/ 1000]\n",
      "loss: 0.008484  [  560/ 1000]\n",
      "loss: 0.019130  [  570/ 1000]\n",
      "loss: 0.020940  [  580/ 1000]\n",
      "loss: 0.002307  [  590/ 1000]\n",
      "loss: 0.183249  [  600/ 1000]\n",
      "loss: 0.018700  [  610/ 1000]\n",
      "loss: 0.014349  [  620/ 1000]\n",
      "loss: 0.140218  [  630/ 1000]\n",
      "loss: 0.017314  [  640/ 1000]\n",
      "loss: 0.011441  [  650/ 1000]\n",
      "loss: 0.019655  [  660/ 1000]\n",
      "loss: 0.002434  [  670/ 1000]\n",
      "loss: 0.083101  [  680/ 1000]\n",
      "loss: 0.003549  [  690/ 1000]\n",
      "loss: 0.000831  [  700/ 1000]\n",
      "loss: 0.006168  [  710/ 1000]\n",
      "loss: 0.113483  [  720/ 1000]\n",
      "loss: 0.148881  [  730/ 1000]\n",
      "loss: 0.002049  [  740/ 1000]\n",
      "loss: 0.061335  [  750/ 1000]\n",
      "loss: 0.022516  [  760/ 1000]\n",
      "loss: 0.003301  [  770/ 1000]\n",
      "loss: 0.001095  [  780/ 1000]\n",
      "loss: 0.001143  [  790/ 1000]\n",
      "loss: 0.044439  [  800/ 1000]\n",
      "loss: 0.081133  [  810/ 1000]\n",
      "loss: 0.024860  [  820/ 1000]\n",
      "loss: 0.000370  [  830/ 1000]\n",
      "loss: 0.003043  [  840/ 1000]\n",
      "loss: 0.032511  [  850/ 1000]\n",
      "loss: 0.021256  [  860/ 1000]\n",
      "loss: 0.007850  [  870/ 1000]\n",
      "loss: 0.016504  [  880/ 1000]\n",
      "loss: 0.008080  [  890/ 1000]\n",
      "loss: 0.023730  [  900/ 1000]\n",
      "loss: 0.010565  [  910/ 1000]\n",
      "loss: 0.032634  [  920/ 1000]\n",
      "loss: 0.041923  [  930/ 1000]\n",
      "loss: 0.000170  [  940/ 1000]\n",
      "loss: 0.002711  [  950/ 1000]\n",
      "loss: 0.021471  [  960/ 1000]\n",
      "loss: 0.005452  [  970/ 1000]\n",
      "loss: 0.002570  [  980/ 1000]\n",
      "loss: 0.011488  [  990/ 1000]\n",
      "loss: 0.044269  [ 1000/ 1000]\n"
     ]
    }
   ],
   "source": [
    "val_accuracy = []\n",
    "loss_history = []\n",
    "for epoch in range(1,n_epochs+1):\n",
    "    for idx, batch in enumerate(train_loader):\n",
    "        # prediction and loss\n",
    "        pred = clf_binary(batch[\"features\"].to(device))\n",
    "        loss = loss_fn(pred,batch[\"label\"].type(torch.LongTensor).to(device))\n",
    "\n",
    "        # backpropagation\n",
    "        loss.backward()\n",
    "        optimizer.step()\n",
    "        optimizer.zero_grad()\n",
    "        \n",
    "    loss, current = loss.item(), idx*batch_size + len(batch[\"features\"])\n",
    "    if epoch%10 == 0 and epoch > 0:\n",
    "        loss_history.append(loss)\n",
    "        for v in val_loader:\n",
    "            pred = torch.argmax(clf_binary(v[\"features\"].to(device)),dim=1)\n",
    "            val_accuracy.append(torch.mean(torch.eq(v[\"label\"].to(device),pred).float()).item())\n",
    "        print(f\"loss: {loss:>7f}  [{epoch:>5d}/{n_epochs:>5d}]\")"
   ]
  },
  {
   "cell_type": "code",
   "execution_count": 69,
   "metadata": {},
   "outputs": [
    {
     "data": {
      "image/png": "[encoded data removed]",
      "text/plain": [
       "<Figure size 1000x600 with 2 Axes>"
      ]
     },
     "metadata": {},
     "output_type": "display_data"
    }
   ],
   "source": [
    "fig, (ax1, ax2) = plt.subplots(2,1,figsize=(10,6))\n",
    "ax1.set_title(\"loss\")\n",
    "ax2.set_title(\"accuracy on validation\")\n",
    "ax1.plot(range(1,n_epochs+1,10),loss_history)\n",
    "ax2.plot(range(1,n_epochs+1,10),val_accuracy)\n",
    "ax1.grid()\n",
    "ax2.grid() \n",
    "plt.show()"
   ]
  },
  {
   "cell_type": "code",
   "execution_count": 70,
   "metadata": {},
   "outputs": [],
   "source": [
    "# path = f\"./checkpoints/binary_epochs={n_epochs}_loss={loss}_filtered.pt\"\n",
    "torch.save(clf_binary.state_dict(),path)"
   ]
  },
  {
   "cell_type": "markdown",
   "metadata": {},
   "source": [
    "## Binary classifier Test VS MultiClass classifier"
   ]
  },
  {
   "cell_type": "code",
   "execution_count": 6,
   "metadata": {},
   "outputs": [
    {
     "data": {
      "text/plain": [
       "<All keys matched successfully>"
      ]
     },
     "execution_count": 6,
     "metadata": {},
     "output_type": "execute_result"
    }
   ],
   "source": [
    "clf_binary.load_state_dict(torch.load(\"./checkpoints/binary_epochs=1000_loss=0.02289319783449173.pt\"))\n",
    "clf_binary.eval()"
   ]
  },
  {
   "cell_type": "code",
   "execution_count": 16,
   "metadata": {},
   "outputs": [],
   "source": [
    "model = MultiClassClassifier(n_classes=len(GEN_TO_INT.keys()))\n",
    "model.eval()\n",
    "model.load_state_dict(torch.load(\"./checkpoints/multiclass_epochs=1000_loss=0.0692238137125969.pt\"))\n",
    "model.set_generators_maps(GEN_TO_INT,INT_TO_GEN)"
   ]
  },
  {
   "cell_type": "code",
   "execution_count": 17,
   "metadata": {},
   "outputs": [
    {
     "name": "stdout",
     "output_type": "stream",
     "text": [
      "Accuracy with binary classifier:      0.9754411578178406\n",
      "Accuracy with multi-class classifier: 0.9752941131591797\n"
     ]
    }
   ],
   "source": [
    "for e in test_loader:\n",
    "    with torch.no_grad():\n",
    "        print(\"Accuracy with binary classifier:     \",clf_binary.get_model_accuracy_binary(e[\"features\"],e[\"label\"],device,binary_model=True))\n",
    "        print(\"Accuracy with multi-class classifier:\",model.get_model_accuracy_binary(e[\"features\"],e[\"label\"],\"cpu\",binary_model=False))"
   ]
  },
  {
   "cell_type": "markdown",
   "metadata": {},
   "source": [
    "## Test on AID_TEST"
   ]
  },
  {
   "cell_type": "code",
   "execution_count": 73,
   "metadata": {},
   "outputs": [
    {
     "name": "stderr",
     "output_type": "stream",
     "text": [
      "filtering: 100%|██████████| 3/3 [00:00<00:00, 2833.99it/s]"
     ]
    },
    {
     "name": "stdout",
     "output_type": "stream",
     "text": [
      "Accuracy with binary classifier:      0.7097500562667847\n",
      "Accuracy with multi-class classifier: 0.7320000529289246\n"
     ]
    },
    {
     "name": "stderr",
     "output_type": "stream",
     "text": [
      "\n"
     ]
    }
   ],
   "source": [
    "data_test = DeepFakeTest(PATH_TO_DATA4 + \"df_test_60000.pt\",\n",
    "                         load_from_disk=True,\n",
    "                         remove_blacklisted_gen=True)\n",
    "\n",
    "with torch.no_grad():\n",
    "    \n",
    "    print(\"Accuracy with binary classifier:     \",\n",
    "          clf_binary.get_model_accuracy_binary(data_test.features,\n",
    "                                               data_test.label,\n",
    "                                               device,\n",
    "                                               binary_model=True))\n",
    "    model.set_generators_maps(gen_to_int=GEN_TO_INT,int_to_gen=INT_TO_GEN)\n",
    "    print(\"Accuracy with multi-class classifier:\",\n",
    "          model.get_model_accuracy_binary(data_test.features.to(device),\n",
    "                                          data_test.label.to(device),\n",
    "                                          device,\n",
    "                                          binary_model=False))"
   ]
  },
  {
   "cell_type": "markdown",
   "metadata": {},
   "source": [
    "# Accuracy per class"
   ]
  },
  {
   "cell_type": "code",
   "execution_count": 74,
   "metadata": {},
   "outputs": [],
   "source": [
    "d_AID = {}\n",
    "d_AID_TEST = {}\n",
    "\n",
    "for e in test_loader:\n",
    "    features = e[\"features\"]\n",
    "    label    = e[\"label\"]\n",
    "    gen      = e[\"generator\"]\n",
    "\n",
    "for key in GEN_TO_GEN:\n",
    "    d_AID[key] = {\n",
    "        \"features\": features[gen == GEN_TO_INT[key]],\n",
    "        \"label\": label[gen == GEN_TO_INT[key]]\n",
    "    }\n",
    "    d_AID_TEST[key] = {\n",
    "        \"features\": data_test.features[data_test.gen == GEN_TO_INT[key]],\n",
    "        \"label\"   : data_test.label[data_test.gen == GEN_TO_INT[key]]}"
   ]
  },
  {
   "cell_type": "code",
   "execution_count": 77,
   "metadata": {},
   "outputs": [
    {
     "data": {
      "text/plain": [
       "tensor([17000,  3000,  2000,  1000,  1000,  1000,  1000,  1000,  1000,  1000,\n",
       "         1000,  1000,  2000,     0,     0,  1000])"
      ]
     },
     "execution_count": 77,
     "metadata": {},
     "output_type": "execute_result"
    }
   ],
   "source": [
    "torch.bincount(data.gen)"
   ]
  },
  {
   "cell_type": "code",
   "execution_count": 79,
   "metadata": {},
   "outputs": [
    {
     "data": {
      "text/plain": [
       "tensor([30000,  6000,  3000,  2000,  2000,  1000,  1000,  1000,  1000,  1000,\n",
       "         1000,  3000,  4000,  1000,  1000,  2000], device='cuda:0')"
      ]
     },
     "execution_count": 79,
     "metadata": {},
     "output_type": "execute_result"
    }
   ],
   "source": [
    "torch.bincount(data_test.gen.int())"
   ]
  },
  {
   "cell_type": "code",
   "execution_count": 81,
   "metadata": {},
   "outputs": [
    {
     "data": {
      "text/plain": [
       "'binary accuracy on test from AID:'"
      ]
     },
     "metadata": {},
     "output_type": "display_data"
    },
    {
     "data": {
      "text/plain": [
       "{'null': 0.9822364449501038,\n",
       " 'Stable diffusion': 0.9640522599220276,\n",
       " 'Kandisky': 0.9897435903549194,\n",
       " 'DF_XL': 0.9519230723381042,\n",
       " 'dreamlike': 0.9402984976768494,\n",
       " 'gigaGan': 0.8612716794013977,\n",
       " 'GlideUP': 0.9902912378311157,\n",
       " 'LafitteUP': 0.9952830076217651,\n",
       " 'LCM_Dreamshaper': 0.994535505771637,\n",
       " 'megaDallEUP': 0.9892473220825195,\n",
       " 'miniDallEUP': 0.9948186278343201,\n",
       " 'pixart': 0.9947368502616882,\n",
       " 'playground': 0.9410377144813538,\n",
       " 'styleGan2': nan,\n",
       " 'styleGan3': nan,\n",
       " 'animagineXL': 0.9893617033958435}"
      ]
     },
     "metadata": {},
     "output_type": "display_data"
    },
    {
     "data": {
      "text/plain": [
       "'binary accuracy on AID_TEST:     '"
      ]
     },
     "metadata": {},
     "output_type": "display_data"
    },
    {
     "data": {
      "text/plain": [
       "{'null': 0.562666654586792,\n",
       " 'Stable diffusion': 0.9446666836738586,\n",
       " 'Kandisky': 0.8793333172798157,\n",
       " 'DF_XL': 0.8870000243186951,\n",
       " 'dreamlike': 0.7275000214576721,\n",
       " 'gigaGan': 0.8100000023841858,\n",
       " 'GlideUP': 0.9940000176429749,\n",
       " 'LafitteUP': 0.9980000257492065,\n",
       " 'LCM_Dreamshaper': 0.9800000190734863,\n",
       " 'megaDallEUP': 0.9909999966621399,\n",
       " 'miniDallEUP': 0.9929999709129333,\n",
       " 'pixart': 0.890666663646698,\n",
       " 'playground': 0.8812500238418579,\n",
       " 'styleGan2': 0.7480000257492065,\n",
       " 'styleGan3': 0.6819999814033508,\n",
       " 'animagineXL': 0.9884999990463257}"
      ]
     },
     "metadata": {},
     "output_type": "display_data"
    },
    {
     "data": {
      "text/plain": [
       "'multi-class accuracy on test from AID:'"
      ]
     },
     "metadata": {},
     "output_type": "display_data"
    },
    {
     "data": {
      "text/plain": [
       "{'null': 0.9822364449501038,\n",
       " 'Stable diffusion': 0.8235294222831726,\n",
       " 'Kandisky': 0.8487179279327393,\n",
       " 'DF_XL': 0.870192289352417,\n",
       " 'dreamlike': 0.6368159055709839,\n",
       " 'gigaGan': 0.7398843765258789,\n",
       " 'GlideUP': 0.9368932247161865,\n",
       " 'LafitteUP': 0.9905660152435303,\n",
       " 'LCM_Dreamshaper': 0.9234972596168518,\n",
       " 'megaDallEUP': 0.8655914068222046,\n",
       " 'miniDallEUP': 0.9430052042007446,\n",
       " 'pixart': 0.699999988079071,\n",
       " 'playground': 0.7429245114326477,\n",
       " 'styleGan2': nan,\n",
       " 'styleGan3': nan,\n",
       " 'animagineXL': 0.9042553305625916}"
      ]
     },
     "metadata": {},
     "output_type": "display_data"
    },
    {
     "data": {
      "text/plain": [
       "'multi-class accuracy on AID_TEST:'"
      ]
     },
     "metadata": {},
     "output_type": "display_data"
    },
    {
     "data": {
      "text/plain": [
       "{'null': 0.562666654586792,\n",
       " 'Stable diffusion': 0.6356666684150696,\n",
       " 'Kandisky': 0.6086666584014893,\n",
       " 'DF_XL': 0.07699999958276749,\n",
       " 'dreamlike': 0.09099999815225601,\n",
       " 'gigaGan': 0.2809999883174896,\n",
       " 'GlideUP': 0.9430000185966492,\n",
       " 'LafitteUP': 0.9950000047683716,\n",
       " 'LCM_Dreamshaper': 0.8920000195503235,\n",
       " 'megaDallEUP': 0.9100000262260437,\n",
       " 'miniDallEUP': 0.9169999957084656,\n",
       " 'pixart': 0.07599999755620956,\n",
       " 'playground': 0.10724999755620956,\n",
       " 'styleGan2': 0.0,\n",
       " 'styleGan3': 0.0,\n",
       " 'animagineXL': 0.4230000078678131}"
      ]
     },
     "metadata": {},
     "output_type": "display_data"
    }
   ],
   "source": [
    "accuracy_AID = {\"binary\":{},\"multi\":{}} # accuracy on the test data from the same folder as training data\n",
    "accuracy_AID_TEST = {\"binary\":{},\"multi\":{}} # accuracy on data from AID_TEST (can be seen as OOD)\n",
    "for g in d_AID:\n",
    "    with torch.no_grad():\n",
    "        accuracy_AID[\"binary\"][g] = \\\n",
    "            model.get_model_accuracy_binary(d_AID[g][\"features\"],\n",
    "                                            d_AID[g][\"label\"],\n",
    "                                            \"cpu\",\n",
    "                                            binary_model=False)\n",
    "        \n",
    "        accuracy_AID[\"multi\"][g] = \\\n",
    "            model.get_model_accuracy_multiclass(\n",
    "                d_AID[g][\"features\"],\n",
    "                torch.ones_like(d_AID[g][\"label\"]) * GEN_TO_INT[g],\n",
    "                \"cpu\")\n",
    "\n",
    "        accuracy_AID_TEST[\"binary\"][g] = \\\n",
    "            model.get_model_accuracy_binary(d_AID_TEST[g][\"features\"],\n",
    "                                            d_AID_TEST[g][\"label\"],\n",
    "                                            \"cpu\",\n",
    "                                            binary_model=False)\n",
    "        \n",
    "        accuracy_AID_TEST[\"multi\"][g] = \\\n",
    "            model.get_model_accuracy_multiclass(\n",
    "                d_AID_TEST[g][\"features\"],\n",
    "                torch.ones_like(d_AID_TEST[g][\"label\"]) * GEN_TO_INT[g],\n",
    "                \"cpu\")\n",
    "\n",
    "display(\"binary accuracy on test from AID:\",accuracy_AID[\"binary\"])\n",
    "display(\"binary accuracy on AID_TEST:     \",accuracy_AID_TEST[\"binary\"])\n",
    "display(\"multi-class accuracy on test from AID:\",accuracy_AID[\"multi\"])        \n",
    "display(\"multi-class accuracy on AID_TEST:\",accuracy_AID_TEST[\"multi\"])        "
   ]
  },
  {
   "cell_type": "markdown",
   "metadata": {},
   "source": [
    "# Binary classifier"
   ]
  },
  {
   "cell_type": "markdown",
   "metadata": {},
   "source": [
    "### Performance of binary classifier on pair dataset"
   ]
  },
  {
   "cell_type": "code",
   "execution_count": 74,
   "metadata": {},
   "outputs": [
    {
     "name": "stdout",
     "output_type": "stream",
     "text": [
      "0.899082601070404\n"
     ]
    }
   ],
   "source": [
    "device = \"cuda:0\"\n",
    "\n",
    "model = MultiClassClassifier(n_classes=2).to(device=device)\n",
    "model.eval()\n",
    "model.load_state_dict(torch.load(\"./checkpoints/binary_epochs=1000_loss=0.04426886886358261_filtered.pt\"))\n",
    "\n",
    "lr = 1e-3\n",
    "batch_size = 64\n",
    "epochs = 5\n",
    "\n",
    "loss_fn = nn.CrossEntropyLoss()\n",
    "optimizer = torch.optim.SGD(model.parameters(), lr=lr)\n",
    "\n",
    "data = RealFakePairs(load_from_disk=True,path=\"/data4/saland/data/real_fake_pairs_1090.pt\",device=\"cuda:0\")\n",
    "\n",
    "with torch.no_grad():\n",
    "    acc = model.get_model_accuracy_binary(features=data.features,\n",
    "                                           true_labels=data.label,\n",
    "                                           device=device,\n",
    "                                           binary_model=True)\n",
    "print(acc)"
   ]
  },
  {
   "cell_type": "markdown",
   "metadata": {},
   "source": [
    "### Train on 800 pairs and test on 200"
   ]
  },
  {
   "cell_type": "code",
   "execution_count": 205,
   "metadata": {},
   "outputs": [],
   "source": [
    "device = \"cuda:1\"\n",
    "model = MultiClassClassifier(n_classes=2,n_features=CLIP_FEATURE_DIM).to(device=device)\n",
    "model_double = MultiClassClassifier(n_classes=2,n_features=CLIP_FEATURE_DIM*2).to(device=device)\n",
    "model_diff = MultiClassClassifier(n_classes=2,n_features=CLIP_FEATURE_DIM).to(device=device)\n",
    "model.train()\n",
    "model_double.train()\n",
    "model_diff.train()\n",
    "# model.load_state_dict(torch.load(\"./checkpoints/binary_epochs=1000_loss=0.02289319783449173.pt\"))\n",
    "\n",
    "lr = 1e-3\n",
    "batch_size = 64\n",
    "n_epochs = 1000\n",
    "\n",
    "loss_fn = nn.CrossEntropyLoss()\n",
    "optimizer = torch.optim.SGD(model.parameters(), lr=lr)\n",
    "optimizer2 = torch.optim.SGD(model_double.parameters(), lr=lr)\n",
    "optimizer3 = torch.optim.SGD(model_diff.parameters(), lr=lr)\n",
    "\n",
    "rng = torch.Generator().manual_seed(SEED)\n",
    "\n",
    "data = DoubleCLIP(load_from_disk=True,path_to_datset=\"/data4/saland/data/Double_CLIP_2000.pt\")\n",
    "train_data, test_data = random_split(data,[0.2,0.8],generator=rng)\n",
    "\n",
    "train_loader = DataLoader(train_data,batch_size=64,shuffle=True)\n",
    "test_loader = DataLoader(test_data,batch_size=len(test_data))"
   ]
  },
  {
   "cell_type": "code",
   "execution_count": 181,
   "metadata": {},
   "outputs": [
    {
     "name": "stdout",
     "output_type": "stream",
     "text": [
      "loss: 0.583756  [   10/ 1000]\n",
      "loss: 0.539579  [   20/ 1000]\n",
      "loss: 0.438721  [   30/ 1000]\n",
      "loss: 0.416519  [   40/ 1000]\n",
      "loss: 0.408712  [   50/ 1000]\n",
      "loss: 0.309370  [   60/ 1000]\n",
      "loss: 0.267908  [   70/ 1000]\n",
      "loss: 0.294130  [   80/ 1000]\n",
      "loss: 0.225140  [   90/ 1000]\n",
      "loss: 0.182545  [  100/ 1000]\n",
      "loss: 0.256157  [  110/ 1000]\n",
      "loss: 0.158156  [  120/ 1000]\n",
      "loss: 0.207466  [  130/ 1000]\n",
      "loss: 0.209256  [  140/ 1000]\n",
      "loss: 0.140768  [  150/ 1000]\n",
      "loss: 0.068818  [  160/ 1000]\n",
      "loss: 0.142247  [  170/ 1000]\n",
      "loss: 0.119114  [  180/ 1000]\n",
      "loss: 0.068986  [  190/ 1000]\n",
      "loss: 0.068263  [  200/ 1000]\n",
      "loss: 0.112906  [  210/ 1000]\n",
      "loss: 0.071339  [  220/ 1000]\n",
      "loss: 0.076113  [  230/ 1000]\n",
      "loss: 0.060360  [  240/ 1000]\n",
      "loss: 0.039138  [  250/ 1000]\n",
      "loss: 0.081971  [  260/ 1000]\n",
      "loss: 0.039457  [  270/ 1000]\n",
      "loss: 0.039661  [  280/ 1000]\n",
      "loss: 0.092106  [  290/ 1000]\n",
      "loss: 0.042148  [  300/ 1000]\n",
      "loss: 0.029439  [  310/ 1000]\n",
      "loss: 0.053061  [  320/ 1000]\n",
      "loss: 0.054157  [  330/ 1000]\n",
      "loss: 0.076776  [  340/ 1000]\n",
      "loss: 0.018342  [  350/ 1000]\n",
      "loss: 0.040988  [  360/ 1000]\n",
      "loss: 0.020522  [  370/ 1000]\n",
      "loss: 0.066546  [  380/ 1000]\n",
      "loss: 0.019537  [  390/ 1000]\n",
      "loss: 0.027696  [  400/ 1000]\n",
      "loss: 0.049153  [  410/ 1000]\n",
      "loss: 0.030431  [  420/ 1000]\n",
      "loss: 0.014990  [  430/ 1000]\n",
      "loss: 0.030045  [  440/ 1000]\n",
      "loss: 0.022594  [  450/ 1000]\n",
      "loss: 0.038213  [  460/ 1000]\n",
      "loss: 0.017799  [  470/ 1000]\n",
      "loss: 0.029900  [  480/ 1000]\n",
      "loss: 0.030164  [  490/ 1000]\n",
      "loss: 0.036720  [  500/ 1000]\n",
      "loss: 0.034103  [  510/ 1000]\n",
      "loss: 0.020227  [  520/ 1000]\n",
      "loss: 0.020237  [  530/ 1000]\n",
      "loss: 0.023274  [  540/ 1000]\n",
      "loss: 0.028910  [  550/ 1000]\n",
      "loss: 0.042629  [  560/ 1000]\n",
      "loss: 0.025856  [  570/ 1000]\n",
      "loss: 0.030912  [  580/ 1000]\n",
      "loss: 0.017213  [  590/ 1000]\n",
      "loss: 0.026246  [  600/ 1000]\n",
      "loss: 0.029192  [  610/ 1000]\n",
      "loss: 0.019026  [  620/ 1000]\n",
      "loss: 0.015804  [  630/ 1000]\n",
      "loss: 0.014834  [  640/ 1000]\n",
      "loss: 0.011729  [  650/ 1000]\n",
      "loss: 0.007162  [  660/ 1000]\n",
      "loss: 0.012345  [  670/ 1000]\n",
      "loss: 0.006837  [  680/ 1000]\n",
      "loss: 0.015054  [  690/ 1000]\n",
      "loss: 0.019335  [  700/ 1000]\n",
      "loss: 0.012731  [  710/ 1000]\n",
      "loss: 0.021826  [  720/ 1000]\n",
      "loss: 0.025399  [  730/ 1000]\n",
      "loss: 0.032711  [  740/ 1000]\n",
      "loss: 0.021752  [  750/ 1000]\n",
      "loss: 0.015446  [  760/ 1000]\n",
      "loss: 0.006741  [  770/ 1000]\n",
      "loss: 0.019202  [  780/ 1000]\n",
      "loss: 0.025521  [  790/ 1000]\n",
      "loss: 0.011189  [  800/ 1000]\n",
      "loss: 0.023951  [  810/ 1000]\n",
      "loss: 0.011295  [  820/ 1000]\n",
      "loss: 0.012027  [  830/ 1000]\n",
      "loss: 0.015748  [  840/ 1000]\n",
      "loss: 0.015332  [  850/ 1000]\n",
      "loss: 0.021128  [  860/ 1000]\n",
      "loss: 0.022317  [  870/ 1000]\n",
      "loss: 0.017479  [  880/ 1000]\n",
      "loss: 0.010099  [  890/ 1000]\n",
      "loss: 0.012004  [  900/ 1000]\n",
      "loss: 0.015814  [  910/ 1000]\n",
      "loss: 0.010053  [  920/ 1000]\n",
      "loss: 0.011627  [  930/ 1000]\n",
      "loss: 0.015007  [  940/ 1000]\n",
      "loss: 0.021446  [  950/ 1000]\n",
      "loss: 0.011118  [  960/ 1000]\n",
      "loss: 0.007925  [  970/ 1000]\n",
      "loss: 0.013390  [  980/ 1000]\n",
      "loss: 0.016757  [  990/ 1000]\n",
      "loss: 0.012903  [ 1000/ 1000]\n"
     ]
    }
   ],
   "source": [
    "loss_history = []\n",
    "for epoch in range(1,n_epochs+1):\n",
    "    for idx, batch in enumerate(train_loader):\n",
    "        # prediction and loss\n",
    "        pred = model(batch[\"features\"][:,:CLIP_FEATURE_DIM].to(device))\n",
    "        loss = loss_fn(pred,batch[\"label\"].type(torch.LongTensor).to(device))\n",
    "\n",
    "        # backpropagation\n",
    "        loss.backward()\n",
    "        optimizer.step()\n",
    "        optimizer.zero_grad()\n",
    "        \n",
    "    loss, current = loss.item(), idx*batch_size + len(batch[\"features\"])\n",
    "    if epoch%10 == 0 and epoch > 0:\n",
    "        loss_history.append(loss)\n",
    "        print(f\"loss: {loss:>7f}  [{epoch:>5d}/{n_epochs:>5d}]\")"
   ]
  },
  {
   "cell_type": "code",
   "execution_count": 182,
   "metadata": {},
   "outputs": [
    {
     "data": {
      "image/png": "[encoded data removed]",
      "text/plain": [
       "<Figure size 500x300 with 1 Axes>"
      ]
     },
     "metadata": {},
     "output_type": "display_data"
    }
   ],
   "source": [
    "fig= plt.figure(figsize=(5,3))\n",
    "plt.title(\"loss\")\n",
    "plt.plot(range(1,n_epochs+1,10),loss_history) \n",
    "plt.show()"
   ]
  },
  {
   "cell_type": "code",
   "execution_count": 183,
   "metadata": {},
   "outputs": [
    {
     "name": "stdout",
     "output_type": "stream",
     "text": [
      "n_train: 400\n",
      "n_test: 1600\n",
      "0.9906249642372131\n"
     ]
    }
   ],
   "source": [
    "model.eval()\n",
    "with torch.no_grad():\n",
    "    for e in test_loader:\n",
    "        print(\"n_train:\",len(train_data))\n",
    "        print(\"n_test:\",len(test_data))\n",
    "        acc = model.get_model_accuracy_binary(e[\"features\"][:,:CLIP_FEATURE_DIM],e[\"label\"],device,True)\n",
    "\n",
    "print(acc)\n",
    "accuracy_768_features = acc"
   ]
  },
  {
   "cell_type": "markdown",
   "metadata": {},
   "source": [
    "### Train on concatenated version of CLIP features"
   ]
  },
  {
   "cell_type": "code",
   "execution_count": 185,
   "metadata": {},
   "outputs": [
    {
     "data": {
      "image/png": "[encoded data removed]",
      "text/plain": [
       "<Figure size 500x300 with 1 Axes>"
      ]
     },
     "metadata": {},
     "output_type": "display_data"
    }
   ],
   "source": [
    "fig= plt.figure(figsize=(5,3))\n",
    "plt.title(\"loss\")\n",
    "plt.plot(range(1,n_epochs+1,10),loss_history) \n",
    "plt.show()"
   ]
  },
  {
   "cell_type": "code",
   "execution_count": 186,
   "metadata": {},
   "outputs": [
    {
     "name": "stdout",
     "output_type": "stream",
     "text": [
      "n_train: 400\n",
      "n_test: 1600\n",
      "Accuracy 768 CLIP features:    0.9906249642372131\n",
      "Accuracy double CLIP features: 0.9899999499320984\n"
     ]
    }
   ],
   "source": [
    "model.eval()\n",
    "with torch.no_grad():\n",
    "    for e in test_loader:\n",
    "        acc = model_double.get_model_accuracy_binary(e[\"features\"],e[\"label\"],device,True)\n",
    "\n",
    "print(\"n_train:\",len(train_data))\n",
    "print(\"n_test:\",len(test_data))\n",
    "print(\"Accuracy 768 CLIP features:   \",accuracy_768_features)\n",
    "print(\"Accuracy double CLIP features:\",acc)"
   ]
  },
  {
   "cell_type": "markdown",
   "metadata": {},
   "source": [
    "Looking at the weights associated to each CLIP features (original and generated image)"
   ]
  },
  {
   "cell_type": "code",
   "execution_count": 194,
   "metadata": {},
   "outputs": [
    {
     "data": {
      "text/plain": [
       "10058.380859375"
      ]
     },
     "execution_count": 194,
     "metadata": {},
     "output_type": "execute_result"
    }
   ],
   "source": [
    "torch.sum(torch.abs(model_double.fc1.weight[:768])).item()"
   ]
  },
  {
   "cell_type": "code",
   "execution_count": 200,
   "metadata": {},
   "outputs": [
    {
     "data": {
      "text/plain": [
       "5020.86669921875"
      ]
     },
     "execution_count": 200,
     "metadata": {},
     "output_type": "execute_result"
    }
   ],
   "source": [
    "torch.sum(torch.abs(model_double.fc1.weight[:,768:])).item()"
   ]
  },
  {
   "cell_type": "markdown",
   "metadata": {},
   "source": [
    "### Train on the difference between the 2 CLIP vectors"
   ]
  },
  {
   "cell_type": "code",
   "execution_count": null,
   "metadata": {},
   "outputs": [],
   "source": [
    "loss_history = []\n",
    "for epoch in range(1,n_epochs+1):\n",
    "    for idx, batch in enumerate(train_loader):\n",
    "        # prediction and loss\n",
    "        pred = model_diff((batch[\"features\"][:,:CLIP_FEATURE_DIM] - batch[\"features\"][:,CLIP_FEATURE_DIM:]).to(device))\n",
    "        loss = loss_fn(pred,batch[\"label\"].type(torch.LongTensor).to(device))\n",
    "\n",
    "        # backpropagation\n",
    "        loss.backward()\n",
    "        optimizer3.step()\n",
    "        optimizer3.zero_grad()\n",
    "        \n",
    "    loss, current = loss.item(), idx*batch_size + len(batch[\"features\"])\n",
    "    if epoch%10 == 0 and epoch > 0:\n",
    "        loss_history.append(loss)\n",
    "        print(f\"loss: {loss:>7f}  [{epoch:>5d}/{n_epochs:>5d}]\")"
   ]
  },
  {
   "cell_type": "code",
   "execution_count": 207,
   "metadata": {},
   "outputs": [
    {
     "name": "stdout",
     "output_type": "stream",
     "text": [
      "n_train: 400\n",
      "n_test: 1600\n",
      "Accuracy 768 CLIP features:        0.9906249642372131\n",
      "Accuracy double CLIP features:     0.9899999499320984\n",
      "Accuracy difference CLIP features: 0.9300000071525574\n"
     ]
    }
   ],
   "source": [
    "model.eval()\n",
    "with torch.no_grad():\n",
    "    for e in test_loader:\n",
    "        acc_diff = model_diff.get_model_accuracy_binary((e[\"features\"][:,:CLIP_FEATURE_DIM] - e[\"features\"][:,CLIP_FEATURE_DIM:]),e[\"label\"],device,True)\n",
    "\n",
    "print(\"n_train:\",len(train_data))\n",
    "print(\"n_test:\",len(test_data))\n",
    "print(\"Accuracy 768 CLIP features:       \",accuracy_768_features)\n",
    "print(\"Accuracy double CLIP features:    \",acc)\n",
    "print(\"Accuracy difference CLIP features:\",acc_diff)"
   ]
  },
  {
   "cell_type": "markdown",
   "metadata": {},
   "source": [
    "## Test on OOD of model trained on AID and fine-tuned on real/fake pairs"
   ]
  },
  {
   "cell_type": "code",
   "execution_count": 141,
   "metadata": {},
   "outputs": [
    {
     "name": "stderr",
     "output_type": "stream",
     "text": [
      "Loading pipeline components...: 100%|██████████| 7/7 [00:02<00:00,  2.95it/s]\n"
     ]
    },
    {
     "data": {
      "text/plain": [
       "MultiClassClassifier(\n",
       "  (fc1): Linear(in_features=768, out_features=512, bias=True)\n",
       "  (fc2): Linear(in_features=512, out_features=2, bias=True)\n",
       "  (act): ReLU()\n",
       ")"
      ]
     },
     "execution_count": 141,
     "metadata": {},
     "output_type": "execute_result"
    }
   ],
   "source": [
    "device = \"cuda:1\"\n",
    "path_no_fine_tune = \"checkpoints/binary_epochs=1000_loss=0.04426886886358261_filtered.pt\"\n",
    "model = MultiClassClassifier(n_classes=2).to(device)\n",
    "model.load_state_dict(torch.load(path_no_fine_tune))\n",
    "model.eval()"
   ]
  },
  {
   "cell_type": "code",
   "execution_count": 142,
   "metadata": {},
   "outputs": [
    {
     "name": "stderr",
     "output_type": "stream",
     "text": [
      "filtering: 100%|██████████| 5/5 [00:00<00:00, 2982.72it/s]"
     ]
    },
    {
     "name": "stdout",
     "output_type": "stream",
     "text": [
      "accuracy of model on OOD before fine-tuning on real/fake pairs: 0.8280000686645508\n"
     ]
    },
    {
     "name": "stderr",
     "output_type": "stream",
     "text": [
      "\n"
     ]
    }
   ],
   "source": [
    "data_test = OOD(\"/data4/saland/data/ood.pt\",\n",
    "                load_preprocessed=True,\n",
    "                device=device,\n",
    "                remove_blacklisted_gen=True)\n",
    "\n",
    "acc = model.get_model_accuracy_binary(data_test.features,data_test.label,device,binary_model=True)\n",
    "print(\"accuracy of model on OOD before fine-tuning on real/fake pairs:\",acc)"
   ]
  },
  {
   "cell_type": "code",
   "execution_count": 136,
   "metadata": {},
   "outputs": [
    {
     "data": {
      "text/plain": [
       "tensor([100, 100, 100, 100, 100], device='cuda:1')"
      ]
     },
     "execution_count": 136,
     "metadata": {},
     "output_type": "execute_result"
    }
   ],
   "source": [
    "torch.bincount(data_test.gen.int())"
   ]
  },
  {
   "cell_type": "code",
   "execution_count": 143,
   "metadata": {},
   "outputs": [
    {
     "data": {
      "text/plain": [
       "{'null': 0.85999995470047,\n",
       " 'Lexica': 0.699999988079071,\n",
       " 'Ideogram': 0.7899999618530273,\n",
       " 'Leonardo': 0.8100000023841858,\n",
       " 'Copilot': 0.9799999594688416,\n",
       " 'img2img_SD1.5': nan,\n",
       " 'Photoshop_generativemagnification': nan,\n",
       " 'Photoshop_generativefill': nan}"
      ]
     },
     "metadata": {},
     "output_type": "display_data"
    }
   ],
   "source": [
    "accuracy = {}\n",
    "for gen in GEN_TO_INT_OOD:\n",
    "    mask = data_test.gen == GEN_TO_INT_OOD[gen]\n",
    "    accuracy[gen] = model.get_model_accuracy_binary(data_test.features[mask],data_test.label[mask],device=device, binary_model=True)\n",
    "display(accuracy)"
   ]
  },
  {
   "cell_type": "markdown",
   "metadata": {},
   "source": [
    "### Fine-tuning on real/fake pairs"
   ]
  },
  {
   "cell_type": "code",
   "execution_count": 138,
   "metadata": {},
   "outputs": [
    {
     "name": "stdout",
     "output_type": "stream",
     "text": [
      "shuffling features\n",
      "shuffling label\n"
     ]
    }
   ],
   "source": [
    "lr = 1e-3\n",
    "batch_size = 32\n",
    "n_epochs = 1000\n",
    "n_imgs = 100\n",
    "\n",
    "loss_fn = nn.CrossEntropyLoss()\n",
    "optimizer = torch.optim.SGD(model.parameters(), lr=lr)\n",
    "\n",
    "model.train()\n",
    "rng = torch.Generator().manual_seed(SEED)\n",
    "data = RealFakePairs(load_from_disk=True,path=\"/data4/saland/data/real_fake_pairs_1090.pt\")\n",
    "data_shuffled = shuffle_data(data,in_place=False,seed=SEED)\n",
    "data_slice = select_slice(data_shuffled,n_imgs)\n",
    "train_loader = DataLoader(data_slice,batch_size=batch_size,shuffle=True,generator=rng)"
   ]
  },
  {
   "cell_type": "code",
   "execution_count": 139,
   "metadata": {},
   "outputs": [
    {
     "name": "stdout",
     "output_type": "stream",
     "text": [
      "loss: 0.648602  [   10/ 1000]\n",
      "loss: 0.568120  [   20/ 1000]\n",
      "loss: 0.567317  [   30/ 1000]\n",
      "loss: 0.617613  [   40/ 1000]\n",
      "loss: 0.420520  [   50/ 1000]\n",
      "loss: 0.367580  [   60/ 1000]\n",
      "loss: 0.376093  [   70/ 1000]\n",
      "loss: 0.382430  [   80/ 1000]\n",
      "loss: 0.233814  [   90/ 1000]\n",
      "loss: 0.345064  [  100/ 1000]\n",
      "loss: 0.265198  [  110/ 1000]\n",
      "loss: 0.183815  [  120/ 1000]\n",
      "loss: 0.158704  [  130/ 1000]\n",
      "loss: 0.241281  [  140/ 1000]\n",
      "loss: 0.223197  [  150/ 1000]\n",
      "loss: 0.236249  [  160/ 1000]\n",
      "loss: 0.166535  [  170/ 1000]\n",
      "loss: 0.147699  [  180/ 1000]\n",
      "loss: 0.159505  [  190/ 1000]\n",
      "loss: 0.104365  [  200/ 1000]\n",
      "loss: 0.119927  [  210/ 1000]\n",
      "loss: 0.132870  [  220/ 1000]\n",
      "loss: 0.085604  [  230/ 1000]\n",
      "loss: 0.102017  [  240/ 1000]\n",
      "loss: 0.054877  [  250/ 1000]\n",
      "loss: 0.060638  [  260/ 1000]\n",
      "loss: 0.076238  [  270/ 1000]\n",
      "loss: 0.093681  [  280/ 1000]\n",
      "loss: 0.071183  [  290/ 1000]\n",
      "loss: 0.049570  [  300/ 1000]\n",
      "loss: 0.077595  [  310/ 1000]\n",
      "loss: 0.142943  [  320/ 1000]\n",
      "loss: 0.031797  [  330/ 1000]\n",
      "loss: 0.053163  [  340/ 1000]\n",
      "loss: 0.062460  [  350/ 1000]\n",
      "loss: 0.073654  [  360/ 1000]\n",
      "loss: 0.030702  [  370/ 1000]\n",
      "loss: 0.031895  [  380/ 1000]\n",
      "loss: 0.048693  [  390/ 1000]\n",
      "loss: 0.028523  [  400/ 1000]\n",
      "loss: 0.055153  [  410/ 1000]\n",
      "loss: 0.034302  [  420/ 1000]\n",
      "loss: 0.033053  [  430/ 1000]\n",
      "loss: 0.037271  [  440/ 1000]\n",
      "loss: 0.036634  [  450/ 1000]\n",
      "loss: 0.068536  [  460/ 1000]\n",
      "loss: 0.038766  [  470/ 1000]\n",
      "loss: 0.019831  [  480/ 1000]\n",
      "loss: 0.055756  [  490/ 1000]\n",
      "loss: 0.041419  [  500/ 1000]\n",
      "loss: 0.032802  [  510/ 1000]\n",
      "loss: 0.022648  [  520/ 1000]\n",
      "loss: 0.015947  [  530/ 1000]\n",
      "loss: 0.056358  [  540/ 1000]\n",
      "loss: 0.051124  [  550/ 1000]\n",
      "loss: 0.027787  [  560/ 1000]\n",
      "loss: 0.024908  [  570/ 1000]\n",
      "loss: 0.063908  [  580/ 1000]\n",
      "loss: 0.015396  [  590/ 1000]\n",
      "loss: 0.039129  [  600/ 1000]\n",
      "loss: 0.011725  [  610/ 1000]\n",
      "loss: 0.027839  [  620/ 1000]\n",
      "loss: 0.046101  [  630/ 1000]\n",
      "loss: 0.046641  [  640/ 1000]\n",
      "loss: 0.052139  [  650/ 1000]\n",
      "loss: 0.034220  [  660/ 1000]\n",
      "loss: 0.027134  [  670/ 1000]\n",
      "loss: 0.022907  [  680/ 1000]\n",
      "loss: 0.010623  [  690/ 1000]\n",
      "loss: 0.035484  [  700/ 1000]\n",
      "loss: 0.013988  [  710/ 1000]\n",
      "loss: 0.011439  [  720/ 1000]\n",
      "loss: 0.008745  [  730/ 1000]\n",
      "loss: 0.038446  [  740/ 1000]\n",
      "loss: 0.011897  [  750/ 1000]\n",
      "loss: 0.009231  [  760/ 1000]\n",
      "loss: 0.026995  [  770/ 1000]\n",
      "loss: 0.009816  [  780/ 1000]\n",
      "loss: 0.017916  [  790/ 1000]\n",
      "loss: 0.027710  [  800/ 1000]\n",
      "loss: 0.007724  [  810/ 1000]\n",
      "loss: 0.016254  [  820/ 1000]\n",
      "loss: 0.015668  [  830/ 1000]\n",
      "loss: 0.019503  [  840/ 1000]\n",
      "loss: 0.005144  [  850/ 1000]\n",
      "loss: 0.013432  [  860/ 1000]\n",
      "loss: 0.014530  [  870/ 1000]\n",
      "loss: 0.003654  [  880/ 1000]\n",
      "loss: 0.039450  [  890/ 1000]\n",
      "loss: 0.007473  [  900/ 1000]\n",
      "loss: 0.012986  [  910/ 1000]\n",
      "loss: 0.015741  [  920/ 1000]\n",
      "loss: 0.023200  [  930/ 1000]\n",
      "loss: 0.016599  [  940/ 1000]\n",
      "loss: 0.006802  [  950/ 1000]\n",
      "loss: 0.011170  [  960/ 1000]\n",
      "loss: 0.006867  [  970/ 1000]\n",
      "loss: 0.008278  [  980/ 1000]\n",
      "loss: 0.018037  [  990/ 1000]\n",
      "loss: 0.019782  [ 1000/ 1000]\n"
     ]
    }
   ],
   "source": [
    "loss_history = []\n",
    "for epoch in range(1,n_epochs+1):\n",
    "    for idx, batch in enumerate(train_loader):\n",
    "        # prediction and loss\n",
    "        pred = model((batch[\"features\"]).to(device))\n",
    "        loss = loss_fn(pred,batch[\"label\"].type(torch.LongTensor).to(device))\n",
    "\n",
    "        # backpropagation\n",
    "        loss.backward()\n",
    "        optimizer.step()\n",
    "        optimizer.zero_grad()\n",
    "        \n",
    "    loss, current = loss.item(), idx*batch_size + len(batch[\"features\"])\n",
    "    if epoch%10 == 0 and epoch > 0:\n",
    "        loss_history.append(loss)\n",
    "        print(f\"loss: {loss:>7f}  [{epoch:>5d}/{n_epochs:>5d}]\")"
   ]
  },
  {
   "cell_type": "code",
   "execution_count": 140,
   "metadata": {},
   "outputs": [
    {
     "name": "stdout",
     "output_type": "stream",
     "text": [
      "accuracy of the model on OOD after fine-tuning: 0.7520000338554382\n"
     ]
    }
   ],
   "source": [
    "model.eval()\n",
    "acc = model.get_model_accuracy_binary(data_test.features,data_test.label,device,True)\n",
    "print(\"accuracy of the model on OOD after fine-tuning:\",acc)"
   ]
  },
  {
   "cell_type": "code",
   "execution_count": 86,
   "metadata": {},
   "outputs": [],
   "source": [
    "path_fine_tune = f\"./checkpoints/binary_train_AID_fine_tune_pairs_loss={loss}.pt\"\n",
    "# torch.save(model.state_dict(),path_fine_tune)"
   ]
  },
  {
   "cell_type": "code",
   "execution_count": 48,
   "metadata": {},
   "outputs": [
    {
     "name": "stdout",
     "output_type": "stream",
     "text": [
      "accuracy of the model on OOD after fine-tuning (from checkpoint): 0.800000011920929\n"
     ]
    }
   ],
   "source": [
    "model_fine_tuned = MultiClassClassifier(n_classes=2).to(device)\n",
    "model_fine_tuned.load_state_dict(torch.load(\"./checkpoints/binary_train_AID_fine_tune_pairs_loss=0.000141876342240721.pt\"))\n",
    "model_fine_tuned.eval()\n",
    "acc = model_fine_tuned.get_model_accuracy_binary(data_test.features,data_test.label,device,True)\n",
    "print(\"accuracy of the model on OOD after fine-tuning (from checkpoint):\",acc)"
   ]
  },
  {
   "cell_type": "code",
   "execution_count": 125,
   "metadata": {},
   "outputs": [
    {
     "data": {
      "text/plain": [
       "{'null': 0.9399999976158142,\n",
       " 'Lexica': 0.6200000047683716,\n",
       " 'Ideogram': 0.7599999904632568,\n",
       " 'Leonardo': 0.75,\n",
       " 'Copilot': 0.9699999690055847,\n",
       " 'img2img_SD1.5': nan,\n",
       " 'Photoshop_generativemagnification': nan,\n",
       " 'Photoshop_generativefill': nan}"
      ]
     },
     "execution_count": 125,
     "metadata": {},
     "output_type": "execute_result"
    }
   ],
   "source": [
    "model.get_model_accuracy_binary_per_gen(data_test.features,\n",
    "                                        data_test.label,\n",
    "                                        data_test.gen,\n",
    "                                        device,\n",
    "                                        True,\n",
    "                                        GEN_TO_INT_OOD)"
   ]
  },
  {
   "cell_type": "markdown",
   "metadata": {},
   "source": [
    "### Test sur long caption avec et sans fine-tune"
   ]
  },
  {
   "cell_type": "code",
   "execution_count": 43,
   "metadata": {},
   "outputs": [
    {
     "name": "stdout",
     "output_type": "stream",
     "text": [
      "Binary accuracy on long caption images:    0.8497109413146973\n",
      "Fine-tune accuracy on long caption images: 0.8323699235916138\n"
     ]
    }
   ],
   "source": [
    "path_fine_tune = \"./checkpoints/binary_train_AID_fine_tune_pairs_loss=0.000141876342240721.pt\"\n",
    "model = MultiClassClassifier(n_classes=2).to(device)\n",
    "model.load_state_dict(torch.load(path_no_fine_tune))\n",
    "\n",
    "model_fine_tuned = MultiClassClassifier(n_classes=2).to(device)\n",
    "model_fine_tuned.load_state_dict(torch.load(path_fine_tune))\n",
    "\n",
    "model.eval()\n",
    "model_fine_tuned.eval()\n",
    "\n",
    "long_caption = LongCaption(path=\"/data4/saland/data/LongCaption.pt\", load_from_disk=True)\n",
    "\n",
    "print(\"Binary accuracy on long caption images:   \",\n",
    "      model.get_model_accuracy_binary(long_caption.features,\n",
    "                                      long_caption.label,\n",
    "                                      device=device,\n",
    "                                      binary_model=True))\n",
    "\n",
    "print(\"Fine-tune accuracy on long caption images:\",\n",
    "      model_fine_tuned.get_model_accuracy_binary(long_caption.features, \n",
    "                                                 long_caption.label,\n",
    "                                                 device=device,\n",
    "                                                 binary_model=True))"
   ]
  },
  {
   "cell_type": "markdown",
   "metadata": {},
   "source": [
    "### binary train on 2k real and 2k fake"
   ]
  },
  {
   "cell_type": "code",
   "execution_count": 16,
   "metadata": {},
   "outputs": [
    {
     "name": "stderr",
     "output_type": "stream",
     "text": [
      "Loading pipeline components...: 100%|██████████| 7/7 [00:00<00:00,  8.71it/s]\n"
     ]
    }
   ],
   "source": [
    "device = \"cuda:0\"\n",
    "model = MultiClassClassifier(n_classes=2).to(device)\n",
    "model.train()\n",
    "\n",
    "lr = 1e-3\n",
    "batch_size = 32\n",
    "n_epochs = 1000\n",
    "n_imgs = 100\n",
    "\n",
    "loss_fn = nn.CrossEntropyLoss()\n",
    "optimizer = torch.optim.SGD(model.parameters(), lr=lr)\n",
    "\n",
    "model.train()\n",
    "rng = torch.Generator().manual_seed(SEED)\n",
    "data = FlickrAndPairs(path=\"/data4/saland/data/flickr_and_pairs.pt\",load_from_disk=True)\n",
    "train_loader = DataLoader(data,batch_size=batch_size,shuffle=True,generator=rng)"
   ]
  },
  {
   "cell_type": "code",
   "execution_count": 17,
   "metadata": {},
   "outputs": [
    {
     "name": "stdout",
     "output_type": "stream",
     "text": [
      "loss: 0.269820  [   10/ 1000]\n",
      "loss: 0.157849  [   20/ 1000]\n",
      "loss: 0.176283  [   30/ 1000]\n",
      "loss: 0.149830  [   40/ 1000]\n",
      "loss: 0.140617  [   50/ 1000]\n",
      "loss: 0.042105  [   60/ 1000]\n",
      "loss: 0.099369  [   70/ 1000]\n",
      "loss: 0.075113  [   80/ 1000]\n",
      "loss: 0.076206  [   90/ 1000]\n",
      "loss: 0.068029  [  100/ 1000]\n",
      "loss: 0.248594  [  110/ 1000]\n",
      "loss: 0.111453  [  120/ 1000]\n",
      "loss: 0.043236  [  130/ 1000]\n",
      "loss: 0.202720  [  140/ 1000]\n",
      "loss: 0.067745  [  150/ 1000]\n",
      "loss: 0.040435  [  160/ 1000]\n",
      "loss: 0.137027  [  170/ 1000]\n",
      "loss: 0.033260  [  180/ 1000]\n",
      "loss: 0.069979  [  190/ 1000]\n",
      "loss: 0.066299  [  200/ 1000]\n",
      "loss: 0.033896  [  210/ 1000]\n",
      "loss: 0.086148  [  220/ 1000]\n",
      "loss: 0.025908  [  230/ 1000]\n",
      "loss: 0.062900  [  240/ 1000]\n",
      "loss: 0.020051  [  250/ 1000]\n",
      "loss: 0.013125  [  260/ 1000]\n",
      "loss: 0.060616  [  270/ 1000]\n",
      "loss: 0.051703  [  280/ 1000]\n",
      "loss: 0.061759  [  290/ 1000]\n",
      "loss: 0.036497  [  300/ 1000]\n",
      "loss: 0.080175  [  310/ 1000]\n",
      "loss: 0.012316  [  320/ 1000]\n",
      "loss: 0.040560  [  330/ 1000]\n",
      "loss: 0.053679  [  340/ 1000]\n",
      "loss: 0.076206  [  350/ 1000]\n",
      "loss: 0.012234  [  360/ 1000]\n",
      "loss: 0.060335  [  370/ 1000]\n",
      "loss: 0.042479  [  380/ 1000]\n",
      "loss: 0.021495  [  390/ 1000]\n",
      "loss: 0.019407  [  400/ 1000]\n",
      "loss: 0.024080  [  410/ 1000]\n",
      "loss: 0.021965  [  420/ 1000]\n",
      "loss: 0.019953  [  430/ 1000]\n",
      "loss: 0.010797  [  440/ 1000]\n",
      "loss: 0.012435  [  450/ 1000]\n",
      "loss: 0.027529  [  460/ 1000]\n",
      "loss: 0.020876  [  470/ 1000]\n",
      "loss: 0.009435  [  480/ 1000]\n",
      "loss: 0.023209  [  490/ 1000]\n",
      "loss: 0.024683  [  500/ 1000]\n",
      "loss: 0.029251  [  510/ 1000]\n",
      "loss: 0.026509  [  520/ 1000]\n",
      "loss: 0.014658  [  530/ 1000]\n",
      "loss: 0.018451  [  540/ 1000]\n",
      "loss: 0.011723  [  550/ 1000]\n",
      "loss: 0.016005  [  560/ 1000]\n",
      "loss: 0.024413  [  570/ 1000]\n",
      "loss: 0.005658  [  580/ 1000]\n",
      "loss: 0.025629  [  590/ 1000]\n",
      "loss: 0.036386  [  600/ 1000]\n",
      "loss: 0.016561  [  610/ 1000]\n",
      "loss: 0.015456  [  620/ 1000]\n",
      "loss: 0.010701  [  630/ 1000]\n",
      "loss: 0.004549  [  640/ 1000]\n",
      "loss: 0.018143  [  650/ 1000]\n",
      "loss: 0.006825  [  660/ 1000]\n",
      "loss: 0.016399  [  670/ 1000]\n",
      "loss: 0.017266  [  680/ 1000]\n",
      "loss: 0.016062  [  690/ 1000]\n",
      "loss: 0.013728  [  700/ 1000]\n",
      "loss: 0.008115  [  710/ 1000]\n",
      "loss: 0.018838  [  720/ 1000]\n",
      "loss: 0.009211  [  730/ 1000]\n",
      "loss: 0.003876  [  740/ 1000]\n",
      "loss: 0.009448  [  750/ 1000]\n",
      "loss: 0.004434  [  760/ 1000]\n",
      "loss: 0.008286  [  770/ 1000]\n",
      "loss: 0.009117  [  780/ 1000]\n",
      "loss: 0.002366  [  790/ 1000]\n",
      "loss: 0.009116  [  800/ 1000]\n",
      "loss: 0.011733  [  810/ 1000]\n",
      "loss: 0.006679  [  820/ 1000]\n",
      "loss: 0.010457  [  830/ 1000]\n",
      "loss: 0.012477  [  840/ 1000]\n",
      "loss: 0.005901  [  850/ 1000]\n",
      "loss: 0.012429  [  860/ 1000]\n",
      "loss: 0.006582  [  870/ 1000]\n",
      "loss: 0.006456  [  880/ 1000]\n",
      "loss: 0.004607  [  890/ 1000]\n",
      "loss: 0.008893  [  900/ 1000]\n",
      "loss: 0.008054  [  910/ 1000]\n",
      "loss: 0.006529  [  920/ 1000]\n",
      "loss: 0.002978  [  930/ 1000]\n",
      "loss: 0.006592  [  940/ 1000]\n",
      "loss: 0.002078  [  950/ 1000]\n",
      "loss: 0.007428  [  960/ 1000]\n",
      "loss: 0.005072  [  970/ 1000]\n",
      "loss: 0.003649  [  980/ 1000]\n",
      "loss: 0.008940  [  990/ 1000]\n",
      "loss: 0.006316  [ 1000/ 1000]\n"
     ]
    }
   ],
   "source": [
    "loss_history = []\n",
    "for epoch in range(1,n_epochs+1):\n",
    "    for idx, batch in enumerate(train_loader):\n",
    "        # prediction and loss\n",
    "        pred = model((batch[\"features\"]).to(device))\n",
    "        loss = loss_fn(pred,batch[\"label\"].type(torch.LongTensor).to(device))\n",
    "\n",
    "        # backpropagation\n",
    "        loss.backward()\n",
    "        optimizer.step()\n",
    "        optimizer.zero_grad()\n",
    "        \n",
    "    loss, current = loss.item(), idx*batch_size + len(batch[\"features\"])\n",
    "    if epoch%10 == 0 and epoch > 0:\n",
    "        loss_history.append(loss)\n",
    "        print(f\"loss: {loss:>7f}  [{epoch:>5d}/{n_epochs:>5d}]\")"
   ]
  },
  {
   "cell_type": "code",
   "execution_count": 32,
   "metadata": {},
   "outputs": [
    {
     "name": "stderr",
     "output_type": "stream",
     "text": [
      "filtering: 100%|██████████| 5/5 [00:00<00:00, 5579.02it/s]\n"
     ]
    },
    {
     "data": {
      "text/plain": [
       "0.8340000510215759"
      ]
     },
     "execution_count": 32,
     "metadata": {},
     "output_type": "execute_result"
    }
   ],
   "source": [
    "model = MultiClassClassifier(n_classes=2).to(device)\n",
    "model.load_state_dict(torch.load(\"checkpoints/binary_train_real2k_fake1999.pt\"))\n",
    "# data_test = DeepFakeTest(path_to_data=\"/data4/saland/data/df_test_60000.pt\", load_from_disk=True)\n",
    "data_test = OOD(path_to_data=\"/data4/saland/data/ood.pt\", load_preprocessed=True, remove_blacklisted_gen=True)\n",
    "model.eval()\n",
    "model.get_model_accuracy_binary(data_test.features,\n",
    "                                data_test.label,device,\n",
    "                                binary_model=True)"
   ]
  },
  {
   "cell_type": "code",
   "execution_count": 20,
   "metadata": {},
   "outputs": [],
   "source": [
    "# torch.save(model.state_dict(),\"./checkpoints/binary_train_real2k_fake1999.pt\")"
   ]
  },
  {
   "cell_type": "code",
   "execution_count": 34,
   "metadata": {},
   "outputs": [],
   "source": [
    "meta = TestMeta(path=\"/data4/saland/data/test_meta.pt\",\n",
    "                load_from_disk=True)"
   ]
  },
  {
   "cell_type": "markdown",
   "metadata": {},
   "source": [
    "# Fine tuning on Test Meta"
   ]
  },
  {
   "cell_type": "code",
   "execution_count": 43,
   "metadata": {},
   "outputs": [],
   "source": [
    "device = \"cpu\"\n",
    "model = MultiClassClassifier(n_classes=2).to(device)\n",
    "model.load_state_dict(torch.load(\"./checkpoints/binary_train_real2k_fake1999.pt\"))\n",
    "model.eval()\n",
    "\n",
    "rng = torch.Generator().manual_seed(SEED)\n",
    "\n",
    "data = TestMeta(path=\"/data4/saland/data/test_meta.pt\",load_from_disk=True)\n",
    "train_data, test_data = random_split(data, [0.8, 0.2],generator=rng)\n",
    "\n",
    "train_loader = DataLoader(train_data, batch_size=64,shuffle=True,generator=rng)\n",
    "test_loader  = DataLoader(test_data,batch_size=len(test_data))"
   ]
  },
  {
   "cell_type": "markdown",
   "metadata": {},
   "source": [
    "### Accuracy on meta test before fine tuning"
   ]
  },
  {
   "cell_type": "code",
   "execution_count": 44,
   "metadata": {},
   "outputs": [
    {
     "data": {
      "text/plain": [
       "{'Source_2_animagineXL3': 0.800000011920929,\n",
       " 'Source_29_SDXL': 0.5076923370361328,\n",
       " 'Source_7_gigaGan': 0.34567901492118835,\n",
       " 'Copilot_images': 0.9605262875556946,\n",
       " 'Source_32_Dreamshaper': 0.921875,\n",
       " 'Source_9_10_kandinsky': 0.7843137383460999,\n",
       " 'LongCaptions': 0.8068181872367859,\n",
       " 'Source_25_SD1_5': 0.3650793731212616,\n",
       " 'Lexica_images': 0.9145299196243286,\n",
       " 'Source_6_dreamlike': 0.6379310488700867,\n",
       " 'MidJourneyV6': 0.8947368264198303,\n",
       " 'Leonardo_images': 0.72826087474823,\n",
       " 'Source_27_SD2_1': 0.4893617033958435,\n",
       " 'Source_30_31_stylegan2_3': 0.12087912112474442,\n",
       " 'Source_17_pixartAlpha': 0.8309859037399292,\n",
       " 'null': 0.9373825788497925,\n",
       " 'Source_21_playground': 0.859375,\n",
       " 'Source_18_pixartSigma': 0.78125,\n",
       " 'Source_4_DF-XL': 0.1358024626970291,\n",
       " 'Ideogram_images': 0.8051947951316833}"
      ]
     },
     "metadata": {},
     "output_type": "display_data"
    }
   ],
   "source": [
    "generators = list(set(data.gen_original_name))\n",
    "d = {gen : {\"features\":torch.empty((0,CLIP_FEATURE_DIM)), \n",
    "            \"label\":torch.empty(0)} for gen in generators}\n",
    "\n",
    "for e in test_loader:\n",
    "    for i, features in enumerate(e[\"features\"]):\n",
    "        gen = e[\"gen_original_name\"][i]\n",
    "        label = e[\"label\"][i]\n",
    "        d[gen][\"features\"] = torch.cat((d[gen][\"features\"],features.unsqueeze(0)),dim=0)\n",
    "        d[gen][\"label\"] = torch.cat((d[gen][\"label\"],label.unsqueeze(0)),dim=0)\n",
    "\n",
    "acc = {}\n",
    "for gen in d:\n",
    "    acc[gen] = model.get_model_accuracy_binary(d[gen][\"features\"],\n",
    "                                               d[gen][\"label\"],\n",
    "                                               binary_model=True,\n",
    "                                               device = device)\n",
    "\n",
    "display(acc)"
   ]
  },
  {
   "cell_type": "markdown",
   "metadata": {},
   "source": [
    "### fine-tuning"
   ]
  },
  {
   "cell_type": "code",
   "execution_count": 45,
   "metadata": {},
   "outputs": [
    {
     "data": {
      "text/plain": [
       "MultiClassClassifier(\n",
       "  (fc1): Linear(in_features=768, out_features=512, bias=True)\n",
       "  (fc2): Linear(in_features=512, out_features=2, bias=True)\n",
       "  (act): ReLU()\n",
       ")"
      ]
     },
     "execution_count": 45,
     "metadata": {},
     "output_type": "execute_result"
    }
   ],
   "source": [
    "lr = 1e-3\n",
    "batch_size = 64\n",
    "n_epochs = 200\n",
    "\n",
    "loss_fn = nn.CrossEntropyLoss()\n",
    "optimizer = torch.optim.SGD(model.parameters(), lr=lr)\n",
    "\n",
    "model.train()"
   ]
  },
  {
   "cell_type": "code",
   "execution_count": 46,
   "metadata": {},
   "outputs": [
    {
     "name": "stdout",
     "output_type": "stream",
     "text": [
      "loss: 0.041811  [   10/  200]\n",
      "loss: 0.222908  [   20/  200]\n",
      "loss: 0.012555  [   30/  200]\n",
      "loss: 0.120002  [   40/  200]\n",
      "loss: 0.015896  [   50/  200]\n",
      "loss: 0.020531  [   60/  200]\n",
      "loss: 0.045851  [   70/  200]\n",
      "loss: 0.045070  [   80/  200]\n",
      "loss: 0.032931  [   90/  200]\n",
      "loss: 0.005113  [  100/  200]\n",
      "loss: 0.052948  [  110/  200]\n",
      "loss: 0.527596  [  120/  200]\n",
      "loss: 0.073503  [  130/  200]\n",
      "loss: 0.001805  [  140/  200]\n",
      "loss: 0.019284  [  150/  200]\n",
      "loss: 0.090728  [  160/  200]\n",
      "loss: 0.013563  [  170/  200]\n",
      "loss: 0.025673  [  180/  200]\n",
      "loss: 0.094159  [  190/  200]\n",
      "loss: 0.106813  [  200/  200]\n"
     ]
    }
   ],
   "source": [
    "loss_history = []\n",
    "for epoch in range(1,n_epochs+1):\n",
    "    for idx, batch in enumerate(train_loader):\n",
    "        # prediction and loss\n",
    "        pred = model((batch[\"features\"]).to(device))\n",
    "        loss = loss_fn(pred,batch[\"label\"].type(torch.LongTensor).to(device))\n",
    "\n",
    "        # backpropagation\n",
    "        loss.backward()\n",
    "        optimizer.step()\n",
    "        optimizer.zero_grad()\n",
    "        \n",
    "    loss, current = loss.item(), idx*batch_size + len(batch[\"features\"])\n",
    "    if epoch%10 == 0 and epoch > 0:\n",
    "        loss_history.append(loss)\n",
    "        print(f\"loss: {loss:>7f}  [{epoch:>5d}/{n_epochs:>5d}]\")"
   ]
  },
  {
   "cell_type": "markdown",
   "metadata": {},
   "source": [
    "### Accuracy on Test Meta after fine-tuning"
   ]
  },
  {
   "cell_type": "code",
   "execution_count": 47,
   "metadata": {},
   "outputs": [
    {
     "data": {
      "text/plain": [
       "{'Source_2_animagineXL3': 1.0,\n",
       " 'Source_29_SDXL': 0.9384615421295166,\n",
       " 'Source_7_gigaGan': 0.8888888955116272,\n",
       " 'Copilot_images': 1.0,\n",
       " 'Source_32_Dreamshaper': 0.96875,\n",
       " 'Source_9_10_kandinsky': 1.0,\n",
       " 'LongCaptions': 0.9431818127632141,\n",
       " 'Source_25_SD1_5': 0.920634925365448,\n",
       " 'Lexica_images': 0.9743589758872986,\n",
       " 'Source_6_dreamlike': 0.982758641242981,\n",
       " 'MidJourneyV6': 0.9736841917037964,\n",
       " 'Leonardo_images': 0.8804348111152649,\n",
       " 'Source_27_SD2_1': 0.957446813583374,\n",
       " 'Source_30_31_stylegan2_3': 0.9890109896659851,\n",
       " 'Source_17_pixartAlpha': 0.98591548204422,\n",
       " 'null': 0.9768315553665161,\n",
       " 'Source_21_playground': 0.953125,\n",
       " 'Source_18_pixartSigma': 1.0,\n",
       " 'Source_4_DF-XL': 0.9506173133850098,\n",
       " 'Ideogram_images': 0.9740259647369385}"
      ]
     },
     "metadata": {},
     "output_type": "display_data"
    }
   ],
   "source": [
    "d = {gen : {\"features\":torch.empty((0,CLIP_FEATURE_DIM)), \n",
    "            \"label\":torch.empty(0)} for gen in generators}\n",
    "\n",
    "for e in test_loader:\n",
    "    for i, features in enumerate(e[\"features\"]):\n",
    "        gen = e[\"gen_original_name\"][i]\n",
    "        label = e[\"label\"][i]\n",
    "        d[gen][\"features\"] = torch.cat((d[gen][\"features\"],features.unsqueeze(0)),dim=0)\n",
    "        d[gen][\"label\"] = torch.cat((d[gen][\"label\"],label.unsqueeze(0)),dim=0)\n",
    "\n",
    "acc = {}\n",
    "for gen in d:\n",
    "    acc[gen] = model.get_model_accuracy_binary(d[gen][\"features\"],\n",
    "                                               d[gen][\"label\"],\n",
    "                                               binary_model=True,\n",
    "                                               device = device)\n",
    "\n",
    "display(acc)"
   ]
  },
  {
   "cell_type": "code",
   "execution_count": 49,
   "metadata": {},
   "outputs": [],
   "source": [
    "torch.save(model.state_dict(),\"./checkpoints/binary_train_real_fake_2k_fine_tune_meta_test.pt\")"
   ]
  },
  {
   "cell_type": "markdown",
   "metadata": {},
   "source": [
    "### test fine-tuned on OOD"
   ]
  },
  {
   "cell_type": "code",
   "execution_count": 52,
   "metadata": {},
   "outputs": [
    {
     "name": "stderr",
     "output_type": "stream",
     "text": [
      "filtering: 100%|██████████| 5/5 [00:00<00:00, 4355.46it/s]\n"
     ]
    },
    {
     "name": "stdout",
     "output_type": "stream",
     "text": [
      "accuracy on OOD before fine-tuning on meta test: 0.8339999914169312\n",
      "accuracy on OOD after fine-tuning on meta test:  0.906000018119812\n",
      "accuracy on test meta before fine-tuning on test meta: 0.785647451877594\n",
      "accuracy on test meta after fine-tuning on test meta:  0.9706708192825317\n"
     ]
    }
   ],
   "source": [
    "model = MultiClassClassifier(n_classes=2)\n",
    "model.load_state_dict(torch.load(\"./checkpoints/binary_train_real2k_fake1999.pt\"))\n",
    "model.eval()\n",
    "\n",
    "model_fine_tuned = MultiClassClassifier(n_classes=2)\n",
    "model_fine_tuned.load_state_dict(\n",
    "    torch.load(\"./checkpoints/binary_train_real_fake_2k_fine_tune_meta_test.pt\"))\n",
    "model_fine_tuned.eval()\n",
    "\n",
    "data_test_OOD = OOD(\"/data4/saland/data/ood.pt\",\n",
    "                load_preprocessed=True,\n",
    "                device=device,\n",
    "                remove_blacklisted_gen=True)\n",
    "\n",
    "acc = model.get_model_accuracy_binary(data_test_OOD.features,\n",
    "                                      data_test_OOD.label,\n",
    "                                      device,\n",
    "                                      binary_model=True)\n",
    "acc_fine_tuned = model_fine_tuned.get_model_accuracy_binary(data_test_OOD.features,\n",
    "                                                            data_test_OOD.label,\n",
    "                                                            device,\n",
    "                                                            binary_model=True)\n",
    "\n",
    "for e in test_loader:\n",
    "    acc_test_meta = model.get_model_accuracy_binary(e[\"features\"],\n",
    "                                                    e[\"label\"],\n",
    "                                                    device,\n",
    "                                                    binary_model=True)\n",
    "    acc_test_meta_fine_tuned = model_fine_tuned.get_model_accuracy_binary(e[\"features\"],\n",
    "                                                                          e[\"label\"],\n",
    "                                                                          device,\n",
    "                                                                          True)\n",
    "\n",
    "print(\"accuracy on OOD before fine-tuning on meta test:\",acc)\n",
    "print(\"accuracy on OOD after fine-tuning on meta test: \",acc_fine_tuned)\n",
    "print(\"accuracy on test meta before fine-tuning on test meta:\",acc_test_meta)\n",
    "print(\"accuracy on test meta after fine-tuning on test meta: \",acc_test_meta_fine_tuned)"
   ]
  }
 ],
 "metadata": {
  "kernelspec": {
   "display_name": "Python 3",
   "language": "python",
   "name": "python3"
  },
  "language_info": {
   "codemirror_mode": {
    "name": "ipython",
    "version": 3
   },
   "file_extension": ".py",
   "mimetype": "text/x-python",
   "name": "python",
   "nbconvert_exporter": "python",
   "pygments_lexer": "ipython3",
   "version": "3.11.9"
  }
 },
 "nbformat": 4,
 "nbformat_minor": 2
}
